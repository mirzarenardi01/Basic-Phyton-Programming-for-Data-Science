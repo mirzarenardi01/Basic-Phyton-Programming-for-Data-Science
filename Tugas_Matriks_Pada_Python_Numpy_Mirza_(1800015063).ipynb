{
  "nbformat": 4,
  "nbformat_minor": 0,
  "metadata": {
    "colab": {
      "name": "Tugas Matriks Pada Python Numpy Mirza (1800015063).ipynb",
      "provenance": [],
      "collapsed_sections": [],
      "authorship_tag": "ABX9TyO4Wm62FwrXnwqjYaNli/+F",
      "include_colab_link": true
    },
    "kernelspec": {
      "name": "python3",
      "display_name": "Python 3"
    },
    "language_info": {
      "name": "python"
    }
  },
  "cells": [
    {
      "cell_type": "markdown",
      "metadata": {
        "id": "view-in-github",
        "colab_type": "text"
      },
      "source": [
        "<a href=\"https://colab.research.google.com/github/mirzarenardi01/Basic-Phyton-Programming-for-Data-Science/blob/main/Tugas_Matriks_Pada_Python_Numpy_Mirza_(1800015063).ipynb\" target=\"_parent\"><img src=\"https://colab.research.google.com/assets/colab-badge.svg\" alt=\"Open In Colab\"/></a>"
      ]
    },
    {
      "cell_type": "code",
      "metadata": {
        "id": "isvV34cLQ1Cu"
      },
      "source": [
        "import numpy as np"
      ],
      "execution_count": 72,
      "outputs": []
    },
    {
      "cell_type": "markdown",
      "metadata": {
        "id": "IrYxgqXPju0E"
      },
      "source": [
        "# 1. Membuat Numpy Array"
      ]
    },
    {
      "cell_type": "code",
      "metadata": {
        "id": "zEMxsgLLj7jQ",
        "colab": {
          "base_uri": "https://localhost:8080/"
        },
        "outputId": "fdd5e6a2-c9e7-4951-dafd-c16fc8da9de6"
      },
      "source": [
        "array1 = np.array([1, 3, 5, 7, 2, 4, 6, 8])\n",
        "print(array1)\n",
        "print(array1.shape) # ukuran array\n",
        "print(array1.dtype) # tipe data elemen array\n",
        "print(array1.ndim)\n",
        "print(array1.size) # jumlah elemen\n",
        "print(array1.itemsize)"
      ],
      "execution_count": 113,
      "outputs": [
        {
          "output_type": "stream",
          "text": [
            "[1 3 5 7 2 4 6 8]\n",
            "(8,)\n",
            "int64\n",
            "1\n",
            "8\n",
            "8\n"
          ],
          "name": "stdout"
        }
      ]
    },
    {
      "cell_type": "code",
      "metadata": {
        "colab": {
          "base_uri": "https://localhost:8080/"
        },
        "id": "_GK3d_hr8o4n",
        "outputId": "37b7a003-bf04-4e3c-fbad-d24f8ab8dc00"
      },
      "source": [
        "array2 = np.array([9, 11, 13, 15, 10, 12, 14, 16])\n",
        "print(array2)\n",
        "print(array1[array2 < 15])"
      ],
      "execution_count": 111,
      "outputs": [
        {
          "output_type": "stream",
          "text": [
            "[ 9 11 13 15 10 12 14 16]\n",
            "[1 3 5 2 4 6]\n"
          ],
          "name": "stdout"
        }
      ]
    },
    {
      "cell_type": "markdown",
      "metadata": {
        "id": "T61UXmyaj8t0"
      },
      "source": [
        "# 2. Vektor dengan Numpy Array"
      ]
    },
    {
      "cell_type": "code",
      "metadata": {
        "id": "mDC-ZM44kFJe",
        "colab": {
          "base_uri": "https://localhost:8080/"
        },
        "outputId": "0ccbc578-3113-4683-bd5c-a83f7283eda4"
      },
      "source": [
        "a = np.array([3,1,3,2,3,3,3,4])\n",
        "b = np.array([5, 4, 7, 8, 3, 9, 2, 1])\n",
        "c = np.arange(1,11,2)\n",
        "print(a)\n",
        "print(b)\n",
        "print(c)"
      ],
      "execution_count": 25,
      "outputs": [
        {
          "output_type": "stream",
          "text": [
            "[3 1 3 2 3 3 3 4]\n",
            "[5 4 7 8 3 9 2 1]\n",
            "[1 3 5 7 9]\n"
          ],
          "name": "stdout"
        }
      ]
    },
    {
      "cell_type": "markdown",
      "metadata": {
        "id": "cCV3mfVUkF0a"
      },
      "source": [
        "# 3. Operasi Vektor"
      ]
    },
    {
      "cell_type": "markdown",
      "metadata": {
        "id": "dVs5Ad3fkLlg"
      },
      "source": [
        "a. Penjumlahan"
      ]
    },
    {
      "cell_type": "code",
      "metadata": {
        "id": "UzbXZ8p1kPh4",
        "colab": {
          "base_uri": "https://localhost:8080/"
        },
        "outputId": "ff857c18-bc83-4e49-d2d9-478fb215043e"
      },
      "source": [
        "hasil = a + b\n",
        "print(hasil)"
      ],
      "execution_count": 28,
      "outputs": [
        {
          "output_type": "stream",
          "text": [
            "[ 8  5 10 10  6 12  5  5]\n"
          ],
          "name": "stdout"
        }
      ]
    },
    {
      "cell_type": "markdown",
      "metadata": {
        "id": "klbz404QkQnB"
      },
      "source": [
        "b. Pengurangan"
      ]
    },
    {
      "cell_type": "code",
      "metadata": {
        "id": "RaEeg8P7kTXP",
        "colab": {
          "base_uri": "https://localhost:8080/"
        },
        "outputId": "5f26f19b-3159-4a45-a65c-0eedb6d5f854"
      },
      "source": [
        "hasil = a - b\n",
        "print(hasil)"
      ],
      "execution_count": 27,
      "outputs": [
        {
          "output_type": "stream",
          "text": [
            "[-2 -3 -4 -6  0 -6  1  3]\n"
          ],
          "name": "stdout"
        }
      ]
    },
    {
      "cell_type": "markdown",
      "metadata": {
        "id": "GPMEFbekkT05"
      },
      "source": [
        "c. Perkalian dengan scalar"
      ]
    },
    {
      "cell_type": "code",
      "metadata": {
        "id": "TPAIPy_ukcbb",
        "colab": {
          "base_uri": "https://localhost:8080/"
        },
        "outputId": "b14b9dd1-10da-4f22-d243-8609590f2e5b"
      },
      "source": [
        "hasil = 3*c\n",
        "print(hasil)"
      ],
      "execution_count": 30,
      "outputs": [
        {
          "output_type": "stream",
          "text": [
            "[ 3  9 15 21 27]\n"
          ],
          "name": "stdout"
        }
      ]
    },
    {
      "cell_type": "markdown",
      "metadata": {
        "id": "8YMLmFxMkfBV"
      },
      "source": [
        "# 4. Matriks dengan Numpy Array"
      ]
    },
    {
      "cell_type": "code",
      "metadata": {
        "id": "RtVsnzZGkl8K",
        "colab": {
          "base_uri": "https://localhost:8080/"
        },
        "outputId": "adc0e22d-ec4c-44e4-b60d-c7230be737fd"
      },
      "source": [
        "data1 = np.array([[1, 2], [3, 4], [5, 6]])\n",
        "data1"
      ],
      "execution_count": 40,
      "outputs": [
        {
          "output_type": "execute_result",
          "data": {
            "text/plain": [
              "array([[1, 2],\n",
              "       [3, 4],\n",
              "       [5, 6]])"
            ]
          },
          "metadata": {
            "tags": []
          },
          "execution_count": 40
        }
      ]
    },
    {
      "cell_type": "code",
      "metadata": {
        "colab": {
          "base_uri": "https://localhost:8080/"
        },
        "id": "qhjAbmg3uxJg",
        "outputId": "5d720e2d-2117-4da8-fe0c-0e794458f7e4"
      },
      "source": [
        "data2 = 2*data1\n",
        "data2"
      ],
      "execution_count": 39,
      "outputs": [
        {
          "output_type": "execute_result",
          "data": {
            "text/plain": [
              "array([[ 2,  4],\n",
              "       [ 6,  8],\n",
              "       [10, 12]])"
            ]
          },
          "metadata": {
            "tags": []
          },
          "execution_count": 39
        }
      ]
    },
    {
      "cell_type": "code",
      "metadata": {
        "colab": {
          "base_uri": "https://localhost:8080/"
        },
        "id": "yoggOTwquIVy",
        "outputId": "0e3fa7d7-71dd-45fe-b41f-1dbd8ecf122e"
      },
      "source": [
        "data1[0, 1]"
      ],
      "execution_count": 41,
      "outputs": [
        {
          "output_type": "execute_result",
          "data": {
            "text/plain": [
              "2"
            ]
          },
          "metadata": {
            "tags": []
          },
          "execution_count": 41
        }
      ]
    },
    {
      "cell_type": "code",
      "metadata": {
        "colab": {
          "base_uri": "https://localhost:8080/"
        },
        "id": "eQaNl3zruUqe",
        "outputId": "3d1edd90-be9c-452c-e69d-f62ee1e76473"
      },
      "source": [
        "data1[1:4]"
      ],
      "execution_count": 42,
      "outputs": [
        {
          "output_type": "execute_result",
          "data": {
            "text/plain": [
              "array([[3, 4],\n",
              "       [5, 6]])"
            ]
          },
          "metadata": {
            "tags": []
          },
          "execution_count": 42
        }
      ]
    },
    {
      "cell_type": "code",
      "metadata": {
        "colab": {
          "base_uri": "https://localhost:8080/"
        },
        "id": "bgInErkxuWSO",
        "outputId": "0d125b52-cc80-417f-e35c-48258c53ff78"
      },
      "source": [
        "data1[0:3, 1]"
      ],
      "execution_count": 43,
      "outputs": [
        {
          "output_type": "execute_result",
          "data": {
            "text/plain": [
              "array([2, 4, 6])"
            ]
          },
          "metadata": {
            "tags": []
          },
          "execution_count": 43
        }
      ]
    },
    {
      "cell_type": "markdown",
      "metadata": {
        "id": "8ZGKGw12kmfL"
      },
      "source": [
        "# 5. Operasi Matriks"
      ]
    },
    {
      "cell_type": "markdown",
      "metadata": {
        "id": "zj4rRQ_pks_1"
      },
      "source": [
        "a. Penjumlahan"
      ]
    },
    {
      "cell_type": "code",
      "metadata": {
        "id": "I6ObzyPykyL1",
        "colab": {
          "base_uri": "https://localhost:8080/"
        },
        "outputId": "0592f2cc-1219-4645-ddfe-d4764fce16d3"
      },
      "source": [
        "hasil = data1 + data2\n",
        "print(np.transpose(hasil))"
      ],
      "execution_count": 47,
      "outputs": [
        {
          "output_type": "stream",
          "text": [
            "[[ 3  9 15]\n",
            " [ 6 12 18]]\n"
          ],
          "name": "stdout"
        }
      ]
    },
    {
      "cell_type": "markdown",
      "metadata": {
        "id": "_pQY2eEPky_B"
      },
      "source": [
        "b. Pengurangan"
      ]
    },
    {
      "cell_type": "code",
      "metadata": {
        "id": "7bJVT4Rlk2t0",
        "colab": {
          "base_uri": "https://localhost:8080/"
        },
        "outputId": "df47fce5-1ca5-4e38-e704-49e476f77496"
      },
      "source": [
        "hasil = data2 - data1\n",
        "print(hasil)"
      ],
      "execution_count": 48,
      "outputs": [
        {
          "output_type": "stream",
          "text": [
            "[[1 2]\n",
            " [3 4]\n",
            " [5 6]]\n"
          ],
          "name": "stdout"
        }
      ]
    },
    {
      "cell_type": "markdown",
      "metadata": {
        "id": "NkI6AnT4k3V_"
      },
      "source": [
        "c. Perkalian dengan scalar"
      ]
    },
    {
      "cell_type": "code",
      "metadata": {
        "id": "JE911VXpk8my",
        "colab": {
          "base_uri": "https://localhost:8080/"
        },
        "outputId": "618b2537-ab54-4749-9e40-fb309b25ad88"
      },
      "source": [
        "4*data1"
      ],
      "execution_count": 50,
      "outputs": [
        {
          "output_type": "execute_result",
          "data": {
            "text/plain": [
              "array([[ 4,  8],\n",
              "       [12, 16],\n",
              "       [20, 24]])"
            ]
          },
          "metadata": {
            "tags": []
          },
          "execution_count": 50
        }
      ]
    },
    {
      "cell_type": "markdown",
      "metadata": {
        "id": "PbjzcxP1k92G"
      },
      "source": [
        "d. Perkalian matriks"
      ]
    },
    {
      "cell_type": "code",
      "metadata": {
        "id": "RlErFdbllAtz",
        "colab": {
          "base_uri": "https://localhost:8080/"
        },
        "outputId": "4a5d0dd4-a47d-4bf8-ac38-69bd95c6584f"
      },
      "source": [
        "hasil = data1 * data2\n",
        "print(hasil)"
      ],
      "execution_count": 56,
      "outputs": [
        {
          "output_type": "stream",
          "text": [
            "[[ 2  8]\n",
            " [18 32]\n",
            " [50 72]]\n"
          ],
          "name": "stdout"
        }
      ]
    },
    {
      "cell_type": "markdown",
      "metadata": {
        "id": "XyhlS29klB7k"
      },
      "source": [
        "# 6. Dot Product dan Cross Product"
      ]
    },
    {
      "cell_type": "code",
      "metadata": {
        "id": "OukX9UTulJUF",
        "colab": {
          "base_uri": "https://localhost:8080/"
        },
        "outputId": "48387df6-a48b-4e65-9478-6cb1039c0c8d"
      },
      "source": [
        "data1 = np.array([[1, 2], [3, 4], [5, 6]])\n",
        "data2 = data1.T\n",
        "# perkalian dot\n",
        "c1 = np.dot(data1, data2)\n",
        "print(c1)"
      ],
      "execution_count": 123,
      "outputs": [
        {
          "output_type": "stream",
          "text": [
            "[[ 5 11 17]\n",
            " [11 25 39]\n",
            " [17 39 61]]\n"
          ],
          "name": "stdout"
        }
      ]
    },
    {
      "cell_type": "code",
      "metadata": {
        "colab": {
          "base_uri": "https://localhost:8080/"
        },
        "id": "wZOlXohLy7EL",
        "outputId": "7fbf3b94-ab0a-49ff-9010-bb5140a56c2b"
      },
      "source": [
        "data1 = np.array([[1, 2], [3, 4], [5, 6]])\n",
        "data2 = np.array([[2, 4], [0, 8], [3, 9]])\n",
        "# perkalian cross\n",
        "c2 = np.cross(data1,data2)\n",
        "print(c2)"
      ],
      "execution_count": 109,
      "outputs": [
        {
          "output_type": "stream",
          "text": [
            "[ 0 24 27]\n"
          ],
          "name": "stdout"
        }
      ]
    },
    {
      "cell_type": "markdown",
      "metadata": {
        "id": "yWpPBWw6lKIT"
      },
      "source": [
        "# 7. Aljabar Linear dengan Numpy"
      ]
    },
    {
      "cell_type": "markdown",
      "metadata": {
        "id": "TYIdcWFolTDr"
      },
      "source": [
        "a. Inverse Matriks"
      ]
    },
    {
      "cell_type": "code",
      "metadata": {
        "id": "wK6ivDC2lXw6",
        "colab": {
          "base_uri": "https://localhost:8080/"
        },
        "outputId": "106e9a36-79a3-4c4e-f439-e74bbd2ed9dc"
      },
      "source": [
        "data1 = np.array([[3, 4], [5, 6]])\n",
        "# inverse\n",
        "c = np.linalg.inv(data1)\n",
        "print(c)\n"
      ],
      "execution_count": 83,
      "outputs": [
        {
          "output_type": "stream",
          "text": [
            "[[-3.   2. ]\n",
            " [ 2.5 -1.5]]\n"
          ],
          "name": "stdout"
        }
      ]
    },
    {
      "cell_type": "markdown",
      "metadata": {
        "id": "650E-8hUlYUx"
      },
      "source": [
        "b. Determinan"
      ]
    },
    {
      "cell_type": "code",
      "metadata": {
        "id": "3kTic4_4lb7j",
        "colab": {
          "base_uri": "https://localhost:8080/"
        },
        "outputId": "80c223aa-2da5-4e4c-b19d-e148e3a9c545"
      },
      "source": [
        "data1 = np.array([[3, 4], [5, 6]])\n",
        "# determinant\n",
        "c = np.linalg.det(data1)\n",
        "print(c)\n"
      ],
      "execution_count": 84,
      "outputs": [
        {
          "output_type": "stream",
          "text": [
            "-1.9999999999999971\n"
          ],
          "name": "stdout"
        }
      ]
    },
    {
      "cell_type": "markdown",
      "metadata": {
        "id": "VRskr21Xlpmw"
      },
      "source": [
        "c. Mengambil Elemen Diagonal"
      ]
    },
    {
      "cell_type": "code",
      "metadata": {
        "id": "QEpswCC3lu3u",
        "colab": {
          "base_uri": "https://localhost:8080/"
        },
        "outputId": "40537085-676f-483c-a2eb-054a7a35f3ea"
      },
      "source": [
        "data1 = np.array([[3, 4], [5, 6]])\n",
        "# diag\n",
        "c = np.diag(data1)\n",
        "print(c)\n",
        "\n",
        "# diag on a vector returns diagonal matrix (overloaded function)\n",
        "c = np.diag([2,3])\n",
        "print(c)"
      ],
      "execution_count": 89,
      "outputs": [
        {
          "output_type": "stream",
          "text": [
            "[3 6]\n",
            "[[2 0]\n",
            " [0 3]]\n"
          ],
          "name": "stdout"
        }
      ]
    },
    {
      "cell_type": "markdown",
      "metadata": {
        "id": "pydY16zllvj7"
      },
      "source": [
        "d. Solve Persamaan Linear"
      ]
    },
    {
      "cell_type": "code",
      "metadata": {
        "id": "nOEzGE5Alzc5",
        "colab": {
          "base_uri": "https://localhost:8080/"
        },
        "outputId": "c993bd32-a6a8-4761-f2a1-f23333b5373e"
      },
      "source": [
        "data1 = np.array([[3, 4], [5, 6]])\n",
        "data3 = np.array([6,18])\n",
        "print(data1)\n",
        "print(data3)\n",
        "\n",
        "data1_inv = np.linalg.inv(data1)\n",
        "\n",
        "# menyelesaikan persamaan linear\n",
        "X1 = np.dot(data1_inv,data3)\n",
        "print(X1)\n",
        "\n",
        "# cara lain\n",
        "X2 = np.linalg.solve(data1,data3)\n",
        "print(X2)\n",
        "# menyelesaikan persamaan linear\n",
        "X1 = np.dot(data1_inv,data3)\n",
        "print(X1)\n",
        "\n",
        "# cara lain\n",
        "X2 = np.linalg.solve(data1,data3)\n",
        "print(X2)"
      ],
      "execution_count": 93,
      "outputs": [
        {
          "output_type": "stream",
          "text": [
            "[[3 4]\n",
            " [5 6]]\n",
            "[ 6 18]\n",
            "[ 18. -12.]\n",
            "[ 18. -12.]\n",
            "[ 18. -12.]\n",
            "[ 18. -12.]\n"
          ],
          "name": "stdout"
        }
      ]
    },
    {
      "cell_type": "markdown",
      "metadata": {
        "id": "1NwcLiZsl0Wk"
      },
      "source": [
        "# 8. Principal Component Analysis (PCA) dengan Numpy"
      ]
    },
    {
      "cell_type": "code",
      "metadata": {
        "id": "hb68pZI9mCCm",
        "colab": {
          "base_uri": "https://localhost:8080/"
        },
        "outputId": "93a33b5b-359e-49c1-fae2-798541ff8424"
      },
      "source": [
        "import numpy as np\n",
        "import pandas as pd\n",
        "from numpy.linalg import eig\n",
        "X =np.array([[60, 11, 100],[72, 12, 125], [84, 11, 150], [96, 12, 200]])\n",
        "print(X)\n",
        "mean_X = np.mean(X.T, axis=1, dtype=np.int)\n",
        "print(mean_X)"
      ],
      "execution_count": 95,
      "outputs": [
        {
          "output_type": "stream",
          "text": [
            "[[ 60  11 100]\n",
            " [ 72  12 125]\n",
            " [ 84  11 150]\n",
            " [ 96  12 200]]\n",
            "[ 78  11 143]\n"
          ],
          "name": "stdout"
        }
      ]
    },
    {
      "cell_type": "code",
      "metadata": {
        "colab": {
          "base_uri": "https://localhost:8080/"
        },
        "id": "AhV1RD9V6VUf",
        "outputId": "dcd0f9d7-ec30-4ce1-e598-a3f2e58c7772"
      },
      "source": [
        "center_X= (X - mean_X)\n",
        "print(center_X)"
      ],
      "execution_count": 96,
      "outputs": [
        {
          "output_type": "stream",
          "text": [
            "[[-18   0 -43]\n",
            " [ -6   1 -18]\n",
            " [  6   0   7]\n",
            " [ 18   1  57]]\n"
          ],
          "name": "stdout"
        }
      ]
    },
    {
      "cell_type": "code",
      "metadata": {
        "id": "en6NPahN6dMF"
      },
      "source": [
        "covariance = np.cov(center_X.T)"
      ],
      "execution_count": 97,
      "outputs": []
    },
    {
      "cell_type": "code",
      "metadata": {
        "colab": {
          "base_uri": "https://localhost:8080/"
        },
        "id": "SK_la8CM6kvE",
        "outputId": "741fd6c6-7416-4a5f-ddf5-0bed6b22ee8e"
      },
      "source": [
        "value, vector = eig(covariance)\n",
        "print(value.astype(int))"
      ],
      "execution_count": 98,
      "outputs": [
        {
          "output_type": "stream",
          "text": [
            "[2055    7    0]\n"
          ],
          "name": "stdout"
        }
      ]
    },
    {
      "cell_type": "code",
      "metadata": {
        "colab": {
          "base_uri": "https://localhost:8080/"
        },
        "id": "CD3SNrH66tKT",
        "outputId": "315f58ca-c39f-42fd-bb1f-a1f07cc15b49"
      },
      "source": [
        "vector_with_highest_eigenvalue= vector[:,[0,1]]\n",
        "PCA_calc = vector_with_highest_eigenvalue.T.dot(center_X.T)\n",
        "print(PCA_calc.T)"
      ],
      "execution_count": 99,
      "outputs": [
        {
          "output_type": "stream",
          "text": [
            "[[-46.54989389  -2.46724497]\n",
            " [-18.96229166   0.34651824]\n",
            " [  8.61254741   3.28644517]\n",
            " [ 59.73679925  -2.29989451]]\n"
          ],
          "name": "stdout"
        }
      ]
    },
    {
      "cell_type": "markdown",
      "metadata": {
        "id": "88pe7GsD67yY"
      },
      "source": [
        "Menggunakan sklearn"
      ]
    },
    {
      "cell_type": "code",
      "metadata": {
        "colab": {
          "base_uri": "https://localhost:8080/"
        },
        "id": "sIJnihY966Yg",
        "outputId": "7048b276-e0d7-4654-fc64-0a3ae04be1e6"
      },
      "source": [
        "import numpy as np\n",
        "import pandas as pd\n",
        "from sklearn.decomposition import PCA\n",
        "pca= PCA(n_components=2)\n",
        "pca.fit(X)\n",
        "PCA_value= pca.transform(X)\n",
        "print(PCA_value)"
      ],
      "execution_count": 100,
      "outputs": [
        {
          "output_type": "stream",
          "text": [
            "[[-47.25918417  -2.18370096]\n",
            " [-19.67158194   0.63006226]\n",
            " [  7.90325713   3.56998919]\n",
            " [ 59.02750897  -2.01635049]]\n"
          ],
          "name": "stdout"
        }
      ]
    }
  ]
}