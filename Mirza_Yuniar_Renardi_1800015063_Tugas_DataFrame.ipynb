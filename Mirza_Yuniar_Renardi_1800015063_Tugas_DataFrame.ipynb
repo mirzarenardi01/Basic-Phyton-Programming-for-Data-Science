{
  "nbformat": 4,
  "nbformat_minor": 0,
  "metadata": {
    "colab": {
      "name": "Mirza Yuniar Renardi_1800015063_Tugas_DataFrame.ipynb",
      "provenance": [],
      "collapsed_sections": [],
      "toc_visible": true,
      "include_colab_link": true
    },
    "kernelspec": {
      "name": "python3",
      "display_name": "Python 3"
    },
    "language_info": {
      "name": "python"
    }
  },
  "cells": [
    {
      "cell_type": "markdown",
      "metadata": {
        "id": "view-in-github",
        "colab_type": "text"
      },
      "source": [
        "<a href=\"https://colab.research.google.com/github/mirzarenardi01/Basic-Phyton-Programming-for-Data-Science/blob/main/Mirza_Yuniar_Renardi_1800015063_Tugas_DataFrame.ipynb\" target=\"_parent\"><img src=\"https://colab.research.google.com/assets/colab-badge.svg\" alt=\"Open In Colab\"/></a>"
      ]
    },
    {
      "cell_type": "code",
      "metadata": {
        "id": "TtmVr4SL4uGs"
      },
      "source": [
        "import pandas as pd\n",
        "import numpy as np"
      ],
      "execution_count": 2,
      "outputs": []
    },
    {
      "cell_type": "markdown",
      "metadata": {
        "id": "TQTRIrnnv1d1"
      },
      "source": [
        "## Dataset"
      ]
    },
    {
      "cell_type": "code",
      "metadata": {
        "colab": {
          "base_uri": "https://localhost:8080/",
          "height": 204
        },
        "id": "v1AmW3H0v4js",
        "outputId": "9c5352db-425d-46e4-e626-aeb754e77599"
      },
      "source": [
        "df = pd.read_csv(\"https://raw.githubusercontent.com/jokoeliyanto/Kelas-Dasar-Pejuang-Data-2.0/main/Super-Store-Dataset.csv\")\n",
        "df.head() "
      ],
      "execution_count": 3,
      "outputs": [
        {
          "output_type": "execute_result",
          "data": {
            "text/html": [
              "<div>\n",
              "<style scoped>\n",
              "    .dataframe tbody tr th:only-of-type {\n",
              "        vertical-align: middle;\n",
              "    }\n",
              "\n",
              "    .dataframe tbody tr th {\n",
              "        vertical-align: top;\n",
              "    }\n",
              "\n",
              "    .dataframe thead th {\n",
              "        text-align: right;\n",
              "    }\n",
              "</style>\n",
              "<table border=\"1\" class=\"dataframe\">\n",
              "  <thead>\n",
              "    <tr style=\"text-align: right;\">\n",
              "      <th></th>\n",
              "      <th>order_id</th>\n",
              "      <th>order_date</th>\n",
              "      <th>customer_id</th>\n",
              "      <th>segment</th>\n",
              "      <th>category</th>\n",
              "      <th>sub_category</th>\n",
              "      <th>sales</th>\n",
              "      <th>quantity</th>\n",
              "      <th>profit</th>\n",
              "    </tr>\n",
              "  </thead>\n",
              "  <tbody>\n",
              "    <tr>\n",
              "      <th>0</th>\n",
              "      <td>CA-2016-152156</td>\n",
              "      <td>11/8/2016</td>\n",
              "      <td>CG-12520</td>\n",
              "      <td>Consumer</td>\n",
              "      <td>Furniture</td>\n",
              "      <td>Bookcases</td>\n",
              "      <td>261.9600</td>\n",
              "      <td>2</td>\n",
              "      <td>41.9136</td>\n",
              "    </tr>\n",
              "    <tr>\n",
              "      <th>1</th>\n",
              "      <td>CA-2016-152156</td>\n",
              "      <td>11/8/2016</td>\n",
              "      <td>CG-12520</td>\n",
              "      <td>Consumer</td>\n",
              "      <td>Furniture</td>\n",
              "      <td>Chairs</td>\n",
              "      <td>731.9400</td>\n",
              "      <td>3</td>\n",
              "      <td>219.5820</td>\n",
              "    </tr>\n",
              "    <tr>\n",
              "      <th>2</th>\n",
              "      <td>CA-2016-138688</td>\n",
              "      <td>6/12/2016</td>\n",
              "      <td>DV-13045</td>\n",
              "      <td>Corporate</td>\n",
              "      <td>Office Supplies</td>\n",
              "      <td>Labels</td>\n",
              "      <td>14.6200</td>\n",
              "      <td>2</td>\n",
              "      <td>6.8714</td>\n",
              "    </tr>\n",
              "    <tr>\n",
              "      <th>3</th>\n",
              "      <td>US-2015-108966</td>\n",
              "      <td>10/11/2015</td>\n",
              "      <td>SO-20335</td>\n",
              "      <td>Consumer</td>\n",
              "      <td>Furniture</td>\n",
              "      <td>Tables</td>\n",
              "      <td>957.5775</td>\n",
              "      <td>5</td>\n",
              "      <td>-383.0310</td>\n",
              "    </tr>\n",
              "    <tr>\n",
              "      <th>4</th>\n",
              "      <td>US-2015-108966</td>\n",
              "      <td>10/11/2015</td>\n",
              "      <td>SO-20335</td>\n",
              "      <td>Consumer</td>\n",
              "      <td>Office Supplies</td>\n",
              "      <td>Storage</td>\n",
              "      <td>22.3680</td>\n",
              "      <td>2</td>\n",
              "      <td>2.5164</td>\n",
              "    </tr>\n",
              "  </tbody>\n",
              "</table>\n",
              "</div>"
            ],
            "text/plain": [
              "         order_id  order_date customer_id  ...     sales quantity    profit\n",
              "0  CA-2016-152156   11/8/2016    CG-12520  ...  261.9600        2   41.9136\n",
              "1  CA-2016-152156   11/8/2016    CG-12520  ...  731.9400        3  219.5820\n",
              "2  CA-2016-138688   6/12/2016    DV-13045  ...   14.6200        2    6.8714\n",
              "3  US-2015-108966  10/11/2015    SO-20335  ...  957.5775        5 -383.0310\n",
              "4  US-2015-108966  10/11/2015    SO-20335  ...   22.3680        2    2.5164\n",
              "\n",
              "[5 rows x 9 columns]"
            ]
          },
          "metadata": {
            "tags": []
          },
          "execution_count": 3
        }
      ]
    },
    {
      "cell_type": "markdown",
      "metadata": {
        "id": "fNJlxji43rIv"
      },
      "source": [
        "## Variabel dataset\n",
        "\n",
        "\n",
        "\n",
        "\n"
      ]
    },
    {
      "cell_type": "markdown",
      "metadata": {
        "id": "yELOC18jK11Q"
      },
      "source": [
        "Variabel-variabel yang terdapat pada dataset ini adalah sebagai berikut:\n",
        "1. **order_id** = Nomor ID pembelian(nota)\n",
        "2. **order_data** = Tanggal pembelian\n",
        "3. **customer_id** = Nomor ID pembeli\n",
        "4. **segment** = Segmen produk \n",
        "5. **category** = Kategori produk\n",
        "6. **sub_category** = Sub kategori produk\n",
        "7. **sales** = Total harga pembelian\n",
        "8. **quantity** = Jumlah produk dibeli\n",
        "9. **profit** = Keuntungan"
      ]
    },
    {
      "cell_type": "markdown",
      "metadata": {
        "id": "Aqo2bJTQK6oS"
      },
      "source": [
        ""
      ]
    },
    {
      "cell_type": "markdown",
      "metadata": {
        "id": "igjm48vdp5SF"
      },
      "source": [
        "#Tugas Individu"
      ]
    },
    {
      "cell_type": "markdown",
      "metadata": {
        "id": "FpTHwIfhS5mF"
      },
      "source": [
        "\n",
        "1. Tentukan Segment mana dengan profit tertinggi! [30]\n",
        "2. Tentukan Category mana dengan sales terbanyak!  [30]\n",
        "3. Tentukan Sub-Category dengan quantity paling sedikit! [40]\n",
        "\n",
        "\n",
        "\n",
        "\n",
        "\n",
        "4. **Challange Question!!!  Tentukan Bulan dengan Profit Tertinggi!!!** \n",
        "\n",
        "Bonus Nilai 100 di Salah Satu Tugas Lainnya\n"
      ]
    },
    {
      "cell_type": "markdown",
      "metadata": {
        "id": "lDG1mLPf-lQ_"
      },
      "source": [
        "# Jawaban"
      ]
    },
    {
      "cell_type": "markdown",
      "metadata": {
        "id": "tXNcvh6gs3c3"
      },
      "source": [
        "#**1. Menentukan Segment dengan profit tertinggi**\n",
        "\n"
      ]
    },
    {
      "cell_type": "code",
      "metadata": {
        "colab": {
          "base_uri": "https://localhost:8080/"
        },
        "id": "cDS7rNBYulVQ",
        "outputId": "aea5d7dd-ea50-489c-ae70-88e0adc166e1"
      },
      "source": [
        "#Melihat Segment apa saja yang ada\n",
        "df.segment.value_counts()"
      ],
      "execution_count": 20,
      "outputs": [
        {
          "output_type": "execute_result",
          "data": {
            "text/plain": [
              "Consumer       5188\n",
              "Corporate      3019\n",
              "Home Office    1781\n",
              "Name: segment, dtype: int64"
            ]
          },
          "metadata": {
            "tags": []
          },
          "execution_count": 20
        }
      ]
    },
    {
      "cell_type": "code",
      "metadata": {
        "id": "9I6xmb19vbEC"
      },
      "source": [
        "#Memilih masing-masing segment\n",
        "df_Consumer=df[df['segment']=='Consumer']\n",
        "df_Corporate=df[df['segment']=='Corporate']\n",
        "df_Home_Office=df[df['segment']=='Home office']"
      ],
      "execution_count": 21,
      "outputs": []
    },
    {
      "cell_type": "code",
      "metadata": {
        "colab": {
          "base_uri": "https://localhost:8080/"
        },
        "id": "99IHcbIew8_B",
        "outputId": "1dc4cde9-c33f-4428-fc29-487f5a6cfdbd"
      },
      "source": [
        "#Menentukan segment dengan profit tertinggi\n",
        "cons=df_Consumer.profit.sum()\n",
        "corp=df_Corporate.profit.sum()\n",
        "ho=df_Home_Office.profit.sum()\n",
        "if cons>corp>ho:\n",
        "  print(\"Segment dengan profit terbanyak adalah Consumer dengan profit\",cons)\n",
        "elif corp>ho:\n",
        "  print(\"Segment dengan profit terbanyak adalah Corporate dengan profit\",corp)\n",
        "else: \n",
        "  print(\"Segment dengan profit terbanyak adalah Home Office dengan profit\",ho)"
      ],
      "execution_count": 22,
      "outputs": [
        {
          "output_type": "stream",
          "text": [
            "Segment dengan profit terbanyak adalah Consumer dengan profit 128959.22080000001\n"
          ],
          "name": "stdout"
        }
      ]
    },
    {
      "cell_type": "markdown",
      "metadata": {
        "id": "K98MLkyVy7ix"
      },
      "source": [
        "#**2. Menentukan Category dengan sales terbanyak**"
      ]
    },
    {
      "cell_type": "code",
      "metadata": {
        "colab": {
          "base_uri": "https://localhost:8080/"
        },
        "id": "e712yatAzhgb",
        "outputId": "017b7040-de87-4d61-c60a-db0baaaa1045"
      },
      "source": [
        "#Melihat Category apa saja yang ada\n",
        "df.category.value_counts()"
      ],
      "execution_count": 24,
      "outputs": [
        {
          "output_type": "execute_result",
          "data": {
            "text/plain": [
              "Office Supplies    6026\n",
              "Furniture          2121\n",
              "Technology         1841\n",
              "Name: category, dtype: int64"
            ]
          },
          "metadata": {
            "tags": []
          },
          "execution_count": 24
        }
      ]
    },
    {
      "cell_type": "code",
      "metadata": {
        "id": "VfJRMH6RzwuO"
      },
      "source": [
        "#Memilih masing-masing category\n",
        "df_Office_Supplies=df[df['category']=='Office Supplies']\n",
        "df_Furniture=df[df['category']=='Furniture']\n",
        "df_Technology=df[df['category']=='Technology']"
      ],
      "execution_count": 25,
      "outputs": []
    },
    {
      "cell_type": "code",
      "metadata": {
        "colab": {
          "base_uri": "https://localhost:8080/"
        },
        "id": "JJ8_evxC0X2K",
        "outputId": "32e65b7c-da90-40d1-f3c3-eef137b53cad"
      },
      "source": [
        "#Menentukan category dengan sales terbanyak\n",
        "os=df_Office_Supplies.sales.sum()\n",
        "furn=df_Furniture.sales.sum()\n",
        "tech=df_Technology.sales.sum()\n",
        "if os>furn>tech:\n",
        "  print(\"Category dengan sales terbanyak adalah Office Supplies dengan jumlah\",os)\n",
        "elif furn>tech:\n",
        "  print(\"Category dengan sales terbanyak adalah Furniture dengan jumlah\",furn)\n",
        "else: \n",
        "  print(\"Category dengan sales terbanyak adalah Technology dengan jumlah\",tech)"
      ],
      "execution_count": 26,
      "outputs": [
        {
          "output_type": "stream",
          "text": [
            "Category dengan sales terbanyak adalah Technology dengan jumlah 755815.72\n"
          ],
          "name": "stdout"
        }
      ]
    },
    {
      "cell_type": "markdown",
      "metadata": {
        "id": "xzE35thQ2T5F"
      },
      "source": [
        "# **3. Menentukan Sub-Category dengan quantity paling sedikit**"
      ]
    },
    {
      "cell_type": "code",
      "metadata": {
        "colab": {
          "base_uri": "https://localhost:8080/"
        },
        "id": "bIOk_Cby3jm8",
        "outputId": "1b084f00-0552-4386-9acf-26ecdcd0cf36"
      },
      "source": [
        "df.sub_category.value_counts()"
      ],
      "execution_count": 14,
      "outputs": [
        {
          "output_type": "execute_result",
          "data": {
            "text/plain": [
              "Binders        1523\n",
              "Paper          1370\n",
              "Furnishings     957\n",
              "Phones          889\n",
              "Storage         846\n",
              "Art             796\n",
              "Accessories     775\n",
              "Chairs          617\n",
              "Appliances      466\n",
              "Labels          364\n",
              "Tables          319\n",
              "Envelopes       254\n",
              "Bookcases       228\n",
              "Fasteners       217\n",
              "Supplies        190\n",
              "Machines        113\n",
              "Copiers          64\n",
              "Name: sub_category, dtype: int64"
            ]
          },
          "metadata": {
            "tags": []
          },
          "execution_count": 14
        }
      ]
    },
    {
      "cell_type": "code",
      "metadata": {
        "colab": {
          "base_uri": "https://localhost:8080/"
        },
        "id": "_4RZAVlF3w_j",
        "outputId": "698093d2-1223-479f-f7e7-791664901c74"
      },
      "source": [
        "SubCategory=df.groupby('sub_category').quantity.sum()\n",
        "print(SubCategory)\n",
        "jumlah=min(SubCategory)\n",
        "a=SubCategory.idxmin()\n",
        "\n",
        "print(\"--------------------------------------------------------------------\")\n",
        "print(\"Sub-Category yang paling terkecil adalah\",a , \"dengan jumlah\",jumlah)"
      ],
      "execution_count": 16,
      "outputs": [
        {
          "output_type": "stream",
          "text": [
            "sub_category\n",
            "Accessories    2976\n",
            "Appliances     1729\n",
            "Art            3000\n",
            "Binders        5974\n",
            "Bookcases       868\n",
            "Chairs         2356\n",
            "Copiers         218\n",
            "Envelopes       906\n",
            "Fasteners       914\n",
            "Furnishings    3563\n",
            "Labels         1400\n",
            "Machines        429\n",
            "Paper          5178\n",
            "Phones         3289\n",
            "Storage        3158\n",
            "Supplies        647\n",
            "Tables         1241\n",
            "Name: quantity, dtype: int64\n",
            "--------------------------------------------------------------------\n",
            "Sub-Category yang paling terkecil adalah Copiers dengan jumlah 218\n"
          ],
          "name": "stdout"
        }
      ]
    },
    {
      "cell_type": "markdown",
      "metadata": {
        "id": "ykpSf4rM59WW"
      },
      "source": [
        "# **4. Menentukan Bulan dengan profit yang paling tinggi**"
      ]
    },
    {
      "cell_type": "code",
      "metadata": {
        "colab": {
          "base_uri": "https://localhost:8080/"
        },
        "id": "qqVag39A6WrC",
        "outputId": "c394ae9f-0c26-4661-d254-8f332ad5451a"
      },
      "source": [
        "#Melihat Bulan apa saja yang ada\n",
        "df.order_date.value_counts()\n"
      ],
      "execution_count": 29,
      "outputs": [
        {
          "output_type": "execute_result",
          "data": {
            "text/plain": [
              "9/5/2016      38\n",
              "9/2/2017      36\n",
              "11/10/2016    35\n",
              "12/1/2017     34\n",
              "12/2/2017     34\n",
              "              ..\n",
              "6/15/2016      1\n",
              "8/16/2014      1\n",
              "3/14/2017      1\n",
              "10/17/2015     1\n",
              "5/18/2015      1\n",
              "Name: order_date, Length: 1237, dtype: int64"
            ]
          },
          "metadata": {
            "tags": []
          },
          "execution_count": 29
        }
      ]
    },
    {
      "cell_type": "code",
      "metadata": {
        "colab": {
          "base_uri": "https://localhost:8080/"
        },
        "id": "J3d68ABe7OdO",
        "outputId": "c42907c8-d94d-4e31-de47-dbd0f21080ea"
      },
      "source": [
        "Bulan=df.groupby('order_date').profit.sum()\n",
        "print(Bulan)\n",
        "profit=max(Bulan)\n",
        "b=Bulan.idxmax()\n",
        "\n",
        "print(\"--------------------------------------------------------------------------------\")\n",
        "print(\"Bulan dengan profit yang paling tinggi adalah\",b , \"dengan profit\",profit)\n"
      ],
      "execution_count": 40,
      "outputs": [
        {
          "output_type": "stream",
          "text": [
            "order_date\n",
            "1/1/2017    -181.4109\n",
            "1/10/2014     22.6537\n",
            "1/10/2015   -373.3048\n",
            "1/10/2016     55.3653\n",
            "1/11/2014      3.0814\n",
            "               ...   \n",
            "9/8/2016    -375.6300\n",
            "9/8/2017    -510.9671\n",
            "9/9/2014      16.3616\n",
            "9/9/2016      12.1616\n",
            "9/9/2017    -152.8754\n",
            "Name: profit, Length: 1237, dtype: float64\n",
            "--------------------------------------------------------------------------------\n",
            "Bulan dengan profit yang paling tinggi adalah 9/23/2014 dengan profit 4808.5975\n"
          ],
          "name": "stdout"
        }
      ]
    }
  ]
}