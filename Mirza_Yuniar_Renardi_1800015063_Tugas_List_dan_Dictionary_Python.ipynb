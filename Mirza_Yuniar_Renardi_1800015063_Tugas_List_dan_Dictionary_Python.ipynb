{
  "nbformat": 4,
  "nbformat_minor": 0,
  "metadata": {
    "colab": {
      "name": "Mirza Yuniar Renardi_1800015063_Tugas_List_dan_Dictionary_Python.ipynb",
      "provenance": [],
      "collapsed_sections": [],
      "include_colab_link": true
    },
    "kernelspec": {
      "name": "python3",
      "display_name": "Python 3"
    },
    "language_info": {
      "name": "python"
    }
  },
  "cells": [
    {
      "cell_type": "markdown",
      "metadata": {
        "id": "view-in-github",
        "colab_type": "text"
      },
      "source": [
        "<a href=\"https://colab.research.google.com/github/mirzarenardi01/Basic-Phyton-Programming-for-Data-Science/blob/main/Mirza_Yuniar_Renardi_1800015063_Tugas_List_dan_Dictionary_Python.ipynb\" target=\"_parent\"><img src=\"https://colab.research.google.com/assets/colab-badge.svg\" alt=\"Open In Colab\"/></a>"
      ]
    },
    {
      "cell_type": "markdown",
      "metadata": {
        "id": "kMd1Q9NB1BqH"
      },
      "source": [
        "1. Buatlah sebuah list dengan elemen bilangan kelipatan 5 dengan panjang elemen sejumlah 100"
      ]
    },
    {
      "cell_type": "code",
      "metadata": {
        "id": "ogBU6p9j0yXf",
        "colab": {
          "base_uri": "https://localhost:8080/"
        },
        "outputId": "ed69f9b8-ef03-4400-d2ec-d3ac4b1aa1fe"
      },
      "source": [
        "#Tuliskan kodemu di bawah ini:\n",
        "list1 = list(range(5, 505, 5))\n",
        "print(list1)\n",
        "print(\"Panjang elemen :\", len(list1))\n"
      ],
      "execution_count": 30,
      "outputs": [
        {
          "output_type": "stream",
          "text": [
            "[5, 10, 15, 20, 25, 30, 35, 40, 45, 50, 55, 60, 65, 70, 75, 80, 85, 90, 95, 100, 105, 110, 115, 120, 125, 130, 135, 140, 145, 150, 155, 160, 165, 170, 175, 180, 185, 190, 195, 200, 205, 210, 215, 220, 225, 230, 235, 240, 245, 250, 255, 260, 265, 270, 275, 280, 285, 290, 295, 300, 305, 310, 315, 320, 325, 330, 335, 340, 345, 350, 355, 360, 365, 370, 375, 380, 385, 390, 395, 400, 405, 410, 415, 420, 425, 430, 435, 440, 445, 450, 455, 460, 465, 470, 475, 480, 485, 490, 495, 500]\n",
            "Panjang elemen : 100\n"
          ],
          "name": "stdout"
        }
      ]
    },
    {
      "cell_type": "markdown",
      "metadata": {
        "id": "OHyMAfrd1SL3"
      },
      "source": [
        "2. Buatlah sebuah dictionary dengan jumlah elemen 100 dan lakukanlah beberapa modifikasi(minimal 3) di dalamnya."
      ]
    },
    {
      "cell_type": "code",
      "metadata": {
        "id": "b40H0S8J1lD9",
        "colab": {
          "base_uri": "https://localhost:8080/"
        },
        "outputId": "ec4726de-474c-4ba8-abb6-4532794c8d6f"
      },
      "source": [
        "#Tuliskan kodemu di bawah ini:\n",
        "\n",
        "#Membuat Dictionary\n",
        "genap =[]\n",
        "for a in range(1,101):\n",
        "  genap.append((a*2))\n",
        "dict0 = {'a0':genap[0],'b0':genap[1],'c0':genap[2],'d0':genap[3],'e0':genap[4],'f0':genap[5],'g0':genap[6],'h0':genap[7],'i0':genap[8],'j0':genap[9],\n",
        "'a1':genap[10],'b1':genap[11],'c1':genap[12],'d1':genap[13],'e1':genap[14],'f1':genap[15],'g1':genap[16],'h1':genap[17],'i1':genap[18],'j1':genap[19],\n",
        "'a2':genap[20],'b2':genap[21],'c2':genap[22],'d2':genap[23],'e2':genap[24],'f2':genap[25],'g2':genap[26],'h2':genap[27],'i2':genap[28],'j2':genap[29],\n",
        "'a3':genap[20],'b3':genap[31],'c3':genap[32],'d3':genap[33],'e3':genap[34],'f3':genap[35],'g3':genap[36],'h3':genap[37],'i3':genap[38],'j3':genap[39],\n",
        "'a4':genap[30],'b4':genap[41],'c4':genap[42],'d4':genap[43],'e4':genap[44],'f4':genap[45],'g4':genap[46],'h4':genap[47],'i4':genap[48],'j4':genap[49],\n",
        "'a5':genap[40],'b5':genap[51],'c5':genap[52],'d5':genap[53],'e5':genap[54],'f5':genap[55],'g5':genap[56],'h5':genap[57],'i5':genap[58],'j5':genap[59],\n",
        "'a6':genap[60],'b6':genap[61],'c6':genap[62],'d6':genap[63],'e6':genap[64],'f6':genap[65],'g6':genap[66],'h6':genap[67],'i6':genap[68],'j6':genap[69],\n",
        "'a7':genap[70],'b7':genap[71],'c7':genap[72],'d7':genap[73],'e7':genap[74],'f7':genap[75],'g7':genap[76],'h7':genap[77],'i7':genap[78],'j7':genap[79],\n",
        "'a8':genap[80],'b8':genap[81],'c8':genap[82],'d8':genap[83],'e8':genap[84],'f8':genap[85],'g8':genap[86],'h8':genap[87],'i8':genap[88],'j8':genap[89],\n",
        "'a9':genap[90],'b9':genap[91],'c9':genap[92],'d9':genap[93],'e9':genap[94],'f9':genap[95],'g9':genap[96],'h9':genap[97],'i9':genap[98],'j9':genap[99]}\n",
        "print(dict0)\n",
        "print(\"Panjang elemen :\", len(dict0))\n",
        "\n"
      ],
      "execution_count": 32,
      "outputs": [
        {
          "output_type": "stream",
          "text": [
            "{'a0': 2, 'b0': 4, 'c0': 6, 'd0': 8, 'e0': 10, 'f0': 12, 'g0': 14, 'h0': 16, 'i0': 18, 'j0': 20, 'a1': 22, 'b1': 24, 'c1': 26, 'd1': 28, 'e1': 30, 'f1': 32, 'g1': 34, 'h1': 36, 'i1': 38, 'j1': 40, 'a2': 42, 'b2': 44, 'c2': 46, 'd2': 48, 'e2': 50, 'f2': 52, 'g2': 54, 'h2': 56, 'i2': 58, 'j2': 60, 'a3': 42, 'b3': 64, 'c3': 66, 'd3': 68, 'e3': 70, 'f3': 72, 'g3': 74, 'h3': 76, 'i3': 78, 'j3': 80, 'a4': 62, 'b4': 84, 'c4': 86, 'd4': 88, 'e4': 90, 'f4': 92, 'g4': 94, 'h4': 96, 'i4': 98, 'j4': 100, 'a5': 82, 'b5': 104, 'c5': 106, 'd5': 108, 'e5': 110, 'f5': 112, 'g5': 114, 'h5': 116, 'i5': 118, 'j5': 120, 'a6': 122, 'b6': 124, 'c6': 126, 'd6': 128, 'e6': 130, 'f6': 132, 'g6': 134, 'h6': 136, 'i6': 138, 'j6': 140, 'a7': 142, 'b7': 144, 'c7': 146, 'd7': 148, 'e7': 150, 'f7': 152, 'g7': 154, 'h7': 156, 'i7': 158, 'j7': 160, 'a8': 162, 'b8': 164, 'c8': 166, 'd8': 168, 'e8': 170, 'f8': 172, 'g8': 174, 'h8': 176, 'i8': 178, 'j8': 180, 'a9': 182, 'b9': 184, 'c9': 186, 'd9': 188, 'e9': 190, 'f9': 192, 'g9': 194, 'h9': 196, 'i9': 198, 'j9': 200}\n",
            "Panjang elemen : 100\n"
          ],
          "name": "stdout"
        }
      ]
    },
    {
      "cell_type": "code",
      "metadata": {
        "colab": {
          "base_uri": "https://localhost:8080/"
        },
        "id": "P9NRH3-ZZdzA",
        "outputId": "625099c2-535a-43b7-8e9c-465dae6dd43f"
      },
      "source": [
        "# Modifikasi 1\n",
        "dict1 = dict0\n",
        "print(dict1)\n",
        "print(\"Panjang elemen :\", len(dict1))\n",
        "import random\n",
        "keyrandom, valuerandom = random.choice(list(dict1.items()))\n",
        "print(\"key acak :\", keyrandom, \"dan\", valuerandom, \"adalah value dari\", keyrandom)"
      ],
      "execution_count": 36,
      "outputs": [
        {
          "output_type": "stream",
          "text": [
            "{'a0': 2, 'b0': 4, 'c0': 6, 'd0': 8, 'e0': 10, 'f0': 12, 'g0': 14, 'h0': 16, 'i0': 18, 'j0': 20, 'a1': 22, 'b1': 24, 'c1': 26, 'd1': 28, 'e1': 30, 'f1': 32, 'g1': 34, 'h1': 36, 'i1': 38, 'j1': 40, 'a2': 42, 'b2': 44, 'c2': 46, 'd2': 48, 'e2': 50, 'f2': 52, 'g2': 54, 'h2': 56, 'i2': 58, 'j2': 60, 'a3': 42, 'b3': 64, 'c3': 66, 'd3': 68, 'e3': 70, 'f3': 72, 'g3': 74, 'h3': 76, 'i3': 78, 'j3': 80, 'a4': 62, 'b4': 84, 'c4': 86, 'd4': 88, 'e4': 90, 'f4': 92, 'g4': 94, 'h4': 96, 'i4': 98, 'j4': 100, 'a5': 82, 'b5': 104, 'c5': 106, 'd5': 108, 'e5': 110, 'f5': 112, 'g5': 114, 'h5': 116, 'i5': 118, 'j5': 120, 'a6': 122, 'b6': 124, 'c6': 126, 'd6': 128, 'e6': 130, 'f6': 132, 'g6': 134, 'h6': 136, 'i6': 138, 'j6': 140, 'a7': 142, 'b7': 144, 'c7': 146, 'd7': 148, 'e7': 150, 'f7': 152, 'g7': 154, 'h7': 156, 'i7': 158, 'j7': 160, 'a8': 162, 'b8': 164, 'c8': 166, 'd8': 168, 'e8': 170, 'f8': 172, 'g8': 174, 'h8': 176, 'i8': 178, 'j8': 180, 'a9': 182, 'b9': 184, 'c9': 186, 'd9': 188, 'e9': 190, 'f9': 192, 'g9': 194, 'h9': 196, 'i9': 198, 'j9': 200}\n",
            "Banyak elemen : 100\n",
            "key acak : c1 dan 26 adalah value dari c1\n"
          ],
          "name": "stdout"
        }
      ]
    },
    {
      "cell_type": "code",
      "metadata": {
        "colab": {
          "base_uri": "https://localhost:8080/"
        },
        "id": "iPMLVvntZnba",
        "outputId": "b6b98476-f557-4bef-ad9b-efd066061f6e"
      },
      "source": [
        "# Modifikasi 2\n",
        "dict2 = dict0\n",
        "x = ('a0','b0','c0')\n",
        "y = 0\n",
        "\n",
        "dict2 = dict0.fromkeys(x, y)\n",
        "print(\"Panjang elemen :\", len(dict2))\n",
        "print(dict2)"
      ],
      "execution_count": 35,
      "outputs": [
        {
          "output_type": "stream",
          "text": [
            "Panjang elemen : 3\n",
            "{'a0': 0, 'b0': 0, 'c0': 0}\n"
          ],
          "name": "stdout"
        }
      ]
    },
    {
      "cell_type": "code",
      "metadata": {
        "colab": {
          "base_uri": "https://localhost:8080/"
        },
        "id": "CW7dyt23Z8-B",
        "outputId": "1b5f58b4-a86b-4363-9596-b009a9b62c04"
      },
      "source": [
        "# Modifikasi 3\n",
        "dict3= dict0\n",
        "for a, b in dict3.items():\n",
        "  print(a,b)"
      ],
      "execution_count": 33,
      "outputs": [
        {
          "output_type": "stream",
          "text": [
            "a0 2\n",
            "b0 4\n",
            "c0 6\n",
            "d0 8\n",
            "e0 10\n",
            "f0 12\n",
            "g0 14\n",
            "h0 16\n",
            "i0 18\n",
            "j0 20\n",
            "a1 22\n",
            "b1 24\n",
            "c1 26\n",
            "d1 28\n",
            "e1 30\n",
            "f1 32\n",
            "g1 34\n",
            "h1 36\n",
            "i1 38\n",
            "j1 40\n",
            "a2 42\n",
            "b2 44\n",
            "c2 46\n",
            "d2 48\n",
            "e2 50\n",
            "f2 52\n",
            "g2 54\n",
            "h2 56\n",
            "i2 58\n",
            "j2 60\n",
            "a3 42\n",
            "b3 64\n",
            "c3 66\n",
            "d3 68\n",
            "e3 70\n",
            "f3 72\n",
            "g3 74\n",
            "h3 76\n",
            "i3 78\n",
            "j3 80\n",
            "a4 62\n",
            "b4 84\n",
            "c4 86\n",
            "d4 88\n",
            "e4 90\n",
            "f4 92\n",
            "g4 94\n",
            "h4 96\n",
            "i4 98\n",
            "j4 100\n",
            "a5 82\n",
            "b5 104\n",
            "c5 106\n",
            "d5 108\n",
            "e5 110\n",
            "f5 112\n",
            "g5 114\n",
            "h5 116\n",
            "i5 118\n",
            "j5 120\n",
            "a6 122\n",
            "b6 124\n",
            "c6 126\n",
            "d6 128\n",
            "e6 130\n",
            "f6 132\n",
            "g6 134\n",
            "h6 136\n",
            "i6 138\n",
            "j6 140\n",
            "a7 142\n",
            "b7 144\n",
            "c7 146\n",
            "d7 148\n",
            "e7 150\n",
            "f7 152\n",
            "g7 154\n",
            "h7 156\n",
            "i7 158\n",
            "j7 160\n",
            "a8 162\n",
            "b8 164\n",
            "c8 166\n",
            "d8 168\n",
            "e8 170\n",
            "f8 172\n",
            "g8 174\n",
            "h8 176\n",
            "i8 178\n",
            "j8 180\n",
            "a9 182\n",
            "b9 184\n",
            "c9 186\n",
            "d9 188\n",
            "e9 190\n",
            "f9 192\n",
            "g9 194\n",
            "h9 196\n",
            "i9 198\n",
            "j9 200\n"
          ],
          "name": "stdout"
        }
      ]
    }
  ]
}