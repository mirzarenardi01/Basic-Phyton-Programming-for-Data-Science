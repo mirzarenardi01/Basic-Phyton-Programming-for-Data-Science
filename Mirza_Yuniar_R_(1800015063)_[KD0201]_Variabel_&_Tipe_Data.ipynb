{
  "nbformat": 4,
  "nbformat_minor": 0,
  "metadata": {
    "colab": {
      "name": "Mirza Yuniar R (1800015063) [KD0201]_Variabel_&_Tipe_Data.ipynb",
      "provenance": [],
      "collapsed_sections": [],
      "toc_visible": true,
      "include_colab_link": true
    },
    "kernelspec": {
      "name": "python3",
      "display_name": "Python 3"
    }
  },
  "cells": [
    {
      "cell_type": "markdown",
      "metadata": {
        "id": "view-in-github",
        "colab_type": "text"
      },
      "source": [
        "<a href=\"https://colab.research.google.com/github/mirzarenardi01/Basic-Phyton-Programming-for-Data-Science/blob/main/Mirza_Yuniar_R_(1800015063)_%5BKD0201%5D_Variabel_%26_Tipe_Data.ipynb\" target=\"_parent\"><img src=\"https://colab.research.google.com/assets/colab-badge.svg\" alt=\"Open In Colab\"/></a>"
      ]
    },
    {
      "cell_type": "markdown",
      "metadata": {
        "id": "Og624K31g4Ja"
      },
      "source": [
        "![alt text](https://drive.google.com/uc?id=1oZeOBAOozxedBi-jq-LzN8BQd0NB7Ocy\n",
        ")\n",
        "\n",
        "\n"
      ]
    },
    {
      "cell_type": "markdown",
      "metadata": {
        "id": "g72baECruJew"
      },
      "source": [
        "Assalamualaikum warahmatullahi wabarakatuh.\n",
        "\n",
        "***Robbi Zidni Ilma Warzuqni Fahma***\n",
        "\n",
        "Semoga Allah memberi kemudahan untuk kita memperoleh ilmu yang bermanfaat.\n",
        "\n",
        "Ini adalah notebook yang disusun untuk **Kelas Dasar Pejuang Data Sains 2.0** .\n",
        "\n",
        "Ini adalah **Notebook Variabel & Tipe Data**:\n",
        "\n",
        "## **Hasil Yang Ingin Dicapai**\n",
        "1. Memahami input dan output pada python\n",
        "2. Mengenal dan memahami variabel dan tipe data pada python\n",
        "3. Mengenal dan memahami struktur data pada python\n",
        "\n",
        "### ***!!!***\n",
        "\n",
        "***Sebelum memulai mempelajari notebook ini, jangan lupa untuk menyalinnya di drive masing-masing ya.***\n",
        "\n",
        "### ***!!!***\n"
      ]
    },
    {
      "cell_type": "markdown",
      "metadata": {
        "id": "0KrQhq25d3XW"
      },
      "source": [
        "##  **Input & Output pada Pyhton**"
      ]
    },
    {
      "cell_type": "markdown",
      "metadata": {
        "id": "q9n37nDmd8-5"
      },
      "source": [
        "Kita akan memulai dengan mencoba mengenal dan memahami proses input dan output pada bahasa pemrograman python. Sebuah Program terdiri dari Input, Proses dan Output\n",
        "\n",
        "**Membuat input dengan fungsi input()**\n",
        "\n",
        "format input() :\n",
        "input(*object, nilai)\n",
        "\n",
        "Sebuah input dapat dikelola berdasarkan tipe datanya :\n",
        "\n",
        "* input() : nilai berupa string\n",
        "\n",
        "* str(input()) : nilai berupa string\n",
        "\n",
        "* int(input()) : nilai berupa integer\n",
        "\n",
        "* float(input()) : nilai berupa float\n",
        "\n",
        "* bool(input()) : nilai berupa boolean\n",
        "\n",
        "**Untuk menampilkan Output dengan fungsi print()**\n",
        "\n",
        "format print() :\n",
        "print(*object, sep=' ', end='\\n', file=sys.stdout, flush=False/True)"
      ]
    },
    {
      "cell_type": "code",
      "metadata": {
        "id": "owIrz7XYeZb-",
        "colab": {
          "base_uri": "https://localhost:8080/"
        },
        "outputId": "37931887-4236-48f1-d0a4-ee37023fb996"
      },
      "source": [
        "# Membuat input bertipe data string (str)\n",
        "nama = input(\"Nama : \")\n",
        "umur = input(\"Umur : \")\n",
        "alamat = input(\"Alamat : \")"
      ],
      "execution_count": null,
      "outputs": [
        {
          "output_type": "stream",
          "text": [
            "Nama : Pejuang Data\n",
            "Umur : 17\n",
            "Alamat : Yogyakarta\n"
          ],
          "name": "stdout"
        }
      ]
    },
    {
      "cell_type": "code",
      "metadata": {
        "id": "AUYUbTLklIax",
        "colab": {
          "base_uri": "https://localhost:8080/"
        },
        "outputId": "41d971a7-3842-41d5-febb-f97cda5f43f9"
      },
      "source": [
        "print(nama)\n",
        "print(umur)\n",
        "type(nama)"
      ],
      "execution_count": null,
      "outputs": [
        {
          "output_type": "stream",
          "text": [
            "Pejuang Data\n",
            "17\n"
          ],
          "name": "stdout"
        },
        {
          "output_type": "execute_result",
          "data": {
            "text/plain": [
              "str"
            ]
          },
          "metadata": {
            "tags": []
          },
          "execution_count": 12
        }
      ]
    },
    {
      "cell_type": "code",
      "metadata": {
        "id": "iIe-IGH9ecEk",
        "colab": {
          "base_uri": "https://localhost:8080/"
        },
        "outputId": "a90b8389-d46a-424e-db35-c1c37564c2e9"
      },
      "source": [
        "# Membuat input bertipe data integer (int)\n",
        "angka1 = int(input())\n",
        "print(angka1)"
      ],
      "execution_count": null,
      "outputs": [
        {
          "output_type": "stream",
          "text": [
            "1\n",
            "1\n"
          ],
          "name": "stdout"
        }
      ]
    },
    {
      "cell_type": "code",
      "metadata": {
        "id": "UKWV8tPHedhw",
        "colab": {
          "base_uri": "https://localhost:8080/"
        },
        "outputId": "81f1598f-9dff-4d18-afbd-0d99a02ca228"
      },
      "source": [
        "# Membuat input beripe data float\n",
        "angka2 = float(input())\n",
        "print(angka2)"
      ],
      "execution_count": null,
      "outputs": [
        {
          "output_type": "stream",
          "text": [
            "2\n",
            "2.0\n"
          ],
          "name": "stdout"
        }
      ]
    },
    {
      "cell_type": "markdown",
      "metadata": {
        "id": "frV9dqp5jlBD"
      },
      "source": [
        "Saatnya kamu mencoba!!!"
      ]
    },
    {
      "cell_type": "code",
      "metadata": {
        "id": "tKNsgrWujn49",
        "colab": {
          "base_uri": "https://localhost:8080/"
        },
        "outputId": "5fc6a2ae-1974-449b-ae2e-1f133ada1748"
      },
      "source": [
        "nama = input(\"Nama : \")\n",
        "umur = input(\"Umur : \")\n",
        "alamat = input(\"Alamat : \")\n",
        "nomor = int(input(\"No. HP : \" ))\n",
        "univ = input(\"Instansi : \")\n",
        "nim = int(input(\"NIM : \"))"
      ],
      "execution_count": null,
      "outputs": [
        {
          "output_type": "stream",
          "text": [
            "Nama : Mirza Yuniar R\n",
            "Umur : 19\n",
            "Alamat : Cirebon\n",
            "No. HP : 081358000000\n",
            "Instansi : Universitas Ahmad Dahlan\n",
            "NIM : 1800015063\n"
          ],
          "name": "stdout"
        }
      ]
    },
    {
      "cell_type": "code",
      "metadata": {
        "id": "mSq4ffLPx6Lt",
        "colab": {
          "base_uri": "https://localhost:8080/"
        },
        "outputId": "f94e00ae-fa9c-4cd8-f072-389e0558f6f1"
      },
      "source": [
        "print(nama)\n",
        "print(umur)\n",
        "print(nim)\n",
        "type(nim)"
      ],
      "execution_count": null,
      "outputs": [
        {
          "output_type": "stream",
          "text": [
            "Mirza Yuniar R\n",
            "19\n",
            "1800015063\n"
          ],
          "name": "stdout"
        },
        {
          "output_type": "execute_result",
          "data": {
            "text/plain": [
              "int"
            ]
          },
          "metadata": {
            "tags": []
          },
          "execution_count": 7
        }
      ]
    },
    {
      "cell_type": "markdown",
      "metadata": {
        "id": "hN1PZcobegAQ"
      },
      "source": [
        "**Menampilkan Output cara pertama**\n"
      ]
    },
    {
      "cell_type": "code",
      "metadata": {
        "id": "YJKK2Fmmej8J",
        "colab": {
          "base_uri": "https://localhost:8080/"
        },
        "outputId": "76427844-70b9-45d9-d250-6b70307dd9b9"
      },
      "source": [
        "print(\"Nama saya\"+\" \"+ nama + \" \" + \"yang berumur\"+ \" \" + umur + \" \" + \"dan bertempat tinggal di\"+ \" \" + alamat)"
      ],
      "execution_count": null,
      "outputs": [
        {
          "output_type": "stream",
          "text": [
            "Nama saya Mirza Yuniar R yang berumur 19 dan bertempat tinggal di Cirebon\n"
          ],
          "name": "stdout"
        }
      ]
    },
    {
      "cell_type": "markdown",
      "metadata": {
        "id": "tzkB1SQ1jqPM"
      },
      "source": [
        "Saatnya kamu mencoba!!!"
      ]
    },
    {
      "cell_type": "code",
      "metadata": {
        "id": "p5Z-jMEijtlV",
        "colab": {
          "base_uri": "https://localhost:8080/"
        },
        "outputId": "3a6d50ae-7df9-484b-9ada-a7b06bcdc31f"
      },
      "source": [
        "print('Nama saya'+ \" \" + nama + \" \" + 'dari' + \" \" + univ + \" \" +'Yogyakarta')"
      ],
      "execution_count": null,
      "outputs": [
        {
          "output_type": "stream",
          "text": [
            "Nama saya Mirza Yuniar R dari Universitas Ahmad Dahlan Yogyakarta\n"
          ],
          "name": "stdout"
        }
      ]
    },
    {
      "cell_type": "markdown",
      "metadata": {
        "id": "XSSsrFkEemXP"
      },
      "source": [
        "**Menampilkan Output cara kedua**\n",
        "\n",
        "Menggunakan fungsi format()"
      ]
    },
    {
      "cell_type": "code",
      "metadata": {
        "id": "mavFHYasj3RL",
        "colab": {
          "base_uri": "https://localhost:8080/",
          "height": 35
        },
        "outputId": "92ae3b10-f141-47c1-f5be-a76bd8392b1f"
      },
      "source": [
        "txt1 = \"Nama saya {nama}, Saya berumur {umur}\".format(nama = \"Dahlan\", umur = 18)\n",
        "txt1"
      ],
      "execution_count": null,
      "outputs": [
        {
          "output_type": "execute_result",
          "data": {
            "application/vnd.google.colaboratory.intrinsic+json": {
              "type": "string"
            },
            "text/plain": [
              "'Nama saya Dahlan, Saya berumur 18'"
            ]
          },
          "metadata": {
            "tags": []
          },
          "execution_count": 15
        }
      ]
    },
    {
      "cell_type": "code",
      "metadata": {
        "id": "MgiB5WBOkxzY",
        "colab": {
          "base_uri": "https://localhost:8080/",
          "height": 35
        },
        "outputId": "81a56d4f-6bca-498b-8043-e01fe2375478"
      },
      "source": [
        "txt2 = \"Nama saya {0}, Saya berumur {1}\".format(\"Dahlan\",18)\n",
        "txt2"
      ],
      "execution_count": null,
      "outputs": [
        {
          "output_type": "execute_result",
          "data": {
            "application/vnd.google.colaboratory.intrinsic+json": {
              "type": "string"
            },
            "text/plain": [
              "'Nama saya Dahlan, Saya berumur 18'"
            ]
          },
          "metadata": {
            "tags": []
          },
          "execution_count": 16
        }
      ]
    },
    {
      "cell_type": "code",
      "metadata": {
        "id": "fKGVHjq7kyo_",
        "colab": {
          "base_uri": "https://localhost:8080/",
          "height": 35
        },
        "outputId": "cff28403-9862-479d-8005-a9fbd965d070"
      },
      "source": [
        "txt3 = \"Nama saya {}, Saya berumur {}\".format(\"Dahlan\",18)\n",
        "txt3"
      ],
      "execution_count": null,
      "outputs": [
        {
          "output_type": "execute_result",
          "data": {
            "application/vnd.google.colaboratory.intrinsic+json": {
              "type": "string"
            },
            "text/plain": [
              "'Nama saya Dahlan, Saya berumur 18'"
            ]
          },
          "metadata": {
            "tags": []
          },
          "execution_count": 17
        }
      ]
    },
    {
      "cell_type": "markdown",
      "metadata": {
        "id": "Ho1x_r1Sk-KX"
      },
      "source": [
        "Saatnya kamu mencoba!!!"
      ]
    },
    {
      "cell_type": "code",
      "metadata": {
        "id": "T66KZDWyk_AN",
        "colab": {
          "base_uri": "https://localhost:8080/",
          "height": 35
        },
        "outputId": "b33596f5-758e-4469-8fe2-d47d82515d06"
      },
      "source": [
        "txt1 = \"Nama saya {nama}, Saya berumur {umur}\".format(nama = \"Mirza\", umur = 19)\n",
        "txt1"
      ],
      "execution_count": null,
      "outputs": [
        {
          "output_type": "execute_result",
          "data": {
            "application/vnd.google.colaboratory.intrinsic+json": {
              "type": "string"
            },
            "text/plain": [
              "'Nama saya Mirza, Saya berumur 19'"
            ]
          },
          "metadata": {
            "tags": []
          },
          "execution_count": 11
        }
      ]
    },
    {
      "cell_type": "code",
      "metadata": {
        "id": "BkwCOo3H1kpR",
        "colab": {
          "base_uri": "https://localhost:8080/",
          "height": 35
        },
        "outputId": "f98792e8-6396-4ef8-9609-cf0eca1abac7"
      },
      "source": [
        "txt2 = \"Nama saya {0}, Saya berumur {1}\".format(\"Mirza\",19)\n",
        "txt2"
      ],
      "execution_count": null,
      "outputs": [
        {
          "output_type": "execute_result",
          "data": {
            "application/vnd.google.colaboratory.intrinsic+json": {
              "type": "string"
            },
            "text/plain": [
              "'Nama saya Mirza, Saya berumur 19'"
            ]
          },
          "metadata": {
            "tags": []
          },
          "execution_count": 12
        }
      ]
    },
    {
      "cell_type": "code",
      "metadata": {
        "id": "HajU87Oo1qsz",
        "colab": {
          "base_uri": "https://localhost:8080/",
          "height": 35
        },
        "outputId": "bc053412-5193-4a40-a69b-1538f969c7d7"
      },
      "source": [
        "txt3 = \"Nama saya {}, Saya berumur {}\".format(\"Mirza\",19)\n",
        "txt3"
      ],
      "execution_count": null,
      "outputs": [
        {
          "output_type": "execute_result",
          "data": {
            "application/vnd.google.colaboratory.intrinsic+json": {
              "type": "string"
            },
            "text/plain": [
              "'Nama saya Mirza, Saya berumur 19'"
            ]
          },
          "metadata": {
            "tags": []
          },
          "execution_count": 14
        }
      ]
    },
    {
      "cell_type": "markdown",
      "metadata": {
        "id": "uYCMhDyWeqTZ"
      },
      "source": [
        "**Menampilkan Output cara ketiga**\n",
        "\n",
        "Menggunakan simbol %\n",
        "\n",
        "* %c : mencetak karakter\n",
        "\n",
        "* %s : mencetak data menjadi string\n",
        "\n",
        "* %i, %d : mencetak angka desimal bertanda\n",
        "* %u : mencetak angka desimal tak bertanda\n",
        "* %x, %X : mencetak angka heksa dengan huruf kecil %x atau besar %X\n",
        "* %f : mencetak angka real berkoma\n",
        "* %e, %E : mencetak tanda eksponensial dengan huruf kecil %e atau besar %E\n",
        "* %g, %G : fungsi hampir sama dengan %f dan %e hanya saja pencetakan angak di belakang koma lebih pendek"
      ]
    },
    {
      "cell_type": "code",
      "metadata": {
        "id": "0bz0OcMzetR-",
        "colab": {
          "base_uri": "https://localhost:8080/"
        },
        "outputId": "bdeb0773-f955-437c-e624-a2419bb983d5"
      },
      "source": [
        "print(\"Nama saya %s yang berumur %s dan bertempat tinggal di %s\" %(nama, umur, alamat))"
      ],
      "execution_count": null,
      "outputs": [
        {
          "output_type": "stream",
          "text": [
            "Nama saya Pejuang Data yang berumur 17 dan bertempat tinggal di Yogyakarta\n"
          ],
          "name": "stdout"
        }
      ]
    },
    {
      "cell_type": "markdown",
      "metadata": {
        "id": "W8oWmIBplFdL"
      },
      "source": [
        "Saatnya kamu mencoba!!!"
      ]
    },
    {
      "cell_type": "code",
      "metadata": {
        "id": "zDzKyrpUlGXD",
        "colab": {
          "base_uri": "https://localhost:8080/"
        },
        "outputId": "dd86c128-c1fa-4c2f-d165-37e4a569694d"
      },
      "source": [
        "print(\"Nama saya %s yang berumur %s dan bertempat tinggal di %s\" %(nama, umur, alamat))"
      ],
      "execution_count": null,
      "outputs": [
        {
          "output_type": "stream",
          "text": [
            "Nama saya Mirza Yuniar R yang berumur 19 dan bertempat tinggal di Cirebon\n"
          ],
          "name": "stdout"
        }
      ]
    },
    {
      "cell_type": "markdown",
      "metadata": {
        "id": "Lus7pe_3tD6n"
      },
      "source": [
        "## **Variabel, Tipe Data, Dan Konversinya**"
      ]
    },
    {
      "cell_type": "markdown",
      "metadata": {
        "id": "KJx8rxdzlKgR"
      },
      "source": [
        "Selanjutnya kita akan mengenal variabel dan tipe data pada python. Ini merupakan dasar yang harus dipahami di awal sebelum melanjutkan ke materi berikutnya. Pertama kita akan memahami bagaimana sebuah variabel dituliskan dalam python."
      ]
    },
    {
      "cell_type": "markdown",
      "metadata": {
        "id": "7Mzb7KbGvX4O"
      },
      "source": [
        "### Variabel"
      ]
    },
    {
      "cell_type": "markdown",
      "metadata": {
        "id": "57FeEUMgvaIj"
      },
      "source": [
        "*   Variabel merupakan tempat penyimpanan data atau nilai\n",
        "*   Sebuah variabel dalam python bisa diisi dengan berbagai tipe data\n",
        "*   Nama sebuah variabel tidak bisa diawali dengan angka/numerik\n",
        "*   Nama sebuah variabel selain keyword dari bahasa python\n",
        "*   Format variabel : Nama_variabel = data/nilai"
      ]
    },
    {
      "cell_type": "markdown",
      "metadata": {
        "id": "dO2t9vXyvv-A"
      },
      "source": [
        "**Membuat sebuah variabel dengan berbagai tipe data Python**"
      ]
    },
    {
      "cell_type": "code",
      "metadata": {
        "id": "VadqbpNStZvE"
      },
      "source": [
        "var1 = 'Assalamualaikum Dunia!' #String\n",
        "var2 = 1234567890 # int\n",
        "var3 = 0.123456789 # float\n",
        "var4 = False #bool\n",
        "var5 = 1j+1 #complex"
      ],
      "execution_count": null,
      "outputs": []
    },
    {
      "cell_type": "markdown",
      "metadata": {
        "id": "rtPG7Nwrv00R"
      },
      "source": [
        "Buat variabelmu sendiri di bawah ini ya!"
      ]
    },
    {
      "cell_type": "code",
      "metadata": {
        "id": "xTlpIfrav6B1",
        "colab": {
          "base_uri": "https://localhost:8080/"
        },
        "outputId": "85c44df6-220d-42fb-f20c-fdc1b2889f6f"
      },
      "source": [
        "var7=' belajar bersama Pejuang Data'\n",
        "print(var7)"
      ],
      "execution_count": null,
      "outputs": [
        {
          "output_type": "stream",
          "text": [
            " belajar bersama Pejuang Data\n"
          ],
          "name": "stdout"
        }
      ]
    },
    {
      "cell_type": "code",
      "metadata": {
        "id": "UsUtbtY52HsM",
        "colab": {
          "base_uri": "https://localhost:8080/"
        },
        "outputId": "0c50c036-c579-46ce-82da-3c99972f6bd2"
      },
      "source": [
        "var1 = 'Assalamualaikum Dunia Saya Mirza!' #String\n",
        "print(var1)\n",
        "var2 = 9876543210 # int\n",
        "var3 = 0.718 # float\n",
        "var4 = True #bool\n",
        "var5 = 1j+1 #complex\n",
        "var7='Saya siap belajar bersama Pejuang Data'\n",
        "print(var7)"
      ],
      "execution_count": null,
      "outputs": [
        {
          "output_type": "stream",
          "text": [
            "Assalamualaikum Dunia Saya Mirza!\n",
            "Saya siap belajar bersama Pejuang Data\n"
          ],
          "name": "stdout"
        }
      ]
    },
    {
      "cell_type": "markdown",
      "metadata": {
        "id": "gAC3CAFawHJ1"
      },
      "source": [
        "**Memanggil variabel dan menampilkan**"
      ]
    },
    {
      "cell_type": "markdown",
      "metadata": {
        "id": "996pBnxgwNf0"
      },
      "source": [
        "Kamu dapat memanggil variabel hanya dengan menuliskan variabel yang sudah kamu buat di atas dan menjalankan cellnya"
      ]
    },
    {
      "cell_type": "code",
      "metadata": {
        "id": "g6_bbvvZwVhY",
        "colab": {
          "base_uri": "https://localhost:8080/",
          "height": 35
        },
        "outputId": "72654636-f1e1-46bc-86c9-85713746ffc8"
      },
      "source": [
        "var1\n"
      ],
      "execution_count": null,
      "outputs": [
        {
          "output_type": "execute_result",
          "data": {
            "application/vnd.google.colaboratory.intrinsic+json": {
              "type": "string"
            },
            "text/plain": [
              "'Assalamualaikum Dunia!'"
            ]
          },
          "metadata": {
            "tags": []
          },
          "execution_count": 21
        }
      ]
    },
    {
      "cell_type": "markdown",
      "metadata": {
        "id": "4eUl4LHlwZr3"
      },
      "source": [
        "Saatnya kamu mencoba!!!"
      ]
    },
    {
      "cell_type": "code",
      "metadata": {
        "id": "o_0CkJeoR526",
        "colab": {
          "base_uri": "https://localhost:8080/",
          "height": 35
        },
        "outputId": "9c638bdd-c12c-45f2-f104-d6fbb89db6bc"
      },
      "source": [
        "var1\n"
      ],
      "execution_count": null,
      "outputs": [
        {
          "output_type": "execute_result",
          "data": {
            "application/vnd.google.colaboratory.intrinsic+json": {
              "type": "string"
            },
            "text/plain": [
              "'Assalamualaikum Dunia Saya Mirza!'"
            ]
          },
          "metadata": {
            "tags": []
          },
          "execution_count": 23
        }
      ]
    },
    {
      "cell_type": "markdown",
      "metadata": {
        "id": "_fXoG5cvwliz"
      },
      "source": [
        "Selain itu, kamu juga bisa mencetak, atau menampilkan variabel yang sudah kamu buat dengan cara memasukkan syntak **print(*variable*)**. Contohnya sebagai berikut:"
      ]
    },
    {
      "cell_type": "code",
      "metadata": {
        "id": "1QQDTfwgw1X4",
        "colab": {
          "base_uri": "https://localhost:8080/"
        },
        "outputId": "80faf40d-3cd4-4929-d795-96ff5ff114fa"
      },
      "source": [
        "print(var1) #tipe data string\n",
        "print(var2) #tipe data integer\n",
        "print(var3) #tipe data float\n",
        "print(var4) #tipe data boolean\n",
        "print(var5) #tipe data Complex"
      ],
      "execution_count": null,
      "outputs": [
        {
          "output_type": "stream",
          "text": [
            "Assalamualaikum Dunia!\n",
            "1234567890\n",
            "0.123456789\n",
            "False\n",
            "(1+1j)\n"
          ],
          "name": "stdout"
        }
      ]
    },
    {
      "cell_type": "markdown",
      "metadata": {
        "id": "sx2xL6rBw4DI"
      },
      "source": [
        "Sekarang, tampilkan variabelmu sendiri:"
      ]
    },
    {
      "cell_type": "code",
      "metadata": {
        "id": "8JJMEObiw8UA",
        "colab": {
          "base_uri": "https://localhost:8080/"
        },
        "outputId": "42ac4366-b37e-4e86-c66e-e726c962dcf5"
      },
      "source": [
        "print(var1) \n",
        "print(var2) \n",
        "print(var3) \n",
        "print(var4) \n",
        "print(var5)\n",
        "print(var7)"
      ],
      "execution_count": null,
      "outputs": [
        {
          "output_type": "stream",
          "text": [
            "Assalamualaikum Dunia Saya Mirza!\n",
            "9876543210\n",
            "0.718\n",
            "True\n",
            "(1+1j)\n",
            "Saya siap belajar bersama Pejuang Data\n"
          ],
          "name": "stdout"
        }
      ]
    },
    {
      "cell_type": "markdown",
      "metadata": {
        "id": "2bbm3gzTxF7i"
      },
      "source": [
        "Note: Tanda Pagar (#) berfungsi sebagai komentar, tidak dijalankan sebagai perintah pemrograman"
      ]
    },
    {
      "cell_type": "markdown",
      "metadata": {
        "id": "2F-xcS4yxlHN"
      },
      "source": [
        "### Tipe Data"
      ]
    },
    {
      "cell_type": "markdown",
      "metadata": {
        "id": "SgWP52IMmFtz"
      },
      "source": [
        "Tipe data adalah kumpulan tipe yang dapat kamu temukan di semua data. Dengan memahami tipe data, kamu dapat menentukan nilai data yang dimiliki dari data tersebut."
      ]
    },
    {
      "cell_type": "markdown",
      "metadata": {
        "id": "llL51Zdwxwpb"
      },
      "source": [
        "\n",
        "**Mengenal Beberapa Tipe Data Pada Python:**\n",
        "1.   String\n",
        "2.   Number (Integer, Float, Complex, Boolean)\n"
      ]
    },
    {
      "cell_type": "markdown",
      "metadata": {
        "id": "eLHFbBYox2WK"
      },
      "source": [
        "**Melihat Tipe Data dari Suatu Variabel**"
      ]
    },
    {
      "cell_type": "markdown",
      "metadata": {
        "id": "kw7AVHzXx3u9"
      },
      "source": [
        "Kamu bisa melihat tipe variabel yang sudah kamu buat,apakah tipe data kamu adalah int, float, boolean, string, dll menggunakan fungsi **type(*variabel*)**, sebagai berikut:"
      ]
    },
    {
      "cell_type": "code",
      "metadata": {
        "id": "0cliBOA8x00W",
        "colab": {
          "base_uri": "https://localhost:8080/"
        },
        "outputId": "09fe618f-b2b0-4382-d254-1c02714667fa"
      },
      "source": [
        "type(var1)"
      ],
      "execution_count": null,
      "outputs": [
        {
          "output_type": "execute_result",
          "data": {
            "text/plain": [
              "str"
            ]
          },
          "metadata": {
            "tags": []
          },
          "execution_count": 24
        }
      ]
    },
    {
      "cell_type": "markdown",
      "metadata": {
        "id": "B6V8BwCbyVIg"
      },
      "source": [
        "Sekarang coba kamu cek tipe variabel yang udah kamu buat!!!"
      ]
    },
    {
      "cell_type": "code",
      "metadata": {
        "id": "-T8yJE3TyZAn",
        "colab": {
          "base_uri": "https://localhost:8080/"
        },
        "outputId": "517aa3bd-bfa9-4673-e573-9a73c1eabd58"
      },
      "source": [
        "type(var1)  "
      ],
      "execution_count": null,
      "outputs": [
        {
          "output_type": "execute_result",
          "data": {
            "text/plain": [
              "str"
            ]
          },
          "metadata": {
            "tags": []
          },
          "execution_count": 26
        }
      ]
    },
    {
      "cell_type": "code",
      "metadata": {
        "id": "4fIU1FKw4mpE",
        "colab": {
          "base_uri": "https://localhost:8080/"
        },
        "outputId": "a207a52d-7e8e-4f91-cb62-21eb363a0850"
      },
      "source": [
        "type(var3)"
      ],
      "execution_count": null,
      "outputs": [
        {
          "output_type": "execute_result",
          "data": {
            "text/plain": [
              "float"
            ]
          },
          "metadata": {
            "tags": []
          },
          "execution_count": 28
        }
      ]
    },
    {
      "cell_type": "code",
      "metadata": {
        "id": "3CW9nxxN4s05",
        "colab": {
          "base_uri": "https://localhost:8080/"
        },
        "outputId": "43165891-8ab3-4d01-beda-936961cf1907"
      },
      "source": [
        "type(var5)"
      ],
      "execution_count": null,
      "outputs": [
        {
          "output_type": "execute_result",
          "data": {
            "text/plain": [
              "complex"
            ]
          },
          "metadata": {
            "tags": []
          },
          "execution_count": 29
        }
      ]
    },
    {
      "cell_type": "code",
      "metadata": {
        "id": "5wkj-Fq64svF",
        "colab": {
          "base_uri": "https://localhost:8080/"
        },
        "outputId": "c83c36a7-b240-4de1-8c70-697e34d427ad"
      },
      "source": [
        "type(var7)"
      ],
      "execution_count": null,
      "outputs": [
        {
          "output_type": "execute_result",
          "data": {
            "text/plain": [
              "str"
            ]
          },
          "metadata": {
            "tags": []
          },
          "execution_count": 30
        }
      ]
    },
    {
      "cell_type": "markdown",
      "metadata": {
        "id": "spcVxw41ygO3"
      },
      "source": [
        "Kok yang tampil cuma yang terakhir!!!, ya emang begitu, python hanya akan ngejalanin line terakhir untuk ditampilin, biar tampil semua maka kita print aja seperti di bawah ini:"
      ]
    },
    {
      "cell_type": "code",
      "metadata": {
        "id": "HS7qXuc2zAw9",
        "colab": {
          "base_uri": "https://localhost:8080/"
        },
        "outputId": "0aab6739-0da5-4c76-db93-596e54e21fea"
      },
      "source": [
        "print(var1,'Tipe data var1:', type(var1))\n",
        "print(var2,'Tipe data var2:', type(var2))\n",
        "print(var3,'Tipe data var3:', type(var3))\n",
        "print(var4,'Tipe data var4:', type(var4))\n",
        "print(var5,'Tipe data var5:', type(var5))"
      ],
      "execution_count": null,
      "outputs": [
        {
          "output_type": "stream",
          "text": [
            "Assalamualaikum Dunia Saya Mirza! Tipe data var1: <class 'str'>\n",
            "9876543210 Tipe data var2: <class 'int'>\n",
            "0.718 Tipe data var3: <class 'float'>\n",
            "True Tipe data var4: <class 'bool'>\n",
            "(1+1j) Tipe data var5: <class 'complex'>\n"
          ],
          "name": "stdout"
        }
      ]
    },
    {
      "cell_type": "markdown",
      "metadata": {
        "id": "2HFv--oSzIGb"
      },
      "source": [
        "### Konversi Tipe Data"
      ]
    },
    {
      "cell_type": "markdown",
      "metadata": {
        "id": "paR8fwYXzK0y"
      },
      "source": [
        "Capek gag sih, bikin data baru mulu untuk sebuah tipe data yang berbeda. Kalo capek ya udah, rehat dulu. Nah ada cara lain sih, yaitu dengan mengubah tipe data yang udah kita miliki menjadi tipe data yang kita inginkan. Kadang gag harus ganti kan, cukup komit untuk merubah hal-hal yang sudah ada sesuai keinginan kita. OK Lanjuut.\n",
        "\n",
        "Intinya mah misal kita punya variabel tipenya int tapi kita butuh variabel itu jadi float ya kita bisa konversi, gimana caranya?\n",
        "\n",
        "Pake fungsi donk, fungsinya macem-macem, tapi intinya adalah fungsinya bernama tipe data baru yang ingin kita buat kemudian inputnya adalah tipe data yang mau kita ubah. Begono.\n",
        "\n"
      ]
    },
    {
      "cell_type": "markdown",
      "metadata": {
        "id": "V3WgQpDQfVdP"
      },
      "source": [
        "Bingung?\n",
        "Ini lho macam-macam fungsinya:\n",
        "\n",
        "Fungsi untuk mengubah/konversi tipe data:\n",
        "\n",
        "a. int() : untuk mengubah menjadi integer\n",
        "\n",
        "b. float() : untuk mengubah menjadi float\n",
        "\n",
        "c. str() : untuk mengubah menjadi string\n",
        "\n",
        "d. bool() : untuk mengubah menjadi boolean\n",
        "\n",
        "e. long() : untuk mengubah menjadi integer panjang\n",
        "\n",
        "f. chr() : untuk mengubah menjadi karakter\n",
        "\n",
        "g. bin() : untuk mengubah menjadi bilangan biner\n",
        "\n",
        "h. hex() : untuk mengubah menjadi bilangan Heksadesimal\n",
        "\n",
        "i. oct() : untuk mengubah menjadi bilangan okta\n",
        "\n",
        "Contohnya ini ya:"
      ]
    },
    {
      "cell_type": "code",
      "metadata": {
        "id": "plkvjAkY0HoX",
        "colab": {
          "base_uri": "https://localhost:8080/"
        },
        "outputId": "689fec8b-e801-43a7-9d08-6d2b690668c1"
      },
      "source": [
        "number = 10\n",
        "print(\"data =\", number, \", type =\", type(number))"
      ],
      "execution_count": null,
      "outputs": [
        {
          "output_type": "stream",
          "text": [
            "data = 10 , type = <class 'int'>\n"
          ],
          "name": "stdout"
        }
      ]
    },
    {
      "cell_type": "code",
      "metadata": {
        "id": "1TEC5edF0Mi_",
        "colab": {
          "base_uri": "https://localhost:8080/"
        },
        "outputId": "5146e5fd-ab17-4c98-e81e-d3c516b47424"
      },
      "source": [
        "# Mengkonversi tipe data integer\n",
        "kon_float = float(number)\n",
        "kon_str = str(number)\n",
        "kon_bool = bool(number) #False jika integer = 0, lainnya True (perhatikan hasilnya)\n",
        "\n",
        "# Melihat data yang telah dikonversi\n",
        "print(\"data = \", kon_float , \",type =\", type(kon_float))\n",
        "print(\"data = \", kon_str , \",type =\", type(kon_str))\n",
        "print(\"data = \", kon_bool , \",type =\", type(kon_bool))"
      ],
      "execution_count": null,
      "outputs": [
        {
          "output_type": "stream",
          "text": [
            "data =  10.0 ,type = <class 'float'>\n",
            "data =  10 ,type = <class 'str'>\n",
            "data =  True ,type = <class 'bool'>\n"
          ],
          "name": "stdout"
        }
      ]
    },
    {
      "cell_type": "markdown",
      "metadata": {
        "id": "QLayxkuqnD4Q"
      },
      "source": [
        "Saatnya kamu mencoba!!!"
      ]
    },
    {
      "cell_type": "code",
      "metadata": {
        "id": "usm18JyhBc_l",
        "colab": {
          "base_uri": "https://localhost:8080/"
        },
        "outputId": "9b728602-516b-43a1-bc32-09b2ef5ef025"
      },
      "source": [
        "number = 18\n",
        "print(\"data =\", number, \", type =\", type(number))\n",
        "kon_float = float(number)\n",
        "kon_str = str(number)\n",
        "kon_bool = bool(number)\n",
        "print(\"data = \", kon_float , \",type =\", type(kon_float))\n",
        "print(\"data = \", kon_str , \",type =\", type(kon_str))\n",
        "print(\"data = \", kon_bool , \",type =\", type(kon_bool))"
      ],
      "execution_count": null,
      "outputs": [
        {
          "output_type": "stream",
          "text": [
            "data = 18 , type = <class 'int'>\n",
            "data =  18.0 ,type = <class 'float'>\n",
            "data =  18 ,type = <class 'str'>\n",
            "data =  True ,type = <class 'bool'>\n"
          ],
          "name": "stdout"
        }
      ]
    },
    {
      "cell_type": "markdown",
      "metadata": {
        "id": "BTjZS9m1thuw"
      },
      "source": [
        "## **Berbagai Struktur Data di Python**"
      ]
    },
    {
      "cell_type": "markdown",
      "metadata": {
        "id": "TBsQY66PDWrs"
      },
      "source": [
        "### **List**"
      ]
    },
    {
      "cell_type": "markdown",
      "metadata": {
        "id": "-u6JOj_IDaKk"
      },
      "source": [
        "List adalah jenis kumpulan data terurut (ordered sequence), dan merupakan salah satu variabel yang sering digunakan pada Python. Serupa, namun tak sama dengan array pada bahasa pemrograman lainnya. Bedanya, elemen List pada Python tidak harus memiliki tipe data yang sama. Mendeklarasikan List cukup mudah dengan kurung siku dan elemen yang dipisahkan dengan koma. "
      ]
    },
    {
      "cell_type": "markdown",
      "metadata": {
        "id": "9HjWw49REaRC"
      },
      "source": [
        "*Setiap data di dalamnya dapat diakses dengan indeks yang dimulai dari 0.*"
      ]
    },
    {
      "cell_type": "code",
      "metadata": {
        "id": "dP3www4UEiMu",
        "colab": {
          "base_uri": "https://localhost:8080/"
        },
        "outputId": "d96a2b87-cda1-4acb-8627-000c7026b566"
      },
      "source": [
        "a = [1, 2.2, 'python']\n",
        "a"
      ],
      "execution_count": null,
      "outputs": [
        {
          "output_type": "execute_result",
          "data": {
            "text/plain": [
              "[1, 2.2, 'python']"
            ]
          },
          "metadata": {
            "tags": []
          },
          "execution_count": 29
        }
      ]
    },
    {
      "cell_type": "markdown",
      "metadata": {
        "id": "vhI0ElKOnKxC"
      },
      "source": [
        "Bikin versimu sendiri donk, jangan baca doank! heheheh"
      ]
    },
    {
      "cell_type": "code",
      "metadata": {
        "id": "3jQM3A-vFBHE",
        "colab": {
          "base_uri": "https://localhost:8080/"
        },
        "outputId": "3a8233bc-3f06-42d9-bf2e-c89e17998d65"
      },
      "source": [
        "buah = ['mangga', 'apel', 'jeruk']\n",
        "buah"
      ],
      "execution_count": null,
      "outputs": [
        {
          "output_type": "execute_result",
          "data": {
            "text/plain": [
              "['mangga', 'apel', 'jeruk']"
            ]
          },
          "metadata": {
            "tags": []
          },
          "execution_count": 38
        }
      ]
    },
    {
      "cell_type": "code",
      "metadata": {
        "id": "Fe6976_F6D-V",
        "colab": {
          "base_uri": "https://localhost:8080/"
        },
        "outputId": "c7da3a48-1e74-4956-e51d-2a5432c0a0ec"
      },
      "source": [
        "m = [7, 18, 'cinta']\n",
        "m"
      ],
      "execution_count": null,
      "outputs": [
        {
          "output_type": "execute_result",
          "data": {
            "text/plain": [
              "[7, 18, 'cinta']"
            ]
          },
          "metadata": {
            "tags": []
          },
          "execution_count": 39
        }
      ]
    },
    {
      "cell_type": "markdown",
      "metadata": {
        "id": "xB5by4KJEm-3"
      },
      "source": [
        "Python mengenal slicing operator [ ] yang dapat melakukan ekstraksi sebuah item atau beberapa item yang berada dalam range tertentu pada tipe data urutan (sequences), misalnya list, string dan tuple. Beberapa tipe urutan juga mendukung \"extended slicing\" dengan parameter ketiga berupa \"step\"."
      ]
    },
    {
      "cell_type": "markdown",
      "metadata": {
        "id": "yQr2VKIHEp91"
      },
      "source": [
        "* x[0] artinya mengambil elemen paling awal, dengan  index 0 dari List x.\n",
        "\n",
        "* x[5] artinya mengambil elemen dengan index 5 dari List x.\n",
        "\n",
        "* x[-1] artinya mengambil elemen dengan index paling belakang ke-1 dari List x.\n",
        "\n",
        "* x[3:5] artinya membuat list dari anggota elemen List x dengan index 3 hingga sebelum index 5 (tidak termasuk elemen dengan index 5, dalam hal ini hanya index 3-4).\n",
        "\n",
        "* x[:5] artinya membuat list dari anggota elemen List x paling awal hingga sebelum index 5 (tidak termasuk elemen dengan index 5, dalam hal ini hanya index 0-4).\n",
        "\n",
        "* x[-3:] artinya membuat list dari anggota elemen List x mulai index ke-3 dari belakang hingga paling belakang.\n",
        "\n",
        "* x[1:7:2] artinya membuat list dari anggota elemen List x dengan index 1 hingga sebelum index 7, dengan \"step\" 2 (dalam hal ini hanya index 1, 3, 5)."
      ]
    },
    {
      "cell_type": "code",
      "metadata": {
        "id": "VUCcs22SE9YD",
        "colab": {
          "base_uri": "https://localhost:8080/"
        },
        "outputId": "c4ab6f0f-4ffc-47a8-e0ce-a0973b9c7aeb"
      },
      "source": [
        "x = [5,10,15,20,25,30,35,40]\n",
        "print(x[5])\n",
        "print(x[-1])\n",
        "print(x[3:5])\n",
        "print(x[:5])\n",
        "print(x[-3:])\n",
        "print(x[1:7:2])"
      ],
      "execution_count": null,
      "outputs": [
        {
          "output_type": "stream",
          "text": [
            "30\n",
            "40\n",
            "[20, 25]\n",
            "[5, 10, 15, 20, 25]\n",
            "[30, 35, 40]\n",
            "[10, 20, 30]\n"
          ],
          "name": "stdout"
        }
      ]
    },
    {
      "cell_type": "markdown",
      "metadata": {
        "id": "67egXHvonS_-"
      },
      "source": [
        "Cobain ya!"
      ]
    },
    {
      "cell_type": "code",
      "metadata": {
        "id": "novBhwPUFKVp",
        "colab": {
          "base_uri": "https://localhost:8080/"
        },
        "outputId": "43d49740-1831-4f22-8bde-b722c70f8037"
      },
      "source": [
        "x = [2,3,5,7,11,13,17,23]\n",
        "print(x[5])\n",
        "print(x[-1])\n",
        "print(x[3:5])\n",
        "print(x[:5])\n",
        "print(x[-3:])\n",
        "print(x[1:7:2])"
      ],
      "execution_count": null,
      "outputs": [
        {
          "output_type": "stream",
          "text": [
            "13\n",
            "23\n",
            "[7, 11]\n",
            "[2, 3, 5, 7, 11]\n",
            "[13, 17, 23]\n",
            "[3, 7, 13]\n"
          ],
          "name": "stdout"
        }
      ]
    },
    {
      "cell_type": "markdown",
      "metadata": {
        "id": "QdPay12ZE8qW"
      },
      "source": [
        "Elemen pada list dapat diubah atau ditambahkan. Misalnya untuk melakukan perubahan kemudian penambahan:"
      ]
    },
    {
      "cell_type": "code",
      "metadata": {
        "id": "DQO34qKLFSVm",
        "colab": {
          "base_uri": "https://localhost:8080/"
        },
        "outputId": "77f0cb24-5f32-48bf-9d66-cf7c4440193c"
      },
      "source": [
        "#Mengganti elemen\n",
        "x = [1,2,3]\n",
        "x[2]=4\n",
        "print (x)"
      ],
      "execution_count": null,
      "outputs": [
        {
          "output_type": "stream",
          "text": [
            "[1, 2, 4]\n"
          ],
          "name": "stdout"
        }
      ]
    },
    {
      "cell_type": "code",
      "metadata": {
        "id": "aB6N_xlXFY5-",
        "colab": {
          "base_uri": "https://localhost:8080/"
        },
        "outputId": "3e2905d6-1e28-49fb-df53-92f4ed8b41bc"
      },
      "source": [
        "#Menambah elemen\n",
        "x = [1,2,3]\n",
        "x[2]=4\n",
        "x.append(5) #append artinya menambah\n",
        "print(x)"
      ],
      "execution_count": null,
      "outputs": [
        {
          "output_type": "stream",
          "text": [
            "[1, 2, 4, 5]\n"
          ],
          "name": "stdout"
        }
      ]
    },
    {
      "cell_type": "markdown",
      "metadata": {
        "id": "1FwZzKnb9M-K"
      },
      "source": [
        "Saatnya kamu mencoba!\n",
        "\n",
        "\n",
        "\n",
        "\n"
      ]
    },
    {
      "cell_type": "code",
      "metadata": {
        "id": "v_cJVZhOFqQP",
        "colab": {
          "base_uri": "https://localhost:8080/"
        },
        "outputId": "da22bf58-7205-48f5-a370-436f7cae406b"
      },
      "source": [
        "x = [17,9,18]\n",
        "x[1]=3\n",
        "print (x)"
      ],
      "execution_count": null,
      "outputs": [
        {
          "output_type": "stream",
          "text": [
            "[17, 3, 18]\n"
          ],
          "name": "stdout"
        }
      ]
    },
    {
      "cell_type": "code",
      "metadata": {
        "id": "-gw0NZWX67xV",
        "colab": {
          "base_uri": "https://localhost:8080/"
        },
        "outputId": "67b4e432-b22e-408f-e07b-799055b3bfb0"
      },
      "source": [
        "x = [14,16,18,18]\n",
        "x[2]=17\n",
        "x.append(19) \n",
        "print(x)"
      ],
      "execution_count": null,
      "outputs": [
        {
          "output_type": "stream",
          "text": [
            "[14, 16, 17, 18, 19]\n"
          ],
          "name": "stdout"
        }
      ]
    },
    {
      "cell_type": "markdown",
      "metadata": {
        "id": "Qrrd8dGqFRgS"
      },
      "source": [
        "Untuk menghapus item pada list, gunakan fungsi del. *Ingat bahwa Indeks Python dimulai dari 0*:"
      ]
    },
    {
      "cell_type": "code",
      "metadata": {
        "id": "BNn8vPf0FkUH",
        "colab": {
          "base_uri": "https://localhost:8080/"
        },
        "outputId": "7b2917b8-fdf2-4213-ba90-de907fcc333a"
      },
      "source": [
        "binatang = ['kucing', 'rusa', 'badak', 'gajah']\n",
        "del binatang[2]\n",
        "print(binatang)"
      ],
      "execution_count": null,
      "outputs": [
        {
          "output_type": "stream",
          "text": [
            "['kucing', 'rusa', 'gajah']\n"
          ],
          "name": "stdout"
        }
      ]
    },
    {
      "cell_type": "markdown",
      "metadata": {
        "id": "V9ZGWkmDnivN"
      },
      "source": [
        "Do it by yourself"
      ]
    },
    {
      "cell_type": "code",
      "metadata": {
        "id": "BWMmSjyzFtrX",
        "colab": {
          "base_uri": "https://localhost:8080/"
        },
        "outputId": "56d64d73-c0f3-41c4-cf55-f4c08da51c97"
      },
      "source": [
        "bunga = ['mawar','bank','melati','tulip']\n",
        "del bunga[1]\n",
        "print(bunga)"
      ],
      "execution_count": null,
      "outputs": [
        {
          "output_type": "stream",
          "text": [
            "['mawar', 'melati', 'tulip']\n"
          ],
          "name": "stdout"
        }
      ]
    },
    {
      "cell_type": "markdown",
      "metadata": {
        "id": "-kbc__RHFyaP"
      },
      "source": [
        "Coba tambahkan kembali:"
      ]
    },
    {
      "cell_type": "markdown",
      "metadata": {
        "id": "lCCqLRGAnnZM"
      },
      "source": [
        "Cobain yaa!"
      ]
    },
    {
      "cell_type": "code",
      "metadata": {
        "id": "COT_ExKz9PGn",
        "colab": {
          "base_uri": "https://localhost:8080/"
        },
        "outputId": "4a831047-cb77-4219-e55a-462790948e29"
      },
      "source": [
        "bunga = ['mawar','bank','melati','tulip']\n",
        "del bunga[2]\n",
        "print(bunga)"
      ],
      "execution_count": null,
      "outputs": [
        {
          "output_type": "stream",
          "text": [
            "['mawar', 'bank', 'tulip']\n"
          ],
          "name": "stdout"
        }
      ]
    },
    {
      "cell_type": "markdown",
      "metadata": {
        "id": "C9NM4R56F9_e"
      },
      "source": [
        "Slicing pada String"
      ]
    },
    {
      "cell_type": "markdown",
      "metadata": {
        "id": "dPZO0puQGAbG"
      },
      "source": [
        "Karena string mirip dengan list, maka slicing operator [ ]  juga dapat digunakan pada string untuk mengambil isinya atau bahkan substring. Sebuah string utuh bersifat mutable (bisa diubah), namun elemennya bersifat immutable (tidak bisa diubah)."
      ]
    },
    {
      "cell_type": "code",
      "metadata": {
        "id": "DyvdYPs0GGU8",
        "colab": {
          "base_uri": "https://localhost:8080/"
        },
        "outputId": "a7dbe483-6017-4990-acc3-f37f6d684566"
      },
      "source": [
        "s = \"Assalamualaikum Dunia!\"\n",
        "print(s[4]) \t\t#ambil karakter kelima dari string s\n",
        "print(s[6:11]) \t\t#ambil karakter ketujuh hingga sebelas dari string s\n",
        "s = \"Halo Dunia!\"\t#ubah isi string s menjadi \"Halo Dunia!\", seharusnya berhasil karena mutable\n",
        "print (s)"
      ],
      "execution_count": null,
      "outputs": [
        {
          "output_type": "stream",
          "text": [
            "l\n",
            "muala\n",
            "Halo Dunia!\n"
          ],
          "name": "stdout"
        }
      ]
    },
    {
      "cell_type": "code",
      "metadata": {
        "id": "1kjxRvOxGlDc",
        "colab": {
          "base_uri": "https://localhost:8080/",
          "height": 164
        },
        "outputId": "b9bfce22-4aeb-463c-eb4f-76792b1f9f55"
      },
      "source": [
        "s[5]=\"d\"        #ubah karakter keenam dari string s menjadi \"d\", seharusnya gagal karena immutable"
      ],
      "execution_count": null,
      "outputs": [
        {
          "output_type": "error",
          "ename": "TypeError",
          "evalue": "ignored",
          "traceback": [
            "\u001b[0;31m---------------------------------------------------------------------------\u001b[0m",
            "\u001b[0;31mTypeError\u001b[0m                                 Traceback (most recent call last)",
            "\u001b[0;32m<ipython-input-36-bf85af8166af>\u001b[0m in \u001b[0;36m<module>\u001b[0;34m()\u001b[0m\n\u001b[0;32m----> 1\u001b[0;31m \u001b[0ms\u001b[0m\u001b[0;34m[\u001b[0m\u001b[0;36m5\u001b[0m\u001b[0;34m]\u001b[0m\u001b[0;34m=\u001b[0m\u001b[0;34m\"d\"\u001b[0m        \u001b[0;31m#ubah karakter keenam dari string s menjadi \"d\", seharusnya gagal karena immutable\u001b[0m\u001b[0;34m\u001b[0m\u001b[0;34m\u001b[0m\u001b[0m\n\u001b[0m",
            "\u001b[0;31mTypeError\u001b[0m: 'str' object does not support item assignment"
          ]
        }
      ]
    },
    {
      "cell_type": "markdown",
      "metadata": {
        "id": "qtxJS1UUn4Bx"
      },
      "source": [
        "Cobain yaa!\n",
        "\n",
        "\n",
        "\n"
      ]
    },
    {
      "cell_type": "code",
      "metadata": {
        "id": "NsEGK9mYGMdI",
        "colab": {
          "base_uri": "https://localhost:8080/"
        },
        "outputId": "1616fa30-e6c1-4c61-bd46-5b0611e2a326"
      },
      "source": [
        "s = \"Welcome Guys!\"\n",
        "print(s[3]) \t\t\n",
        "print(s[4:7]) \t\t\n",
        "s = \"Hello World!\"\t\n",
        "print (s)"
      ],
      "execution_count": null,
      "outputs": [
        {
          "output_type": "stream",
          "text": [
            "c\n",
            "ome\n",
            "Hello World!\n"
          ],
          "name": "stdout"
        }
      ]
    },
    {
      "cell_type": "markdown",
      "metadata": {
        "id": "yfrh-45tGopf"
      },
      "source": [
        "### **Tuple**"
      ]
    },
    {
      "cell_type": "markdown",
      "metadata": {
        "id": "q5-ebJrYGsDd"
      },
      "source": [
        "Tuple adalah jenis dari list yang tidak dapat diubah elemennya. Umumnya tuple digunakan untuk data yang bersifat sekali tulis, dan dapat dieksekusi lebih cepat. Tuple didefinisikan dengan kurung dan elemen yang dipisahkan dengan koma."
      ]
    },
    {
      "cell_type": "code",
      "metadata": {
        "id": "rIVXM9wAGugD",
        "colab": {
          "base_uri": "https://localhost:8080/"
        },
        "outputId": "c211077a-9f67-46e7-c783-1e4318394ef3"
      },
      "source": [
        "t = (5,'program', 1+3j)\n",
        "t"
      ],
      "execution_count": null,
      "outputs": [
        {
          "output_type": "execute_result",
          "data": {
            "text/plain": [
              "(5, 'program', (1+3j))"
            ]
          },
          "metadata": {
            "tags": []
          },
          "execution_count": 37
        }
      ]
    },
    {
      "cell_type": "markdown",
      "metadata": {
        "id": "SthCvnFyGwo4"
      },
      "source": [
        "Seperti list, kita dapat melakukan slicing, namun pada tuple kita tidak dapat melakukan perubahan:"
      ]
    },
    {
      "cell_type": "code",
      "metadata": {
        "id": "wdkkWKo8G2TZ",
        "colab": {
          "base_uri": "https://localhost:8080/"
        },
        "outputId": "1decb4ac-75c2-415b-e806-f3b7373fe35f"
      },
      "source": [
        "t = (5,'program', 1+3j)\n",
        "print(t[1])\n",
        "print(t[0:3])\n"
      ],
      "execution_count": null,
      "outputs": [
        {
          "output_type": "stream",
          "text": [
            "program\n",
            "(5, 'program', (1+3j))\n"
          ],
          "name": "stdout"
        }
      ]
    },
    {
      "cell_type": "code",
      "metadata": {
        "id": "LQ_PPY-MG_ZA",
        "colab": {
          "base_uri": "https://localhost:8080/",
          "height": 130
        },
        "outputId": "65dd33d8-9dae-467a-c699-0cc302794b6b"
      },
      "source": [
        "print(t[0]=10) #Kok gagal, kenapa hayoooooo"
      ],
      "execution_count": null,
      "outputs": [
        {
          "output_type": "error",
          "ename": "SyntaxError",
          "evalue": "ignored",
          "traceback": [
            "\u001b[0;36m  File \u001b[0;32m\"<ipython-input-39-8ad875f67ba4>\"\u001b[0;36m, line \u001b[0;32m1\u001b[0m\n\u001b[0;31m    print(t[0]=10) #Kok gagal, kenapa hayoooooo\u001b[0m\n\u001b[0m         ^\u001b[0m\n\u001b[0;31mSyntaxError\u001b[0m\u001b[0;31m:\u001b[0m keyword can't be an expression\n"
          ]
        }
      ]
    },
    {
      "cell_type": "code",
      "metadata": {
        "id": "nRPuYpMaHFXH",
        "colab": {
          "base_uri": "https://localhost:8080/"
        },
        "outputId": "91838d52-e8fb-4c23-c11e-abc7836711a9"
      },
      "source": [
        "a = (5, 6, 7,'aku')#bikin sendiri donk, kreatif dikit napa\n",
        "print (a)\n",
        "print(a[1])\n",
        "del[]"
      ],
      "execution_count": null,
      "outputs": [
        {
          "output_type": "stream",
          "text": [
            "(5, 6, 7, 'aku')\n",
            "6\n"
          ],
          "name": "stdout"
        }
      ]
    },
    {
      "cell_type": "markdown",
      "metadata": {
        "id": "Ufp-xMDRHWor"
      },
      "source": [
        "### **Set**"
      ]
    },
    {
      "cell_type": "markdown",
      "metadata": {
        "id": "0K6YzzmLHZN1"
      },
      "source": [
        "Set adalah kumpulan item bersifat unik dan tanpa urutan (unordered collection). Didefinisikan dengan kurawal dan elemennya dipisahkan dengan koma. Pada Set kita dapat melakukan union dan intersection, sekaligus otomatis melakukan penghapusan data duplikat."
      ]
    },
    {
      "cell_type": "code",
      "metadata": {
        "id": "adRdgxovHbKI",
        "colab": {
          "base_uri": "https://localhost:8080/"
        },
        "outputId": "8806bc80-2506-49f8-fa69-cdada308d757"
      },
      "source": [
        "a = {1,2,2,3,3,3}\n",
        "print(a)"
      ],
      "execution_count": null,
      "outputs": [
        {
          "output_type": "stream",
          "text": [
            "{1, 2, 3}\n"
          ],
          "name": "stdout"
        }
      ]
    },
    {
      "cell_type": "markdown",
      "metadata": {
        "id": "CXmsYZIwHjpl"
      },
      "source": [
        "Karena set bersifat unordered, maka kita tidak bisa mengambil sebagian data / elemen datanya menggunakan proses slicing."
      ]
    },
    {
      "cell_type": "code",
      "metadata": {
        "id": "gonptHs5Hk3C",
        "colab": {
          "base_uri": "https://localhost:8080/",
          "height": 181
        },
        "outputId": "ee31c8cd-7b11-4a8a-a51f-2e9295cdcbfd"
      },
      "source": [
        "a = {1,2,3}\n",
        "print(a[1])"
      ],
      "execution_count": null,
      "outputs": [
        {
          "output_type": "error",
          "ename": "TypeError",
          "evalue": "ignored",
          "traceback": [
            "\u001b[0;31m---------------------------------------------------------------------------\u001b[0m",
            "\u001b[0;31mTypeError\u001b[0m                                 Traceback (most recent call last)",
            "\u001b[0;32m<ipython-input-42-3732f14f209e>\u001b[0m in \u001b[0;36m<module>\u001b[0;34m()\u001b[0m\n\u001b[1;32m      1\u001b[0m \u001b[0ma\u001b[0m \u001b[0;34m=\u001b[0m \u001b[0;34m{\u001b[0m\u001b[0;36m1\u001b[0m\u001b[0;34m,\u001b[0m\u001b[0;36m2\u001b[0m\u001b[0;34m,\u001b[0m\u001b[0;36m3\u001b[0m\u001b[0;34m}\u001b[0m\u001b[0;34m\u001b[0m\u001b[0;34m\u001b[0m\u001b[0m\n\u001b[0;32m----> 2\u001b[0;31m \u001b[0mprint\u001b[0m\u001b[0;34m(\u001b[0m\u001b[0ma\u001b[0m\u001b[0;34m[\u001b[0m\u001b[0;36m1\u001b[0m\u001b[0;34m]\u001b[0m\u001b[0;34m)\u001b[0m\u001b[0;34m\u001b[0m\u001b[0;34m\u001b[0m\u001b[0m\n\u001b[0m",
            "\u001b[0;31mTypeError\u001b[0m: 'set' object is not subscriptable"
          ]
        }
      ]
    },
    {
      "cell_type": "markdown",
      "metadata": {
        "id": "1FmHwEmNHpAj"
      },
      "source": [
        "### **Dictionary**"
      ]
    },
    {
      "cell_type": "markdown",
      "metadata": {
        "id": "FgjmIuQ0I90t"
      },
      "source": [
        "Dictionary pada Python adalah kumpulan pasangan kunci-nilai (pair of key-value) yang bersifat tidak berurutan. Dictionary dapat digunakan untuk menyimpan data kecil hingga besar. Untuk mengakses datanya, kita harus mengetahui kuncinya (key). Pada Python, dictionary didefinisikan dengan kurawal dan tambahan definisi berikut:"
      ]
    },
    {
      "cell_type": "markdown",
      "metadata": {
        "id": "HRXgW2D3I_-6"
      },
      "source": [
        "1. Setiap elemen pair key-value dipisahkan dengan koma (,).\n",
        "2. Key dan Value dipisahkan dengan titik dua (:).\n",
        "3. Key dan Value dapat berupa tipe variabel/obyek apapun."
      ]
    },
    {
      "cell_type": "code",
      "metadata": {
        "id": "OPuAC6kKJFAQ",
        "colab": {
          "base_uri": "https://localhost:8080/"
        },
        "outputId": "11d47bdd-21cf-482f-e461-620ba5cb9b29"
      },
      "source": [
        "d = {1:'value','key':2}\n",
        "print(type(d))"
      ],
      "execution_count": null,
      "outputs": [
        {
          "output_type": "stream",
          "text": [
            "<class 'dict'>\n"
          ],
          "name": "stdout"
        }
      ]
    },
    {
      "cell_type": "code",
      "metadata": {
        "id": "fvOfhQMsJHi-",
        "colab": {
          "base_uri": "https://localhost:8080/"
        },
        "outputId": "6a7c0be8-f323-4329-8e65-0943e9f3e387"
      },
      "source": [
        "d = {1:'value','key':2}\n",
        "print(type(d))\n",
        "print(\"d[1] = \", d[1]);\n",
        "print(\"d['key'] = \", d['key']);"
      ],
      "execution_count": null,
      "outputs": [
        {
          "output_type": "stream",
          "text": [
            "<class 'dict'>\n",
            "d[1] =  value\n",
            "d['key'] =  2\n"
          ],
          "name": "stdout"
        }
      ]
    },
    {
      "cell_type": "markdown",
      "metadata": {
        "id": "rmfBt8OxJNGI"
      },
      "source": [
        "Dictionary bukan termasuk dalam implementasi urutan (sequences), sehingga tidak bisa dipanggil dengan urutan indeks. Misalnya dalam contoh berikut dicoba dengan indeks 2, tetapi menghasilkan error (KeyError) karena tidak ada kunci (key) 2:"
      ]
    },
    {
      "cell_type": "code",
      "metadata": {
        "id": "6fDwroEqJOK_",
        "colab": {
          "base_uri": "https://localhost:8080/"
        },
        "outputId": "ab3f8f63-a20a-466d-f10c-b974b0557f67"
      },
      "source": [
        "d = {1:'value','key':2}\n",
        "print(type(d))\n",
        "print(\"d[1] = \", d[1]);\n",
        "print(\"d['key'] = \", d['key']);"
      ],
      "execution_count": null,
      "outputs": [
        {
          "output_type": "stream",
          "text": [
            "<class 'dict'>\n",
            "d[1] =  value\n",
            "d['key'] =  2\n"
          ],
          "name": "stdout"
        }
      ]
    },
    {
      "cell_type": "code",
      "metadata": {
        "id": "O5DEeN6PJScD",
        "colab": {
          "base_uri": "https://localhost:8080/",
          "height": 181
        },
        "outputId": "16aa4964-4d97-46d7-85ba-70cfde1b4af3"
      },
      "source": [
        "# Nyobain error\n",
        "print(\"d[2] = \", d[2]);"
      ],
      "execution_count": null,
      "outputs": [
        {
          "output_type": "error",
          "ename": "KeyError",
          "evalue": "ignored",
          "traceback": [
            "\u001b[0;31m---------------------------------------------------------------------------\u001b[0m",
            "\u001b[0;31mKeyError\u001b[0m                                  Traceback (most recent call last)",
            "\u001b[0;32m<ipython-input-46-e6e41397ea50>\u001b[0m in \u001b[0;36m<module>\u001b[0;34m()\u001b[0m\n\u001b[1;32m      1\u001b[0m \u001b[0;31m# Nyobain error\u001b[0m\u001b[0;34m\u001b[0m\u001b[0;34m\u001b[0m\u001b[0;34m\u001b[0m\u001b[0m\n\u001b[0;32m----> 2\u001b[0;31m \u001b[0mprint\u001b[0m\u001b[0;34m(\u001b[0m\u001b[0;34m\"d[2] = \"\u001b[0m\u001b[0;34m,\u001b[0m \u001b[0md\u001b[0m\u001b[0;34m[\u001b[0m\u001b[0;36m2\u001b[0m\u001b[0;34m]\u001b[0m\u001b[0;34m)\u001b[0m\u001b[0;34m;\u001b[0m\u001b[0;34m\u001b[0m\u001b[0;34m\u001b[0m\u001b[0m\n\u001b[0m",
            "\u001b[0;31mKeyError\u001b[0m: 2"
          ]
        }
      ]
    },
    {
      "cell_type": "code",
      "metadata": {
        "id": "Kcw4IRnIJbCA",
        "colab": {
          "base_uri": "https://localhost:8080/"
        },
        "outputId": "744bdc07-a0aa-467e-c1f6-56b2d44c6ed8"
      },
      "source": [
        "#bikin versimu sendiri yaaa\n",
        "m = {1:'value','key':4}\n",
        "print(type(m))\n",
        "print(\"m[1] = \", m[1]);\n",
        "print(\"m['key'] = \", m['key']);\n"
      ],
      "execution_count": null,
      "outputs": [
        {
          "output_type": "stream",
          "text": [
            "<class 'dict'>\n",
            "m[1] =  value\n",
            "m['key'] =  4\n"
          ],
          "name": "stdout"
        }
      ]
    },
    {
      "cell_type": "code",
      "metadata": {
        "id": "WBv2nCLI-8oz",
        "colab": {
          "base_uri": "https://localhost:8080/",
          "height": 163
        },
        "outputId": "d0233401-d7ba-4237-df5b-82b07f58dbe9"
      },
      "source": [
        "print(\"m[2] = \", m[2]);"
      ],
      "execution_count": null,
      "outputs": [
        {
          "output_type": "error",
          "ename": "KeyError",
          "evalue": "ignored",
          "traceback": [
            "\u001b[0;31m---------------------------------------------------------------------------\u001b[0m",
            "\u001b[0;31mKeyError\u001b[0m                                  Traceback (most recent call last)",
            "\u001b[0;32m<ipython-input-82-72d4d7015966>\u001b[0m in \u001b[0;36m<module>\u001b[0;34m()\u001b[0m\n\u001b[0;32m----> 1\u001b[0;31m \u001b[0mprint\u001b[0m\u001b[0;34m(\u001b[0m\u001b[0;34m\"m[2] = \"\u001b[0m\u001b[0;34m,\u001b[0m \u001b[0mm\u001b[0m\u001b[0;34m[\u001b[0m\u001b[0;36m2\u001b[0m\u001b[0;34m]\u001b[0m\u001b[0;34m)\u001b[0m\u001b[0;34m;\u001b[0m\u001b[0;34m\u001b[0m\u001b[0;34m\u001b[0m\u001b[0m\n\u001b[0m",
            "\u001b[0;31mKeyError\u001b[0m: 2"
          ]
        }
      ]
    },
    {
      "cell_type": "markdown",
      "metadata": {
        "id": "Y_mfIBaOCwFd"
      },
      "source": [
        "### **Konversi Struktur Data**"
      ]
    },
    {
      "cell_type": "markdown",
      "metadata": {
        "id": "PxZ9TS3rC02h"
      },
      "source": [
        "Fungsi untuk mengubah/konversi struktur data:\n",
        "\n",
        "a. list() : untuk mengubah menjadi list\n",
        "\n",
        "b. tuple() : untuk mengubah menjadi tuple\n",
        "\n",
        "c. set() : untuk mengubah menjadi set\n",
        "\n",
        "d. dict() : untuk mengubah menjadi dictonary"
      ]
    },
    {
      "cell_type": "markdown",
      "metadata": {
        "id": "hp1bG1BQC4zb"
      },
      "source": [
        "Contoh:"
      ]
    },
    {
      "cell_type": "code",
      "metadata": {
        "id": "apEPtnDUtmkH",
        "colab": {
          "base_uri": "https://localhost:8080/"
        },
        "outputId": "87ca5de9-1934-46e3-8cb2-7b3cf0751805"
      },
      "source": [
        "list1 = [1,2,3,4,5]\n",
        "list2 = [\"satu\",\"dua\",\"tiga\",\"empat\",\"lima\"]\n",
        "print(\"data = \", list1 , \",type =\", type(list1))"
      ],
      "execution_count": null,
      "outputs": [
        {
          "output_type": "stream",
          "text": [
            "data =  [1, 2, 3, 4, 5] ,type = <class 'list'>\n"
          ],
          "name": "stdout"
        }
      ]
    },
    {
      "cell_type": "code",
      "metadata": {
        "id": "9hbpCgC7C9v3",
        "colab": {
          "base_uri": "https://localhost:8080/"
        },
        "outputId": "5c7fa0ed-662c-4e1d-c091-37ddff0859f6"
      },
      "source": [
        "# Mengkonversi struktur data list\n",
        "kon_tuple = tuple(list1)\n",
        "kon_set = set(list1)\n",
        "kon_dict = dict(zip(list2,list1))\n",
        "\n",
        "# Melihat data yang telah dikonversi\n",
        "print(kon_tuple)\n",
        "print(kon_set)\n",
        "print(kon_dict)"
      ],
      "execution_count": null,
      "outputs": [
        {
          "output_type": "stream",
          "text": [
            "(1, 2, 3, 4, 5)\n",
            "{1, 2, 3, 4, 5}\n",
            "{'satu': 1, 'dua': 2, 'tiga': 3, 'empat': 4, 'lima': 5}\n"
          ],
          "name": "stdout"
        }
      ]
    },
    {
      "cell_type": "markdown",
      "metadata": {
        "id": "o5MfcC36Jpxu"
      },
      "source": [
        "Nah sampai sini, coba kamu tulis pemahaman kamu tentang List, Tuple, Set, dan Dictionary, tulis pake bahasa kamu sendiri ya:\n",
        "\n",
        "\n",
        "\n",
        "\n",
        "\n",
        "\n",
        "\n",
        "\n",
        "\n",
        "\n",
        "\n",
        "\n",
        "\n",
        "\n"
      ]
    },
    {
      "cell_type": "markdown",
      "metadata": {
        "id": "gO7P-v4i_Mdl"
      },
      "source": [
        "\n",
        "\n",
        "*   List adalah salah satu jenis kumpulan data yang terurut pada phyton, elemennya bisa dipakai untuk data yang berbeda misal dalam satu data bisa ada integer dan string, jadi tipe datanya gak harus sama. simbolnya pake kurung siku dan elemen yang dipisahkan dengan koma. \n",
        "*   Set adalah kumpulan item bersifat unik dan tanpa urutan. Didefinisikan dengan kurawal dan elemennya dipisahkan dengan koma. Pada Set bisa dipakai untuk gabungan dan irisan sekaligus otomatis melakukan penghapusan data duplikat.\n",
        "*  Dictionary adalah kumpulan pasangan kunci-nilai yang tidak berurutan. Dictionary dapat digunakan untuk menyimpan data kecil hingga besar. Untuk mengakses datanya, kita harus mengetahui kuncinya (key). Pada Python, dictionary didefinisikan dengan kurawal \n",
        "*   Tuple adalah jenis dari list yang tidak dapat diubah elemennya. Umumnya tuple digunakan untuk data yang bersifat sekali tulis, dan dapat dieksekusi lebih cepat. Tuple didefinisikan dengan kurung dan elemen yang dipisahkan dengan koma."
      ]
    },
    {
      "cell_type": "markdown",
      "metadata": {
        "id": "3uj7jo-sJ6EF"
      },
      "source": [
        "#**Udah Dulu Ya**\n",
        "\n",
        "Alhamdulillah\n",
        "\n",
        "\n",
        "\n",
        "\n",
        "\n",
        "\n",
        "\n"
      ]
    }
  ]
}