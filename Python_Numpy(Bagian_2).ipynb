{
  "nbformat": 4,
  "nbformat_minor": 0,
  "metadata": {
    "colab": {
      "name": "Python_Numpy(Bagian_2).ipynb",
      "provenance": [],
      "collapsed_sections": [],
      "toc_visible": true,
      "include_colab_link": true
    },
    "kernelspec": {
      "display_name": "Python 3",
      "name": "python3"
    },
    "language_info": {
      "name": "python"
    }
  },
  "cells": [
    {
      "cell_type": "markdown",
      "metadata": {
        "id": "view-in-github",
        "colab_type": "text"
      },
      "source": [
        "<a href=\"https://colab.research.google.com/github/mirzarenardi01/Basic-Phyton-Programming-for-Data-Science/blob/main/Python_Numpy(Bagian_2).ipynb\" target=\"_parent\"><img src=\"https://colab.research.google.com/assets/colab-badge.svg\" alt=\"Open In Colab\"/></a>"
      ]
    },
    {
      "cell_type": "markdown",
      "metadata": {
        "id": "bcgA1AFOM28z"
      },
      "source": [
        "# Library Numpy"
      ]
    },
    {
      "cell_type": "markdown",
      "metadata": {
        "id": "d-U1Hj2dNhyo"
      },
      "source": [
        "## Pengenalan Numpy"
      ]
    },
    {
      "cell_type": "markdown",
      "metadata": {
        "id": "7GmOqyrbM6fc"
      },
      "source": [
        "Numppy adalah library dasar untuk komputasi saintifik dengan Python. Pada library ini sudah dibangun fungsi-fungsi matematika umum dan aljabar linear. [NumPy] (https://numpy.org/) penting untuk algoritma **Data Sains** atau **Machine Learning**."
      ]
    },
    {
      "cell_type": "markdown",
      "metadata": {
        "id": "imGThOHoNg1K"
      },
      "source": [
        "## Outline\n",
        "\n",
        "1. Pengenalan Numpy\n",
        "2. Installasi\n",
        "3. Array\n",
        "4. Mengakses Array(Indexing/Slicing/Boolean Indexing)\n",
        "5. Operasi Aritmatika Array\n",
        "6. Multidimensional (nd) arrays\n",
        "7. Aljabar Linear\n",
        "8. Modifikasi Array\n",
        "9. Visualisasi Data\n",
        "10. Array VS List\n",
        "11. Speed Test\n",
        "12. Data Science Functions and Axes\n",
        "13. Random\n",
        "\n",
        "\n",
        "\n"
      ]
    },
    {
      "cell_type": "markdown",
      "metadata": {
        "id": "Xm63oLbwNlQR"
      },
      "source": [
        "## Instalasi"
      ]
    },
    {
      "cell_type": "code",
      "metadata": {
        "colab": {
          "base_uri": "https://localhost:8080/"
        },
        "id": "ahozVTUSHIj_",
        "outputId": "c7adbb1a-7690-4c55-b437-d3e2b018091f"
      },
      "source": [
        "pip install numpy"
      ],
      "execution_count": null,
      "outputs": [
        {
          "output_type": "stream",
          "text": [
            "Requirement already satisfied: numpy in /usr/local/lib/python3.7/dist-packages (1.19.5)\n"
          ],
          "name": "stdout"
        }
      ]
    },
    {
      "cell_type": "markdown",
      "metadata": {
        "id": "1sy9oppZNy4f"
      },
      "source": [
        "Mengimpor library Numpy"
      ]
    },
    {
      "cell_type": "code",
      "metadata": {
        "id": "POAf72pmNt3x"
      },
      "source": [
        "import numpy as np"
      ],
      "execution_count": null,
      "outputs": []
    },
    {
      "cell_type": "markdown",
      "metadata": {
        "id": "Ch4oIgCmN2eJ"
      },
      "source": [
        "Melihat versi Numpy"
      ]
    },
    {
      "cell_type": "code",
      "metadata": {
        "colab": {
          "base_uri": "https://localhost:8080/",
          "height": 35
        },
        "id": "K8AJtCLkNyBj",
        "outputId": "fbc9c568-8e15-4c89-d255-f5c1aa5d836a"
      },
      "source": [
        "np.__version__"
      ],
      "execution_count": null,
      "outputs": [
        {
          "output_type": "execute_result",
          "data": {
            "application/vnd.google.colaboratory.intrinsic+json": {
              "type": "string"
            },
            "text/plain": [
              "'1.19.5'"
            ]
          },
          "metadata": {
            "tags": []
          },
          "execution_count": 36
        }
      ]
    },
    {
      "cell_type": "markdown",
      "metadata": {
        "id": "e8OX4WFXOEme"
      },
      "source": [
        "## Array\n",
        "\n",
        "Array adalah sebuah struktur data yang terdiri atas banyak variabel dengan tipe data sama, dimana masing-masing elemen variabel mempunyai nilai indeks"
      ]
    },
    {
      "cell_type": "markdown",
      "metadata": {
        "id": "_KrANMbUPAyo"
      },
      "source": [
        "**Contoh Array**"
      ]
    },
    {
      "cell_type": "code",
      "metadata": {
        "colab": {
          "background_save": true,
          "base_uri": "https://localhost:8080/"
        },
        "id": "57PgryDnN4C6",
        "outputId": "8441e6fd-ab15-412e-c82d-1a1d2ce8a5bd"
      },
      "source": [
        "# Array\n",
        "a = np.array([1,2,3,4,5])\n",
        "print(a)\n",
        "print(a.shape) # ukuran array\n",
        "print(a.dtype) # tipe data elemen array\n",
        "\n",
        "print(a.ndim)\n",
        "print(a.size) # jumlah elemen\n",
        "print(a.itemsize) # ukuran bit untuk masing-masing elemen"
      ],
      "execution_count": null,
      "outputs": [
        {
          "output_type": "stream",
          "text": [
            "[1 2 3 4 5]\n",
            "(5,)\n",
            "int64\n",
            "1\n",
            "5\n",
            "8\n"
          ],
          "name": "stdout"
        }
      ]
    },
    {
      "cell_type": "markdown",
      "metadata": {
        "id": "04HChP7cPC22"
      },
      "source": [
        "**Membuat Array**"
      ]
    },
    {
      "cell_type": "code",
      "metadata": {
        "colab": {
          "background_save": true,
          "base_uri": "https://localhost:8080/"
        },
        "id": "1Gp-XOaXOIsp",
        "outputId": "1ec84d47-5487-4a77-a8d7-32f877b66f45"
      },
      "source": [
        "# Metode Dasar Array\n",
        "a = np.array([1,2,3])\n",
        "\n",
        "# membuat vector\n",
        "a = np.array([1,2,3,4,5])\n",
        "b = np.array([1.5 , 2.5, 5, 6, 7])\n",
        "\n",
        "# membuat vector dengan range\n",
        "c = np.arange(1,10,2)\n",
        "\n",
        "# membuat linspace\n",
        "d = np.linspace(1,10,4)\n",
        "\n",
        "# array multidimensi / matrix\n",
        "e = np.array( [ (1,2,3) , (4,5,6)] )\n",
        "\n",
        "# matrix dengan nilai nol\n",
        "f = np.zeros((5,5))\n",
        "\n",
        "# matrix dengan nilai satu\n",
        "g = np.ones((5,5))\n",
        "\n",
        "# matrix identitas\n",
        "h1 = np.identity(5)\n",
        "h2 = np.eye(5)\n",
        "\n",
        "# display\n",
        "\n",
        "print(h2)"
      ],
      "execution_count": null,
      "outputs": [
        {
          "output_type": "stream",
          "text": [
            "[[1. 0. 0. 0. 0.]\n",
            " [0. 1. 0. 0. 0.]\n",
            " [0. 0. 1. 0. 0.]\n",
            " [0. 0. 0. 1. 0.]\n",
            " [0. 0. 0. 0. 1.]]\n"
          ],
          "name": "stdout"
        }
      ]
    },
    {
      "cell_type": "markdown",
      "metadata": {
        "id": "leXWfUu8PGkx"
      },
      "source": [
        "## Mengakses Array"
      ]
    },
    {
      "cell_type": "markdown",
      "metadata": {
        "id": "ysBwzxF7gp1y"
      },
      "source": [
        "**Mengambil Nilai**"
      ]
    },
    {
      "cell_type": "code",
      "metadata": {
        "colab": {
          "background_save": true,
          "base_uri": "https://localhost:8080/"
        },
        "id": "moHfvyzigt2m",
        "outputId": "5c58aaa7-a78b-499f-f4f4-8512f315feb3"
      },
      "source": [
        "a = np.arange(10)**2\n",
        "\n",
        "print(a)\n",
        "\n",
        "print('elemen ke 1 dari a adalah', a[0])\n",
        "print('elemen ke 7 dari a adalah', a[6])\n",
        "print('elemen ke akhir dari a adalah', a[-1])"
      ],
      "execution_count": null,
      "outputs": [
        {
          "output_type": "stream",
          "text": [
            "[ 0  1  4  9 16 25 36 49 64 81]\n",
            "elemen ke 1 dari a adalah 0\n",
            "elemen ke 7 dari a adalah 36\n",
            "elemen ke akhir dari a adalah 81\n"
          ],
          "name": "stdout"
        }
      ]
    },
    {
      "cell_type": "markdown",
      "metadata": {
        "id": "ymkl0ZfRhUWk"
      },
      "source": [
        "**Mengganti Nilai**"
      ]
    },
    {
      "cell_type": "code",
      "metadata": {
        "colab": {
          "background_save": true,
          "base_uri": "https://localhost:8080/"
        },
        "id": "mt68ZcQphSTd",
        "outputId": "230f8bff-b5ee-4503-bad6-49fc54282220"
      },
      "source": [
        "print(a[0])\n",
        "a[0] = 5\n",
        "print(a)"
      ],
      "execution_count": null,
      "outputs": [
        {
          "output_type": "stream",
          "text": [
            "0\n",
            "[ 5  1  4  9 16 25 36 49 64 81]\n"
          ],
          "name": "stdout"
        }
      ]
    },
    {
      "cell_type": "markdown",
      "metadata": {
        "id": "c5-IipJigvkj"
      },
      "source": [
        "**Slicing**"
      ]
    },
    {
      "cell_type": "code",
      "metadata": {
        "colab": {
          "background_save": true,
          "base_uri": "https://localhost:8080/"
        },
        "id": "yLB7t201cFIE",
        "outputId": "6a23df25-56d6-4ea1-d7f6-14e52ff581c0"
      },
      "source": [
        "print('elemen dari 1-6 adalah',a[0:6]) #[start,end)\n",
        "print('elemen dari 4 sampai akhir', a[3:])\n",
        "print('elemen dari awal sampai 5', a[:5])"
      ],
      "execution_count": null,
      "outputs": [
        {
          "output_type": "stream",
          "text": [
            "elemen dari 1-6 adalah [ 5  1  4  9 16 25]\n",
            "elemen dari 4 sampai akhir [ 9 16 25 36 49 64 81]\n",
            "elemen dari awal sampai 5 [ 5  1  4  9 16]\n"
          ],
          "name": "stdout"
        }
      ]
    },
    {
      "cell_type": "markdown",
      "metadata": {
        "id": "U1O0-VYNhDT0"
      },
      "source": [
        "**Iterasi**"
      ]
    },
    {
      "cell_type": "code",
      "metadata": {
        "colab": {
          "background_save": true,
          "base_uri": "https://localhost:8080/"
        },
        "id": "75wS6xIAhCjv",
        "outputId": "e11f8f34-8ad5-4074-ec44-36f750852ea5"
      },
      "source": [
        "#iterasi\n",
        "for i in a:\n",
        "\tprint('value =',i)"
      ],
      "execution_count": null,
      "outputs": [
        {
          "output_type": "stream",
          "text": [
            "value = 5\n",
            "value = 1\n",
            "value = 4\n",
            "value = 9\n",
            "value = 16\n",
            "value = 25\n",
            "value = 36\n",
            "value = 49\n",
            "value = 64\n",
            "value = 81\n"
          ],
          "name": "stdout"
        }
      ]
    },
    {
      "cell_type": "markdown",
      "metadata": {
        "id": "JPXk61sfhqlX"
      },
      "source": [
        "**Indexing**"
      ]
    },
    {
      "cell_type": "code",
      "metadata": {
        "colab": {
          "background_save": true,
          "base_uri": "https://localhost:8080/"
        },
        "id": "HKbutesMc0bh",
        "outputId": "1a57c8aa-6c23-4d17-8b3b-52aa182e4595"
      },
      "source": [
        "# Boolean indexing:\n",
        "a = np.array([[1,2, 3, 4, 5, 6]])\n",
        "print(a)\n",
        "\n",
        "# same shape with True or False for the condition\n",
        "bool_idx = a > 2\n",
        "print(bool_idx)\n",
        "\n",
        "# note: this will be a rank 1 array!\n",
        "print(a[bool_idx])\n",
        "\n",
        "# We can do all of the above in a single concise statement:\n",
        "print(a[a > 2])\n",
        "\n",
        "# np.where(): same size with modified values\n",
        "b = np.where(a>2, a, -1)\n",
        "print(b)\n",
        "\n",
        "# fancy indexing: access multiple indices at once\n",
        "a = np.array([10,19,30,41,50,61])\n",
        "print(a)\n",
        "b = a[[1,3,5]]\n",
        "print(b)\n",
        "even = np.argwhere(a%2==0).flatten()\n",
        "print(even)\n",
        "a_even = a[even]\n",
        "print(a_even)"
      ],
      "execution_count": null,
      "outputs": [
        {
          "output_type": "stream",
          "text": [
            "[[1 2 3 4 5 6]]\n",
            "[[False False  True  True  True  True]]\n",
            "[3 4 5 6]\n",
            "[3 4 5 6]\n",
            "[[-1 -1  3  4  5  6]]\n",
            "[10 19 30 41 50 61]\n",
            "[19 41 61]\n",
            "[0 2 4]\n",
            "[10 30 50]\n"
          ],
          "name": "stdout"
        }
      ]
    },
    {
      "cell_type": "markdown",
      "metadata": {
        "id": "7XSprxpGaiKD"
      },
      "source": [
        "## Advance Array Creation"
      ]
    },
    {
      "cell_type": "code",
      "metadata": {
        "colab": {
          "background_save": true,
          "base_uri": "https://localhost:8080/"
        },
        "id": "SurwoF3Yaodp",
        "outputId": "96220066-a7b0-4b18-ff04-cdaefdfb4bfd"
      },
      "source": [
        "# membuat matrix dengan tipe data tertentu\n",
        "a = np.array(([1,2,3],[3,4,5]), dtype = float)\n",
        "\n",
        "# membuat array dengan menggunakan function\n",
        "\n",
        "def kuadrat(baris,kolom):\n",
        "\treturn kolom**2\n",
        "\n",
        "def jumlah(baris,kolom):\n",
        "\treturn (kolom + baris)\n",
        "\n",
        "b = np.fromfunction(kuadrat, (1,10), dtype = int)\n",
        "c = np.fromfunction(jumlah, (4,4), dtype = float)\n",
        "\n",
        "# membuat array atau matrix dengan menggunakan iterable\n",
        "\n",
        "iterable = (x*2 for x in range(5))\n",
        "\n",
        "d = np.fromiter(iterable, dtype = int)\n",
        "\n",
        "# multitype array\n",
        "\n",
        "dtipe = [('nama','S255'), ('tinggi', int)]\n",
        "\n",
        "data = [\n",
        "\t('ucup', 150),\n",
        "\t('otong', 160),\n",
        "\t('mario', 180)\n",
        "]\n",
        "\n",
        "e = np.array(data, dtype = dtipe)\n",
        "\n",
        "print(e[0])"
      ],
      "execution_count": null,
      "outputs": [
        {
          "output_type": "stream",
          "text": [
            "(b'ucup', 150)\n"
          ],
          "name": "stdout"
        }
      ]
    },
    {
      "cell_type": "markdown",
      "metadata": {
        "id": "gr5eZW_dPPU5"
      },
      "source": [
        "## Operasi Aritmetika"
      ]
    },
    {
      "cell_type": "markdown",
      "metadata": {
        "id": "S5zryWcTh78g"
      },
      "source": [
        "**Aritmatika Dasar**"
      ]
    },
    {
      "cell_type": "code",
      "metadata": {
        "colab": {
          "background_save": true
        },
        "id": "s6RmJO3FaAJD"
      },
      "source": [
        "# list python\n",
        "a = [1,2,3,4,5]\n",
        "b = [6,7,8,9,10]\n",
        "\n",
        "# array numpy\n",
        "anp = np.array([1,2,3,4,5])\n",
        "bnp = np.array([6,7,8,9,10])\n",
        "\n",
        "# ELEMENTWISE operation\n",
        "# penjumlahan\n",
        "hasil = anp + bnp\n",
        "\n",
        "# pengurangan\n",
        "hasil = anp - bnp\n",
        "\n",
        "# perkalian\n",
        "hasil = anp * bnp\n",
        "\n",
        "# pembagian\n",
        "hasil = anp / bnp\n",
        "\n",
        "# kuadrat\n",
        "hasil = anp**2"
      ],
      "execution_count": null,
      "outputs": []
    },
    {
      "cell_type": "code",
      "metadata": {
        "colab": {
          "background_save": true,
          "base_uri": "https://localhost:8080/"
        },
        "id": "ptntovU4fHg1",
        "outputId": "a304cdc1-f79e-4a2b-9028-71d8950ad22d"
      },
      "source": [
        "a = np.array([1,2,3])\n",
        "# sum\n",
        "b = a * np.array([2,0,2])\n",
        "print(b)\n",
        "\n",
        "print(a.sum())"
      ],
      "execution_count": null,
      "outputs": [
        {
          "output_type": "stream",
          "text": [
            "[2 0 6]\n",
            "6\n"
          ],
          "name": "stdout"
        }
      ]
    },
    {
      "cell_type": "markdown",
      "metadata": {
        "id": "PUiASVkJbDed"
      },
      "source": [
        "**Perkalian Dot & Cross**"
      ]
    },
    {
      "cell_type": "code",
      "metadata": {
        "colab": {
          "background_save": true,
          "base_uri": "https://localhost:8080/"
        },
        "id": "tPMQ2xYHbFC6",
        "outputId": "da0326a3-d3e5-4727-99a2-f0c06690566e"
      },
      "source": [
        "a1 = np.array([1,3])\n",
        "b1 = np.array([3,0])\n",
        "\n",
        "# perkalian dot\n",
        "c1 = np.dot(a1,b1)\n",
        "\n",
        "# perkalian cross\n",
        "a2 = np.array([1,2,0])\n",
        "b2 = np.array([2,1,0])\n",
        "\n",
        "c2 = np.cross(a2,b2)\n",
        "c3 = np.cross(b2,a2)\n",
        "\n",
        "print(c3)\n",
        "print(c1)"
      ],
      "execution_count": null,
      "outputs": [
        {
          "output_type": "stream",
          "text": [
            "[0 0 3]\n"
          ],
          "name": "stdout"
        }
      ]
    },
    {
      "cell_type": "markdown",
      "metadata": {
        "id": "0pfU4S_oeVs3"
      },
      "source": [
        "## Matriks & Multidimensional Array"
      ]
    },
    {
      "cell_type": "code",
      "metadata": {
        "colab": {
          "background_save": true,
          "base_uri": "https://localhost:8080/"
        },
        "id": "v6lktB11eW4_",
        "outputId": "50a88e9a-fba5-4fce-f1d2-fe5e88f49112"
      },
      "source": [
        "# nd arrays = multidimensional arrays\n",
        "# (matrix class exists but not recommended to use)\n",
        "a = np.array([[1,2], [3,4]])\n",
        "print(a)\n",
        "print(a.shape)\n",
        "\n",
        "# row first, then columns\n",
        "print(a[0])\n",
        "print(a[0][0])\n",
        "print(a[0,0])\n",
        "\n",
        "# slicing\n",
        "print(a[:,0]) # all rows in col 0\n",
        "print(a[0,:]) # all columns in row 0\n",
        "\n",
        "# transpose\n",
        "print(a.T)\n",
        "\n",
        "# matrix multiplication\n",
        "b = np.array([[3, 4], [5,6]])\n",
        "c = a.dot(b)\n",
        "print(c)\n",
        "d = a * b # elementwise multiplication\n",
        "print(d)\n",
        "\n",
        "# inner dimensions must match!\n",
        "b = np.array([[1,2,3], [4,5,6]])\n",
        "#c = a.dot(b.T)\n",
        "#print(c)"
      ],
      "execution_count": null,
      "outputs": [
        {
          "output_type": "stream",
          "text": [
            "[[1 2]\n",
            " [3 4]]\n",
            "(2, 2)\n",
            "[1 2]\n",
            "1\n",
            "1\n",
            "[1 3]\n",
            "[1 2]\n",
            "[[1 3]\n",
            " [2 4]]\n",
            "[[13 16]\n",
            " [29 36]]\n",
            "[[ 3  8]\n",
            " [15 24]]\n"
          ],
          "name": "stdout"
        }
      ]
    },
    {
      "cell_type": "markdown",
      "metadata": {
        "id": "Tut8KpDGe8dp"
      },
      "source": [
        "## Aljabar Linear"
      ]
    },
    {
      "cell_type": "markdown",
      "metadata": {
        "id": "7fPKIBlQiKIr"
      },
      "source": [
        "** Determinant, Inverse, Diag**"
      ]
    },
    {
      "cell_type": "code",
      "metadata": {
        "colab": {
          "background_save": true,
          "base_uri": "https://localhost:8080/",
          "height": 167
        },
        "id": "Q5e6z2ITiGQd",
        "outputId": "b3d16dbf-322c-48b8-b32d-9469f5b54494"
      },
      "source": [
        "c"
      ],
      "execution_count": null,
      "outputs": [
        {
          "output_type": "execute_result",
          "data": {
            "text/plain": [
              "array([[13, 16],\n",
              "       [29, 36]])"
            ]
          },
          "metadata": {
            "tags": []
          },
          "execution_count": 0
        }
      ]
    },
    {
      "cell_type": "code",
      "metadata": {
        "colab": {
          "background_save": true,
          "base_uri": "https://localhost:8080/"
        },
        "id": "y0pgndOJe_F5",
        "outputId": "c31b655e-b379-4470-d3b2-1eae42f848b2"
      },
      "source": [
        "# determinant\n",
        "c = np.linalg.det(a)\n",
        "print(c)\n",
        "\n",
        "# inverse\n",
        "c = np.linalg.inv(a)\n",
        "print(c)\n",
        "\n",
        "# diag\n",
        "c = np.diag(a)\n",
        "print(c)\n",
        "\n",
        "# diag on a vector returns diagonal matrix (overloaded function)\n",
        "c = np.diag([1,4])\n",
        "print(c)"
      ],
      "execution_count": null,
      "outputs": [
        {
          "output_type": "stream",
          "text": [
            "-2.0000000000000004\n",
            "[[-2.   1. ]\n",
            " [ 1.5 -0.5]]\n",
            "[1 4]\n",
            "[[1 0]\n",
            " [0 4]]\n"
          ],
          "name": "stdout"
        }
      ]
    },
    {
      "cell_type": "markdown",
      "metadata": {
        "id": "qDHjnjmjiQxj"
      },
      "source": [
        "**Persamaan Linear**"
      ]
    },
    {
      "cell_type": "code",
      "metadata": {
        "colab": {
          "background_save": true,
          "base_uri": "https://localhost:8080/"
        },
        "id": "8MOpjZnUfTNf",
        "outputId": "58333651-90ec-4fae-fc31-aea1031cec1b"
      },
      "source": [
        "a = np.array([(1,-1),(1,1)])\n",
        "\n",
        "print(a)\n",
        "\n",
        "# inverse matrix\n",
        "a_inv = np.linalg.inv(a)\n",
        "\n",
        "print(a_inv)\n",
        "\n",
        "# determinan matrix\n",
        "det_a = np.linalg.det(a)\n",
        "det_a_inv = np.linalg.det(a_inv)\n",
        "print(det_a)\n",
        "print(det_a_inv)\n",
        "\n",
        "A = np.array([(2,3),(1,2)])\n",
        "Y = np.array([23,14])\n",
        "print(A)\n",
        "print(Y)\n",
        "\n",
        "A_inv = np.linalg.inv(A)\n",
        "\n",
        "# menyelesaikan persamaan linear\n",
        "X1 = np.dot(A_inv,Y)\n",
        "print(X1)\n",
        "\n",
        "# cara lain\n",
        "X2 = np.linalg.solve(A,Y)\n",
        "print(X2)"
      ],
      "execution_count": null,
      "outputs": [
        {
          "output_type": "stream",
          "text": [
            "[[ 1 -1]\n",
            " [ 1  1]]\n",
            "[[ 0.5  0.5]\n",
            " [-0.5  0.5]]\n",
            "2.0\n",
            "0.5\n",
            "[[2 3]\n",
            " [1 2]]\n",
            "[23 14]\n",
            "[4. 5.]\n",
            "[4. 5.]\n"
          ],
          "name": "stdout"
        }
      ]
    },
    {
      "cell_type": "markdown",
      "metadata": {
        "id": "6h9XhzmiaTJF"
      },
      "source": [
        "## Modifikasi Array"
      ]
    },
    {
      "cell_type": "markdown",
      "metadata": {
        "id": "YYoX-JY-iXyV"
      },
      "source": [
        "**Mengubah Ukuran Array**"
      ]
    },
    {
      "cell_type": "code",
      "metadata": {
        "colab": {
          "background_save": true,
          "base_uri": "https://localhost:8080/"
        },
        "id": "tUdW6GFEabKP",
        "outputId": "e3a29918-4d49-410f-de3d-c2699634387a"
      },
      "source": [
        "a = np.array((\n",
        "\t\t\t[1,2,3],\n",
        "\t\t\t[4,5,6]\n",
        "\t\t\t))\n",
        "\n",
        "print('matrix a dengan ukuran:',a.shape)\n",
        "print(a)\n",
        "\n",
        "# transpose matrix\n",
        "print('transpose matrix dari a:')\n",
        "print(a.transpose())\n",
        "#print(np.transpose(a))\n",
        "#print(a.T)\n",
        "print('matrix a dengan ukuran:',a.shape)\n",
        "\n",
        "# flatten array, vector baris\n",
        "print('flatten matrix a:')\n",
        "print(a.ravel())\n",
        "#print(np.ravel(a))\n",
        "print('matrix a dengan ukuran:',a.shape)\n",
        "\n",
        "# reshape matrix\n",
        "print(\"reshape matrix a:\")\n",
        "print(a.reshape(3,2))\n",
        "print('matrix a dengan ukuran:',a.shape)\n",
        "\n",
        "# resize matrix\n",
        "print(\"resize matrix a:\")\n",
        "a.resize(3,2)\n",
        "print(a)\n",
        "print('matrix a dengan ukuran:',a.shape)"
      ],
      "execution_count": null,
      "outputs": [
        {
          "output_type": "stream",
          "text": [
            "matrix a dengan ukuran: (2, 3)\n",
            "[[1 2 3]\n",
            " [4 5 6]]\n",
            "transpose matrix dari a:\n",
            "[[1 4]\n",
            " [2 5]\n",
            " [3 6]]\n",
            "matrix a dengan ukuran: (2, 3)\n",
            "flatten matrix a:\n",
            "[1 2 3 4 5 6]\n",
            "matrix a dengan ukuran: (2, 3)\n",
            "reshape matrix a:\n",
            "[[1 2]\n",
            " [3 4]\n",
            " [5 6]]\n",
            "matrix a dengan ukuran: (2, 3)\n",
            "resize matrix a:\n",
            "[[1 2]\n",
            " [3 4]\n",
            " [5 6]]\n",
            "matrix a dengan ukuran: (3, 2)\n"
          ],
          "name": "stdout"
        }
      ]
    },
    {
      "cell_type": "markdown",
      "metadata": {
        "id": "0bndAZBcab6l"
      },
      "source": [
        "**Stacking**"
      ]
    },
    {
      "cell_type": "code",
      "metadata": {
        "colab": {
          "background_save": true
        },
        "id": "ZQTyeZNvahVq",
        "outputId": "28558caf-1a40-4bd3-fc7e-170b52bd4249"
      },
      "source": [
        "a = np.array([1,2,3])\n",
        "b = np.array([4,5,6])\n",
        "\n",
        "aMat = np.zeros((2,3))\n",
        "bMat = np.ones((2,3))\n",
        "\n",
        "# stacking matrix, menumpuk matrix\n",
        "\n",
        "c = np.hstack((a,b))\n",
        "d = np.vstack((a,b))\n",
        "\n",
        "cMat = np.hstack((aMat,bMat))\n",
        "dMat = np.vstack((aMat,bMat))\n",
        "\n",
        "print(dMat)"
      ],
      "execution_count": null,
      "outputs": [
        {
          "output_type": "stream",
          "text": [
            "[[0. 0. 0.]\n",
            " [0. 0. 0.]\n",
            " [1. 1. 1.]\n",
            " [1. 1. 1.]]\n"
          ],
          "name": "stdout"
        }
      ]
    },
    {
      "cell_type": "markdown",
      "metadata": {
        "id": "5pVlgMaHaqbj"
      },
      "source": [
        "**Mengurutkan**"
      ]
    },
    {
      "cell_type": "code",
      "metadata": {
        "colab": {
          "background_save": true,
          "base_uri": "https://localhost:8080/"
        },
        "id": "vdTmhouuavGt",
        "outputId": "04c4e4f0-7a6f-4fa0-d285-39cd0a161e22"
      },
      "source": [
        "a = np.floor(np.random.randn(1,6)*10)\n",
        "\n",
        "print(a)\n",
        "\n",
        "print('nilai max dari a = ',a.max())\n",
        "print('posisi max dari a = ',a.argmax())\n",
        "print('nilai min dari a = ',a.min())\n",
        "print('posisi min dari a = ',a.argmin())\n",
        "\n",
        "print('mengurutkan nilai a:')\n",
        "print(np.sort(a))\n",
        "print(np.argsort(a))"
      ],
      "execution_count": null,
      "outputs": [
        {
          "output_type": "stream",
          "text": [
            "[[12. -1. 28.  2.  5.  4.]]\n",
            "nilai max dari a =  28.0\n",
            "posisi max dari a =  2\n",
            "nilai min dari a =  -1.0\n",
            "posisi min dari a =  1\n",
            "mengurutkan nilai a:\n",
            "[[-1.  2.  4.  5. 12. 28.]]\n",
            "[[1 3 5 4 0 2]]\n"
          ],
          "name": "stdout"
        }
      ]
    },
    {
      "cell_type": "markdown",
      "metadata": {
        "id": "FSr4FDaGf4zr"
      },
      "source": [
        "**Concatenation**"
      ]
    },
    {
      "cell_type": "code",
      "metadata": {
        "colab": {
          "background_save": true
        },
        "id": "SadAV5bAfzl8",
        "outputId": "cce729ae-8a38-4c2a-cda7-f3eb7cba7248"
      },
      "source": [
        "a = np.array([[1, 2], [3, 4]])\n",
        "print(a)\n",
        "b = np.array([[5, 6]])\n",
        "print(b)\n",
        "c = np.concatenate((a, b), axis=None)\n",
        "print(c)\n",
        "d = np.concatenate((a, b), axis=0)\n",
        "print(d)\n",
        "e = np.concatenate((a, b.T), axis=1)\n",
        "print(e)\n",
        "\n",
        "# hstack: Stack arrays in sequence horizontally (column wise). needs a tuple\n",
        "a = np.array([1,2,3,4])\n",
        "b = np.array([5,6,7,8])\n",
        "c = np.hstack((a,b))\n",
        "print(c)\n",
        "a = np.array([[1,2], [3,4]])\n",
        "b = np.array([[5,6], [7,8]])\n",
        "c = np.hstack((a,b))\n",
        "print(c)\n",
        "\n",
        "# vstack: Stack arrays in sequence vertically (row wise). needs a tuple\n",
        "a = np.array([1,2,3,4])\n",
        "b = np.array([5,6,7,8])\n",
        "c = np.vstack((a,b))\n",
        "print(c)\n",
        "a = np.array([[1,2], [3,4]])\n",
        "b = np.array([[5,6], [7,8]])\n",
        "c = np.vstack((a,b))\n",
        "print(c)"
      ],
      "execution_count": null,
      "outputs": [
        {
          "output_type": "stream",
          "text": [
            "[[1 2]\n",
            " [3 4]]\n",
            "[[5 6]]\n",
            "[1 2 3 4 5 6]\n",
            "[[1 2]\n",
            " [3 4]\n",
            " [5 6]]\n",
            "[[1 2 5]\n",
            " [3 4 6]]\n",
            "[1 2 3 4 5 6 7 8]\n",
            "[[1 2 5 6]\n",
            " [3 4 7 8]]\n",
            "[[1 2 3 4]\n",
            " [5 6 7 8]]\n",
            "[[1 2]\n",
            " [3 4]\n",
            " [5 6]\n",
            " [7 8]]\n"
          ],
          "name": "stdout"
        }
      ]
    },
    {
      "cell_type": "markdown",
      "metadata": {
        "id": "XgEnJUOpivtw"
      },
      "source": [
        "**Broadcasting**"
      ]
    },
    {
      "cell_type": "code",
      "metadata": {
        "colab": {
          "background_save": true,
          "base_uri": "https://localhost:8080/"
        },
        "id": "COPtf3XdgKXK",
        "outputId": "a62e2fb8-dae8-496a-887c-36d16c30d418"
      },
      "source": [
        "# Broadcasting is a powerful mechanism that allows numpy to work with arrays of \n",
        "# different shapes when performing arithmetic operations.\n",
        "x = np.array([[1,2,3], [4,5,6], [7,8,9], [10, 11, 12]])\n",
        "v = np.array([1, 0, 1])\n",
        "y = x + v  # Add v to each row of x using broadcasting\n",
        "print(y) "
      ],
      "execution_count": null,
      "outputs": [
        {
          "output_type": "stream",
          "text": [
            "[[ 2  2  4]\n",
            " [ 5  5  7]\n",
            " [ 8  8 10]\n",
            " [11 11 13]]\n"
          ],
          "name": "stdout"
        }
      ]
    },
    {
      "cell_type": "markdown",
      "metadata": {
        "id": "5t-348g1bWFb"
      },
      "source": [
        "## Visualisasi Data"
      ]
    },
    {
      "cell_type": "code",
      "metadata": {
        "colab": {
          "background_save": true
        },
        "id": "BavCXktBbXhZ",
        "outputId": "bf75a3cf-586c-4825-9853-36d412f05ad4"
      },
      "source": [
        "import numpy as np\n",
        "import matplotlib.pyplot as plt\n",
        "\n",
        "# persamaan garis\n",
        "# y = 2x + 3\n",
        "\n",
        "x = np.arange(0,11,1)\n",
        "y = 2*x + 3\n",
        "print(x)\n",
        "print(y)\n",
        "\n",
        "plt.figure(1)\n",
        "plt.plot(x,y)\n",
        "\n",
        "# lingkaran\n",
        "\n",
        "jari2 = 5\n",
        "\n",
        "sudut = np.linspace(0,2*np.pi,100)\n",
        "x2 = jari2*np.cos(sudut)\n",
        "y2 = jari2*np.sin(sudut)\n",
        "\n",
        "plt.figure(2)\n",
        "plt.plot(x2,y2)\n",
        "plt.show()"
      ],
      "execution_count": null,
      "outputs": [
        {
          "output_type": "stream",
          "text": [
            "[ 0  1  2  3  4  5  6  7  8  9 10]\n",
            "[ 3  5  7  9 11 13 15 17 19 21 23]\n"
          ],
          "name": "stdout"
        },
        {
          "output_type": "display_data",
          "data": {
            "image/png": "[encoded data removed]",
            "text/plain": [
              "<Figure size 432x288 with 1 Axes>"
            ]
          },
          "metadata": {
            "tags": []
          }
        },
        {
          "output_type": "display_data",
          "data": {
            "image/png": "[encoded data removed]",
            "text/plain": [
              "<Figure size 432x288 with 1 Axes>"
            ]
          },
          "metadata": {
            "tags": []
          }
        }
      ]
    },
    {
      "cell_type": "markdown",
      "metadata": {
        "id": "cEYhwXc9f_HV"
      },
      "source": [
        "##  Array vs List"
      ]
    },
    {
      "cell_type": "code",
      "metadata": {
        "colab": {
          "background_save": true,
          "base_uri": "https://localhost:8080/"
        },
        "id": "dqF9ObxsOLd3",
        "outputId": "f9bd4315-0d96-4689-d54c-3f7a9f2948d2"
      },
      "source": [
        "l = [1,2,3]\n",
        "a = np.array([1,2,3])\n",
        "print(l)\n",
        "print(a)\n",
        "\n",
        "# adding new item\n",
        "l.append(4)\n",
        "#a.append(4) error: size of array is fixed\n",
        "\n",
        "# there are ways to add items, but this essentially creates new arrays\n",
        "l2 = l + [5]\n",
        "print(l2)\n",
        "\n",
        "a2 = a + np.array([4])\n",
        "print(a2) # this is called broadcasting, adds 4 to each element\n",
        "\n",
        "# vector addidion (this is technically correct compared to broadcasting)\n",
        "a3 = a + np.array([4,5,6])\n",
        "print(a3)\n",
        "\n",
        "#a3 = a + np.array([4,5]) # error, can't add vectors of different sizes\n",
        "\n",
        "# multiplication\n",
        "l2 = 2 * l # list l repeated 2 times, same a l+l\n",
        "print(l2)\n",
        "a3 = 2 * a # multiplication for each element\n",
        "print(a3)\n",
        "\n",
        "# modify each item in the list\n",
        "l2 = []\n",
        "for i in l:\n",
        "    l2.append(i**2)\n",
        "print(l2)\n",
        "# or list comp\n",
        "l2 = [i**2 for i in l]\n",
        "print(l2)\n",
        "\n",
        "a2 = a**2 # -> squares each element!\n",
        "print(a2)\n",
        "\n",
        "# Note: function applied to array usually operates element wise\n",
        "a2 = np.sqrt(a) # np.exp(a), np.tanh(a)\n",
        "print(a2)\n",
        "a2 = np.log(a)\n",
        "print(a2)\n",
        "\n",
        "# Note: np array exists specifically to do math"
      ],
      "execution_count": null,
      "outputs": [
        {
          "output_type": "stream",
          "text": [
            "[1, 2, 3]\n",
            "[1 2 3]\n",
            "[1, 2, 3, 4, 5]\n",
            "[5 6 7]\n",
            "[5 7 9]\n",
            "[1, 2, 3, 4, 1, 2, 3, 4]\n",
            "[2 4 6]\n",
            "[1, 4, 9, 16]\n",
            "[1, 4, 9, 16]\n",
            "[1 4 9]\n",
            "[1.         1.41421356 1.73205081]\n",
            "[0.         0.69314718 1.09861229]\n"
          ],
          "name": "stdout"
        }
      ]
    },
    {
      "cell_type": "markdown",
      "metadata": {
        "id": "BozEngbgbiap"
      },
      "source": [
        "## Speed test"
      ]
    },
    {
      "cell_type": "code",
      "metadata": {
        "colab": {
          "background_save": true
        },
        "id": "Ma7mCGZIJCR_",
        "outputId": "1c537cc4-8427-42c3-f026-a51529d437d4"
      },
      "source": [
        "# speed test lists vs array\n",
        "from timeit import default_timer as timer\n",
        "\n",
        "a = np.random.randn(1000)\n",
        "b = np.random.randn(1000)\n",
        "\n",
        "A = list(a)\n",
        "B = list(b)\n",
        "\n",
        "T = 1000\n",
        "\n",
        "def dot1():\n",
        "    dot = 0\n",
        "    for i in range(len(A)):\n",
        "        dot += A[i]*B[i]\n",
        "    return dot\n",
        "\n",
        "def dot2():\n",
        "    return np.dot(a,b)\n",
        "\n",
        "start = timer()\n",
        "for t in range(T):\n",
        "    dot1()\n",
        "end = timer()\n",
        "t1 = end-start\n",
        "\n",
        "start = timer()\n",
        "for t in range(T):\n",
        "    dot2()\n",
        "end = timer()\n",
        "t2 = end-start\n",
        "\n",
        "print('Time with lists:', t1)\n",
        "print('Time with array:', t2)\n",
        "print('Ratio', t1/t2)"
      ],
      "execution_count": null,
      "outputs": [
        {
          "output_type": "stream",
          "text": [
            "Time with lists: 0.2942846810001356\n",
            "Time with array: 0.0015650120003556367\n",
            "Ratio 188.0398878304203\n"
          ],
          "name": "stdout"
        }
      ]
    },
    {
      "cell_type": "markdown",
      "metadata": {
        "id": "etcVJ7sngc2z"
      },
      "source": [
        "## Data science functions and axes"
      ]
    },
    {
      "cell_type": "code",
      "metadata": {
        "colab": {
          "background_save": true
        },
        "id": "hBPlumvfJCSC",
        "outputId": "4322983d-ebd9-4686-8ef4-7c3927f73857"
      },
      "source": [
        "# \n",
        "a = np.array([[7,8,9,10,11,12,13], [17,18,19,20,21,22,23]])\n",
        "print(a)\n",
        "print(a.sum(axis=None)) # overall sum\n",
        "print(a.sum())\n",
        "print(a.sum(axis=0)) # along the rows -> 1 sum entry for each column\n",
        "print(a.sum(axis=1)) # along the columns -> 1 sum entry for each row\n",
        "\n",
        "print(a.mean(axis=None)) # overall mean\n",
        "print(a.mean())\n",
        "print(a.mean(axis=0)) # along the rows -> 1 mean entry for each column\n",
        "print(a.mean(axis=1)) # along the columns -> 1 mean entry for each row\n",
        "\n",
        "# some more: std, var, min, max"
      ],
      "execution_count": null,
      "outputs": [
        {
          "output_type": "stream",
          "text": [
            "[[ 7  8  9 10 11 12 13]\n",
            " [17 18 19 20 21 22 23]]\n",
            "210\n",
            "210\n",
            "[24 26 28 30 32 34 36]\n",
            "[ 70 140]\n",
            "15.0\n",
            "15.0\n",
            "[12. 13. 14. 15. 16. 17. 18.]\n",
            "[10. 20.]\n"
          ],
          "name": "stdout"
        }
      ]
    },
    {
      "cell_type": "markdown",
      "metadata": {
        "id": "KiqSJvOFgY4Q"
      },
      "source": [
        "## Random"
      ]
    },
    {
      "cell_type": "code",
      "metadata": {
        "colab": {
          "background_save": true
        },
        "id": "ck9C-LjoJCSD",
        "outputId": "3adee69e-213a-4880-c54f-cf119685aae6"
      },
      "source": [
        "# random numbers\n",
        "a = np.random.random((3,2)) # uniform 0-1 distribution\n",
        "print(a)\n",
        "b = np.random.randn(3,2) # normal/Gaussian distribution, mean 0 and unit variance\n",
        "# no tuple as shape here! each dimension one argument\n",
        "print(b)\n",
        "\n",
        "R = np.random.randn(10000)\n",
        "print(R.mean(), R.var(), R.std())\n",
        "\n",
        "R = np.random.randn(10, 3)\n",
        "print(R.mean()) # mean of whole array\n",
        "\n",
        "# random integer, low,high,size; high is exclusive\n",
        "R = np.random.randint(3,10,size=(3,3)) # if we only pass one parameter, then from 0-x\n",
        "print(R)\n",
        "\n",
        "# with integer is between 0 up to integer exclusive\n",
        "c = np.random.choice(7, size=10)\n",
        "print(c)\n",
        "# with an array it draws random values from this array\n",
        "d = np.random.choice([1,2,3,4], size=8)\n",
        "print(d)"
      ],
      "execution_count": null,
      "outputs": [
        {
          "output_type": "stream",
          "text": [
            "[[0.57270946 0.24468683]\n",
            " [0.18535813 0.687419  ]\n",
            " [0.86771133 0.36687967]]\n",
            "[[ 0.42381574  0.30225426]\n",
            " [-0.13736991 -0.99136481]\n",
            " [ 1.27989939  0.15311607]]\n",
            "0.008846703095350314 0.9871453692316241 0.9935518955905747\n",
            "0.10305185472859112\n",
            "[[4 3 4]\n",
            " [7 5 7]\n",
            " [8 4 3]]\n",
            "[2 3 0 3 6 1 6 1 6 2]\n",
            "[2 3 2 1 4 4 1 3]\n"
          ],
          "name": "stdout"
        }
      ]
    }
  ]
}