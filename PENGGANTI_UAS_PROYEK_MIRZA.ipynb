{
  "nbformat": 4,
  "nbformat_minor": 0,
  "metadata": {
    "colab": {
      "name": "PENGGANTI UAS PROYEK MIRZA.ipynb",
      "provenance": [],
      "collapsed_sections": [],
      "toc_visible": true,
      "include_colab_link": true
    },
    "kernelspec": {
      "display_name": "Python 3",
      "name": "python3"
    },
    "language_info": {
      "name": "python"
    }
  },
  "cells": [
    {
      "cell_type": "markdown",
      "metadata": {
        "id": "view-in-github",
        "colab_type": "text"
      },
      "source": [
        "<a href=\"https://colab.research.google.com/github/mirzarenardi01/Basic-Phyton-Programming-for-Data-Science/blob/main/PENGGANTI_UAS_PROYEK_MIRZA.ipynb\" target=\"_parent\"><img src=\"https://colab.research.google.com/assets/colab-badge.svg\" alt=\"Open In Colab\"/></a>"
      ]
    },
    {
      "cell_type": "markdown",
      "metadata": {
        "id": "iBhG6whmuXUv"
      },
      "source": [
        "# **Assalamualaikum Warahmatullaahi Wabarakaatuh**\n",
        "# Tugas Pengganti UAS Proyek Pemodelan dan Komputasi\n",
        "## Nama : Mirza Yuniar Renardi\n",
        "## NIM  : 1800015063"
      ]
    },
    {
      "cell_type": "markdown",
      "metadata": {
        "id": "L3EIXpwlfHMN"
      },
      "source": [
        "# **Data Preparation**"
      ]
    },
    {
      "cell_type": "code",
      "metadata": {
        "id": "2_01FWiIuq6x"
      },
      "source": [
        "from sklearn.preprocessing import MinMaxScaler\n",
        "import pandas as pd                           \n",
        "import numpy as np\n",
        "import seaborn as sns\n",
        "import matplotlib.pyplot as plt\n",
        "from collections import Counter\n",
        "from sklearn import datasets\n",
        "from sklearn.model_selection import train_test_split\n",
        "from matplotlib.colors import ListedColormap\n",
        "cmap = ListedColormap(['#FF0000', '#00FF00', '#0000FF'])\n",
        "from sklearn.neighbors import KNeighborsClassifier\n",
        "from sklearn.naive_bayes import GaussianNB\n",
        "from sklearn.metrics import confusion_matrix\n",
        "from scipy.stats import mode\n",
        "from numpy.random import randint\n",
        "from sklearn import preprocessing\n",
        "%matplotlib inline"
      ],
      "execution_count": 1,
      "outputs": []
    },
    {
      "cell_type": "markdown",
      "metadata": {
        "id": "GgC9Re9bfLKP"
      },
      "source": [
        "# **Menginput Dataset**"
      ]
    },
    {
      "cell_type": "code",
      "metadata": {
        "colab": {
          "base_uri": "https://localhost:8080/",
          "height": 360
        },
        "id": "mD03r2s2uwJm",
        "outputId": "613c5e92-6644-4968-b5d9-68318c096f65"
      },
      "source": [
        "data = pd.read_csv('https://raw.githubusercontent.com/mirzarenardi01/Basic-Phyton-Programming-for-Data-Science/main/covid_19_indonesia_time_series_all.csv')\n",
        "data.head()"
      ],
      "execution_count": 2,
      "outputs": [
        {
          "output_type": "execute_result",
          "data": {
            "text/html": [
              "<div>\n",
              "<style scoped>\n",
              "    .dataframe tbody tr th:only-of-type {\n",
              "        vertical-align: middle;\n",
              "    }\n",
              "\n",
              "    .dataframe tbody tr th {\n",
              "        vertical-align: top;\n",
              "    }\n",
              "\n",
              "    .dataframe thead th {\n",
              "        text-align: right;\n",
              "    }\n",
              "</style>\n",
              "<table border=\"1\" class=\"dataframe\">\n",
              "  <thead>\n",
              "    <tr style=\"text-align: right;\">\n",
              "      <th></th>\n",
              "      <th>Date</th>\n",
              "      <th>Location ISO Code</th>\n",
              "      <th>Location</th>\n",
              "      <th>New Cases</th>\n",
              "      <th>New Deaths</th>\n",
              "      <th>New Recovered</th>\n",
              "      <th>New Active Cases</th>\n",
              "      <th>Total Cases</th>\n",
              "      <th>Total Deaths</th>\n",
              "      <th>Total Recovered</th>\n",
              "      <th>Total Active Cases</th>\n",
              "      <th>Location Level</th>\n",
              "      <th>City or Regency</th>\n",
              "      <th>Province</th>\n",
              "      <th>Country</th>\n",
              "      <th>Continent</th>\n",
              "      <th>Island</th>\n",
              "      <th>Time Zone</th>\n",
              "      <th>Special Status</th>\n",
              "      <th>Total Regencies</th>\n",
              "      <th>Total Cities</th>\n",
              "      <th>Total Districts</th>\n",
              "      <th>Total Urban Villages</th>\n",
              "      <th>Total Rural Villages</th>\n",
              "      <th>Area (km2)</th>\n",
              "      <th>Population</th>\n",
              "      <th>Population Density</th>\n",
              "      <th>Longitude</th>\n",
              "      <th>Latitude</th>\n",
              "      <th>New Cases per Million</th>\n",
              "      <th>Total Cases per Million</th>\n",
              "      <th>New Deaths per Million</th>\n",
              "      <th>Total Deaths per Million</th>\n",
              "      <th>Case Fatality Rate</th>\n",
              "      <th>Case Recovered Rate</th>\n",
              "      <th>Growth Factor of New Cases</th>\n",
              "      <th>Growth Factor of New Deaths</th>\n",
              "      <th>Name</th>\n",
              "      <th>Item</th>\n",
              "      <th>Kind</th>\n",
              "      <th>Hidden</th>\n",
              "    </tr>\n",
              "  </thead>\n",
              "  <tbody>\n",
              "    <tr>\n",
              "      <th>0</th>\n",
              "      <td>1/8/2020</td>\n",
              "      <td>ID-JI</td>\n",
              "      <td>Jawa Timur</td>\n",
              "      <td>9</td>\n",
              "      <td>3</td>\n",
              "      <td>1</td>\n",
              "      <td>5</td>\n",
              "      <td>9</td>\n",
              "      <td>5</td>\n",
              "      <td>10</td>\n",
              "      <td>-6</td>\n",
              "      <td>Province</td>\n",
              "      <td>NaN</td>\n",
              "      <td>Jawa Timur</td>\n",
              "      <td>Indonesia</td>\n",
              "      <td>Asia</td>\n",
              "      <td>Jawa</td>\n",
              "      <td>UTC+07:00</td>\n",
              "      <td>NaN</td>\n",
              "      <td>29</td>\n",
              "      <td>9.0</td>\n",
              "      <td>666</td>\n",
              "      <td>777.0</td>\n",
              "      <td>7724.0</td>\n",
              "      <td>47803</td>\n",
              "      <td>40479023</td>\n",
              "      <td>846.78</td>\n",
              "      <td>112.732941</td>\n",
              "      <td>-7.723346</td>\n",
              "      <td>0.22</td>\n",
              "      <td>0.22</td>\n",
              "      <td>0.07</td>\n",
              "      <td>0.12</td>\n",
              "      <td>55.56%</td>\n",
              "      <td>111.11%</td>\n",
              "      <td>NaN</td>\n",
              "      <td>NaN</td>\n",
              "      <td>NaN</td>\n",
              "      <td>NaN</td>\n",
              "      <td>NaN</td>\n",
              "      <td>NaN</td>\n",
              "    </tr>\n",
              "    <tr>\n",
              "      <th>1</th>\n",
              "      <td>1/9/2020</td>\n",
              "      <td>ID-JI</td>\n",
              "      <td>Jawa Timur</td>\n",
              "      <td>0</td>\n",
              "      <td>1</td>\n",
              "      <td>23</td>\n",
              "      <td>-24</td>\n",
              "      <td>9</td>\n",
              "      <td>6</td>\n",
              "      <td>33</td>\n",
              "      <td>-30</td>\n",
              "      <td>Province</td>\n",
              "      <td>NaN</td>\n",
              "      <td>Jawa Timur</td>\n",
              "      <td>Indonesia</td>\n",
              "      <td>Asia</td>\n",
              "      <td>Jawa</td>\n",
              "      <td>UTC+07:00</td>\n",
              "      <td>NaN</td>\n",
              "      <td>29</td>\n",
              "      <td>9.0</td>\n",
              "      <td>666</td>\n",
              "      <td>777.0</td>\n",
              "      <td>7724.0</td>\n",
              "      <td>47803</td>\n",
              "      <td>40479023</td>\n",
              "      <td>846.78</td>\n",
              "      <td>112.732941</td>\n",
              "      <td>-7.723346</td>\n",
              "      <td>0.00</td>\n",
              "      <td>0.22</td>\n",
              "      <td>0.02</td>\n",
              "      <td>0.15</td>\n",
              "      <td>66.67%</td>\n",
              "      <td>366.67%</td>\n",
              "      <td>0.0</td>\n",
              "      <td>0.33</td>\n",
              "      <td>NaN</td>\n",
              "      <td>NaN</td>\n",
              "      <td>NaN</td>\n",
              "      <td>NaN</td>\n",
              "    </tr>\n",
              "    <tr>\n",
              "      <th>2</th>\n",
              "      <td>1/10/2020</td>\n",
              "      <td>ID-JI</td>\n",
              "      <td>Jawa Timur</td>\n",
              "      <td>0</td>\n",
              "      <td>1</td>\n",
              "      <td>14</td>\n",
              "      <td>-15</td>\n",
              "      <td>9</td>\n",
              "      <td>7</td>\n",
              "      <td>47</td>\n",
              "      <td>-45</td>\n",
              "      <td>Province</td>\n",
              "      <td>NaN</td>\n",
              "      <td>Jawa Timur</td>\n",
              "      <td>Indonesia</td>\n",
              "      <td>Asia</td>\n",
              "      <td>Jawa</td>\n",
              "      <td>UTC+07:00</td>\n",
              "      <td>NaN</td>\n",
              "      <td>29</td>\n",
              "      <td>9.0</td>\n",
              "      <td>666</td>\n",
              "      <td>777.0</td>\n",
              "      <td>7724.0</td>\n",
              "      <td>47803</td>\n",
              "      <td>40479023</td>\n",
              "      <td>846.78</td>\n",
              "      <td>112.732941</td>\n",
              "      <td>-7.723346</td>\n",
              "      <td>0.00</td>\n",
              "      <td>0.22</td>\n",
              "      <td>0.02</td>\n",
              "      <td>0.17</td>\n",
              "      <td>77.78%</td>\n",
              "      <td>522.22%</td>\n",
              "      <td>1.0</td>\n",
              "      <td>1.00</td>\n",
              "      <td>NaN</td>\n",
              "      <td>NaN</td>\n",
              "      <td>NaN</td>\n",
              "      <td>NaN</td>\n",
              "    </tr>\n",
              "    <tr>\n",
              "      <th>3</th>\n",
              "      <td>1/11/2020</td>\n",
              "      <td>ID-JI</td>\n",
              "      <td>Jawa Timur</td>\n",
              "      <td>0</td>\n",
              "      <td>3</td>\n",
              "      <td>8</td>\n",
              "      <td>-11</td>\n",
              "      <td>9</td>\n",
              "      <td>10</td>\n",
              "      <td>55</td>\n",
              "      <td>-56</td>\n",
              "      <td>Province</td>\n",
              "      <td>NaN</td>\n",
              "      <td>Jawa Timur</td>\n",
              "      <td>Indonesia</td>\n",
              "      <td>Asia</td>\n",
              "      <td>Jawa</td>\n",
              "      <td>UTC+07:00</td>\n",
              "      <td>NaN</td>\n",
              "      <td>29</td>\n",
              "      <td>9.0</td>\n",
              "      <td>666</td>\n",
              "      <td>777.0</td>\n",
              "      <td>7724.0</td>\n",
              "      <td>47803</td>\n",
              "      <td>40479023</td>\n",
              "      <td>846.78</td>\n",
              "      <td>112.732941</td>\n",
              "      <td>-7.723346</td>\n",
              "      <td>0.00</td>\n",
              "      <td>0.22</td>\n",
              "      <td>0.07</td>\n",
              "      <td>0.25</td>\n",
              "      <td>111.11%</td>\n",
              "      <td>611.11%</td>\n",
              "      <td>1.0</td>\n",
              "      <td>3.00</td>\n",
              "      <td>NaN</td>\n",
              "      <td>NaN</td>\n",
              "      <td>NaN</td>\n",
              "      <td>NaN</td>\n",
              "    </tr>\n",
              "    <tr>\n",
              "      <th>4</th>\n",
              "      <td>1/12/2020</td>\n",
              "      <td>ID-JI</td>\n",
              "      <td>Jawa Timur</td>\n",
              "      <td>0</td>\n",
              "      <td>3</td>\n",
              "      <td>1</td>\n",
              "      <td>-4</td>\n",
              "      <td>9</td>\n",
              "      <td>13</td>\n",
              "      <td>56</td>\n",
              "      <td>-60</td>\n",
              "      <td>Province</td>\n",
              "      <td>NaN</td>\n",
              "      <td>Jawa Timur</td>\n",
              "      <td>Indonesia</td>\n",
              "      <td>Asia</td>\n",
              "      <td>Jawa</td>\n",
              "      <td>UTC+07:00</td>\n",
              "      <td>NaN</td>\n",
              "      <td>29</td>\n",
              "      <td>9.0</td>\n",
              "      <td>666</td>\n",
              "      <td>777.0</td>\n",
              "      <td>7724.0</td>\n",
              "      <td>47803</td>\n",
              "      <td>40479023</td>\n",
              "      <td>846.78</td>\n",
              "      <td>112.732941</td>\n",
              "      <td>-7.723346</td>\n",
              "      <td>0.00</td>\n",
              "      <td>0.22</td>\n",
              "      <td>0.07</td>\n",
              "      <td>0.32</td>\n",
              "      <td>144.44%</td>\n",
              "      <td>622.22%</td>\n",
              "      <td>1.0</td>\n",
              "      <td>1.00</td>\n",
              "      <td>NaN</td>\n",
              "      <td>NaN</td>\n",
              "      <td>NaN</td>\n",
              "      <td>NaN</td>\n",
              "    </tr>\n",
              "  </tbody>\n",
              "</table>\n",
              "</div>"
            ],
            "text/plain": [
              "        Date Location ISO Code    Location  New Cases  ...  Name  Item  Kind  Hidden\n",
              "0   1/8/2020             ID-JI  Jawa Timur          9  ...   NaN   NaN   NaN     NaN\n",
              "1   1/9/2020             ID-JI  Jawa Timur          0  ...   NaN   NaN   NaN     NaN\n",
              "2  1/10/2020             ID-JI  Jawa Timur          0  ...   NaN   NaN   NaN     NaN\n",
              "3  1/11/2020             ID-JI  Jawa Timur          0  ...   NaN   NaN   NaN     NaN\n",
              "4  1/12/2020             ID-JI  Jawa Timur          0  ...   NaN   NaN   NaN     NaN\n",
              "\n",
              "[5 rows x 41 columns]"
            ]
          },
          "metadata": {
            "tags": []
          },
          "execution_count": 2
        }
      ]
    },
    {
      "cell_type": "markdown",
      "metadata": {
        "id": "RnE2PC1pNAXK"
      },
      "source": [
        "# **Visualisasi Data**"
      ]
    },
    {
      "cell_type": "markdown",
      "metadata": {
        "id": "tiQpvO0LNRJT"
      },
      "source": [
        "## Memilih Warna"
      ]
    },
    {
      "cell_type": "code",
      "metadata": {
        "colab": {
          "base_uri": "https://localhost:8080/",
          "height": 85
        },
        "id": "_Zc30NDvNP-b",
        "outputId": "9c33b13b-a8d6-46fc-9374-7822b8d6476d"
      },
      "source": [
        "colors=['#0C68C7','#3A6794','#00FAF3','#FA643C','#C71D12']\n",
        "sns.set(palette=colors, style='white')\n",
        "\n",
        "sns.palplot(colors)"
      ],
      "execution_count": 3,
      "outputs": [
        {
          "output_type": "display_data",
          "data": {
            "image/png": "[encoded data removed]",
            "text/plain": [
              "<Figure size 360x72 with 1 Axes>"
            ]
          },
          "metadata": {
            "tags": []
          }
        }
      ]
    },
    {
      "cell_type": "code",
      "metadata": {
        "id": "ysthu6VcVizq"
      },
      "source": [
        "# Mengubah kolom 'Date' menjadi tipe waktu/tanggal\n",
        "data[\"Date\"] = pd.to_datetime(data[\"Date\"])"
      ],
      "execution_count": 4,
      "outputs": []
    },
    {
      "cell_type": "markdown",
      "metadata": {
        "id": "IxVHywqmX1o6"
      },
      "source": [
        "## Diagram Batang Top 10 Kasus Covid 19 Per Provinsi"
      ]
    },
    {
      "cell_type": "code",
      "metadata": {
        "colab": {
          "base_uri": "https://localhost:8080/",
          "height": 668
        },
        "id": "vrnRSzjqN5VB",
        "outputId": "1bd0ded1-fd29-4dcf-a992-d91943e5339b"
      },
      "source": [
        "top_10=data.groupby(by='Province').max()[['Total Cases']].sort_values(by=['Total Cases'],ascending=False).reset_index()\n",
        "with plt.xkcd():\n",
        "    fig=plt.figure(figsize=(15,8))\n",
        "    plt.title(\"Top 10 Total Kasus Covid 19 Per Provinsi\", size=20)\n",
        "    ax=sns.barplot(data=top_10.iloc[:10],y='Total Cases',x='Province', linewidth=2, edgecolor='black')\n",
        "    ax.set_xticklabels(labels=ax.get_xticklabels(),rotation=90)\n",
        "    for i in ax.patches:\n",
        "        ax.text(x=i.get_x(),y=i.get_height(),s=i.get_height())"
      ],
      "execution_count": 5,
      "outputs": [
        {
          "output_type": "display_data",
          "data": {
            "image/png": "[encoded data removed]",
            "text/plain": [
              "<Figure size 1080x576 with 1 Axes>"
            ]
          },
          "metadata": {
            "tags": []
          }
        }
      ]
    },
    {
      "cell_type": "markdown",
      "metadata": {
        "id": "bk9d7qP8YK9O"
      },
      "source": [
        "## Persentase Total Kasus Covid 19 Per Pulau"
      ]
    },
    {
      "cell_type": "code",
      "metadata": {
        "colab": {
          "base_uri": "https://localhost:8080/",
          "height": 615
        },
        "id": "GdDB8VP7PBI5",
        "outputId": "d4753916-9b0f-4935-9390-0bf533adb724"
      },
      "source": [
        "bagan = data.groupby('Island')['Total Cases'].sum().reset_index()\n",
        "with plt.xkcd():\n",
        "    fig=plt.figure(figsize=(10,10))\n",
        "    plt.pie(bagan['Total Cases'], labels = bagan['Island'], autopct='%1.2f%%')\n",
        "    plt.title('Persentase Total Kasus Covid 19 Per Pulau', loc='center',pad=30, fontsize=15, color='blue')"
      ],
      "execution_count": 6,
      "outputs": [
        {
          "output_type": "display_data",
          "data": {
            "image/png": "[encoded data removed]",
            "text/plain": [
              "<Figure size 720x720 with 1 Axes>"
            ]
          },
          "metadata": {
            "tags": []
          }
        }
      ]
    },
    {
      "cell_type": "markdown",
      "metadata": {
        "id": "5hW8gNreYhsQ"
      },
      "source": [
        "## Grafik Kasus Total Kasus Covid 19"
      ]
    },
    {
      "cell_type": "code",
      "metadata": {
        "colab": {
          "base_uri": "https://localhost:8080/",
          "height": 546
        },
        "id": "NX6RFHlzToQh",
        "outputId": "2e177ca3-7905-418e-bb5f-a53a24376cc7"
      },
      "source": [
        "import matplotlib.pyplot as plt\n",
        "data.groupby(['Date','Province'])['Total Cases'].sum().unstack().plot()\n",
        "plt.title('',loc='center',pad=30, fontsize=20, color='blue')\n",
        "plt.xlabel('Bulan', fontsize = 15)\n",
        "plt.ylabel('Total Kasus (dalam ribuan)',fontsize = 15)\n",
        "plt.grid(color='darkgray', linestyle=':', linewidth=0.5)\n",
        "plt.ylim(ymin=0)\n",
        "labels, locations = plt.yticks()\n",
        "plt.yticks(labels, (labels/1000).astype(int))\n",
        "#Menambah Legend\n",
        "plt.legend(loc='right', bbox_to_anchor=(1.6, 0.5), shadow=True, ncol=1)\n",
        "plt.gcf().set_size_inches(15, 7)\n",
        "plt.tight_layout()\n",
        "plt.show()"
      ],
      "execution_count": 10,
      "outputs": [
        {
          "output_type": "display_data",
          "data": {
            "image/png": "[encoded data removed]",
            "text/plain": [
              "<Figure size 1080x504 with 1 Axes>"
            ]
          },
          "metadata": {
            "tags": []
          }
        }
      ]
    },
    {
      "cell_type": "markdown",
      "metadata": {
        "id": "osYXhHQvZEXP"
      },
      "source": [
        "## Grafik Total Kasus Covid 19 di Jawa Barat"
      ]
    },
    {
      "cell_type": "code",
      "metadata": {
        "colab": {
          "base_uri": "https://localhost:8080/",
          "height": 359
        },
        "id": "NacikkChQWQc",
        "outputId": "3d429de7-0184-4120-a86f-795c4a1bc29b"
      },
      "source": [
        "kasus_jb= data[data['Province']=='Jawa Barat'].groupby(['Date']).agg({'Total Cases':['sum']})\n",
        "kasus_jb_meninggal = data[data['Province']=='Jawa Barat'].groupby(['Date']).agg({'Total Deaths':['sum']})\n",
        "total_jb = kasus_jb.join(kasus_jb_meninggal)\n",
        "\n",
        "plt.figure(figsize=(15,10))\n",
        "plt.subplot(2, 2, 1)\n",
        "total_jb.plot(ax=plt.gca(), title='Jawa Barat')\n",
        "plt.ylabel(\"Kasus Terkonfirmasi\", size=13)"
      ],
      "execution_count": 11,
      "outputs": [
        {
          "output_type": "execute_result",
          "data": {
            "text/plain": [
              "Text(0, 0.5, 'Kasus Terkonfirmasi')"
            ]
          },
          "metadata": {
            "tags": []
          },
          "execution_count": 11
        },
        {
          "output_type": "display_data",
          "data": {
            "image/png": "[encoded data removed]",
            "text/plain": [
              "<Figure size 1080x720 with 1 Axes>"
            ]
          },
          "metadata": {
            "tags": []
          }
        }
      ]
    },
    {
      "cell_type": "markdown",
      "metadata": {
        "id": "E2b6R572yPAY"
      },
      "source": [
        "# **Exploratory Data Analysis (EDA)**"
      ]
    },
    {
      "cell_type": "markdown",
      "metadata": {
        "id": "wwVa5oUs3cjp"
      },
      "source": [
        "### *Mengecek Dimensi Data*"
      ]
    },
    {
      "cell_type": "code",
      "metadata": {
        "colab": {
          "base_uri": "https://localhost:8080/"
        },
        "id": "ioJ53BofxPa6",
        "outputId": "0d18045b-7ac6-462a-c8b1-a24c91b02dfb"
      },
      "source": [
        "data.shape"
      ],
      "execution_count": 12,
      "outputs": [
        {
          "output_type": "execute_result",
          "data": {
            "text/plain": [
              "(16283, 41)"
            ]
          },
          "metadata": {
            "tags": []
          },
          "execution_count": 12
        }
      ]
    },
    {
      "cell_type": "markdown",
      "metadata": {
        "id": "NaiLp2SLyjZH"
      },
      "source": [
        "### *Mengecek Variabel Dataset*"
      ]
    },
    {
      "cell_type": "code",
      "metadata": {
        "colab": {
          "base_uri": "https://localhost:8080/"
        },
        "id": "cbL-alOzyev-",
        "outputId": "5ad6df4e-6f08-45b2-8ba2-4787fe772cc9"
      },
      "source": [
        "data.columns.values"
      ],
      "execution_count": 13,
      "outputs": [
        {
          "output_type": "execute_result",
          "data": {
            "text/plain": [
              "array(['Date', 'Location ISO Code', 'Location', 'New Cases', 'New Deaths',\n",
              "       'New Recovered', 'New Active Cases', 'Total Cases', 'Total Deaths',\n",
              "       'Total Recovered', 'Total Active Cases', 'Location Level',\n",
              "       'City or Regency', 'Province', 'Country', 'Continent', 'Island',\n",
              "       'Time Zone', 'Special Status', 'Total Regencies', 'Total Cities',\n",
              "       'Total Districts', 'Total Urban Villages', 'Total Rural Villages',\n",
              "       'Area (km2)', 'Population', 'Population Density', 'Longitude',\n",
              "       'Latitude', 'New Cases per Million', 'Total Cases per Million',\n",
              "       'New Deaths per Million', 'Total Deaths per Million',\n",
              "       'Case Fatality Rate', 'Case Recovered Rate',\n",
              "       'Growth Factor of New Cases', 'Growth Factor of New Deaths',\n",
              "       'Name', 'Item', 'Kind', 'Hidden'], dtype=object)"
            ]
          },
          "metadata": {
            "tags": []
          },
          "execution_count": 13
        }
      ]
    },
    {
      "cell_type": "markdown",
      "metadata": {
        "id": "uGWx7M9BznDN"
      },
      "source": [
        "Terdapat 41 Kolom/Variabel"
      ]
    },
    {
      "cell_type": "markdown",
      "metadata": {
        "id": "ZHVo5RRpzwYA"
      },
      "source": [
        "### *Melihat Tipe Data pada Variabel*"
      ]
    },
    {
      "cell_type": "code",
      "metadata": {
        "colab": {
          "base_uri": "https://localhost:8080/"
        },
        "id": "ov9IBNX0yrPG",
        "outputId": "fd1725db-92ae-49a4-cf42-bcc5d7810a5c"
      },
      "source": [
        "data.dtypes"
      ],
      "execution_count": 14,
      "outputs": [
        {
          "output_type": "execute_result",
          "data": {
            "text/plain": [
              "Date                           datetime64[ns]\n",
              "Location ISO Code                      object\n",
              "Location                               object\n",
              "New Cases                               int64\n",
              "New Deaths                              int64\n",
              "New Recovered                           int64\n",
              "New Active Cases                        int64\n",
              "Total Cases                             int64\n",
              "Total Deaths                            int64\n",
              "Total Recovered                         int64\n",
              "Total Active Cases                      int64\n",
              "Location Level                         object\n",
              "City or Regency                       float64\n",
              "Province                               object\n",
              "Country                                object\n",
              "Continent                              object\n",
              "Island                                 object\n",
              "Time Zone                              object\n",
              "Special Status                         object\n",
              "Total Regencies                         int64\n",
              "Total Cities                          float64\n",
              "Total Districts                         int64\n",
              "Total Urban Villages                  float64\n",
              "Total Rural Villages                  float64\n",
              "Area (km2)                              int64\n",
              "Population                              int64\n",
              "Population Density                    float64\n",
              "Longitude                             float64\n",
              "Latitude                              float64\n",
              "New Cases per Million                 float64\n",
              "Total Cases per Million               float64\n",
              "New Deaths per Million                float64\n",
              "Total Deaths per Million              float64\n",
              "Case Fatality Rate                     object\n",
              "Case Recovered Rate                    object\n",
              "Growth Factor of New Cases            float64\n",
              "Growth Factor of New Deaths           float64\n",
              "Name                                  float64\n",
              "Item                                  float64\n",
              "Kind                                  float64\n",
              "Hidden                                float64\n",
              "dtype: object"
            ]
          },
          "metadata": {
            "tags": []
          },
          "execution_count": 14
        }
      ]
    },
    {
      "cell_type": "code",
      "metadata": {
        "colab": {
          "base_uri": "https://localhost:8080/"
        },
        "id": "j9UF_Hnvy02V",
        "outputId": "7c7844bf-6a1e-4d6f-c85e-879c3336b5dd"
      },
      "source": [
        "data.info()"
      ],
      "execution_count": 15,
      "outputs": [
        {
          "output_type": "stream",
          "text": [
            "<class 'pandas.core.frame.DataFrame'>\n",
            "RangeIndex: 16283 entries, 0 to 16282\n",
            "Data columns (total 41 columns):\n",
            " #   Column                       Non-Null Count  Dtype         \n",
            "---  ------                       --------------  -----         \n",
            " 0   Date                         16283 non-null  datetime64[ns]\n",
            " 1   Location ISO Code            16283 non-null  object        \n",
            " 2   Location                     16283 non-null  object        \n",
            " 3   New Cases                    16283 non-null  int64         \n",
            " 4   New Deaths                   16283 non-null  int64         \n",
            " 5   New Recovered                16283 non-null  int64         \n",
            " 6   New Active Cases             16283 non-null  int64         \n",
            " 7   Total Cases                  16283 non-null  int64         \n",
            " 8   Total Deaths                 16283 non-null  int64         \n",
            " 9   Total Recovered              16283 non-null  int64         \n",
            " 10  Total Active Cases           16283 non-null  int64         \n",
            " 11  Location Level               16283 non-null  object        \n",
            " 12  City or Regency              0 non-null      float64       \n",
            " 13  Province                     15788 non-null  object        \n",
            " 14  Country                      16283 non-null  object        \n",
            " 15  Continent                    16283 non-null  object        \n",
            " 16  Island                       15788 non-null  object        \n",
            " 17  Time Zone                    15788 non-null  object        \n",
            " 18  Special Status               2393 non-null   object        \n",
            " 19  Total Regencies              16283 non-null  int64         \n",
            " 20  Total Cities                 15814 non-null  float64       \n",
            " 21  Total Districts              16283 non-null  int64         \n",
            " 22  Total Urban Villages         15812 non-null  float64       \n",
            " 23  Total Rural Villages         15787 non-null  float64       \n",
            " 24  Area (km2)                   16283 non-null  int64         \n",
            " 25  Population                   16283 non-null  int64         \n",
            " 26  Population Density           16283 non-null  float64       \n",
            " 27  Longitude                    16283 non-null  float64       \n",
            " 28  Latitude                     16283 non-null  float64       \n",
            " 29  New Cases per Million        16283 non-null  float64       \n",
            " 30  Total Cases per Million      16283 non-null  float64       \n",
            " 31  New Deaths per Million       16283 non-null  float64       \n",
            " 32  Total Deaths per Million     16283 non-null  float64       \n",
            " 33  Case Fatality Rate           16283 non-null  object        \n",
            " 34  Case Recovered Rate          16283 non-null  object        \n",
            " 35  Growth Factor of New Cases   15298 non-null  float64       \n",
            " 36  Growth Factor of New Deaths  14344 non-null  float64       \n",
            " 37  Name                         0 non-null      float64       \n",
            " 38  Item                         0 non-null      float64       \n",
            " 39  Kind                         0 non-null      float64       \n",
            " 40  Hidden                       0 non-null      float64       \n",
            "dtypes: datetime64[ns](1), float64(17), int64(12), object(11)\n",
            "memory usage: 5.1+ MB\n"
          ],
          "name": "stdout"
        }
      ]
    },
    {
      "cell_type": "markdown",
      "metadata": {
        "id": "-livhnEI4Mnn"
      },
      "source": [
        "### *Melihat Statistik Data*"
      ]
    },
    {
      "cell_type": "code",
      "metadata": {
        "colab": {
          "base_uri": "https://localhost:8080/",
          "height": 351
        },
        "id": "bOKuPMmX4RAl",
        "outputId": "cf26cbdd-eebd-46e0-9f88-c4559f5514a2"
      },
      "source": [
        "data.describe()"
      ],
      "execution_count": 16,
      "outputs": [
        {
          "output_type": "execute_result",
          "data": {
            "text/html": [
              "<div>\n",
              "<style scoped>\n",
              "    .dataframe tbody tr th:only-of-type {\n",
              "        vertical-align: middle;\n",
              "    }\n",
              "\n",
              "    .dataframe tbody tr th {\n",
              "        vertical-align: top;\n",
              "    }\n",
              "\n",
              "    .dataframe thead th {\n",
              "        text-align: right;\n",
              "    }\n",
              "</style>\n",
              "<table border=\"1\" class=\"dataframe\">\n",
              "  <thead>\n",
              "    <tr style=\"text-align: right;\">\n",
              "      <th></th>\n",
              "      <th>New Cases</th>\n",
              "      <th>New Deaths</th>\n",
              "      <th>New Recovered</th>\n",
              "      <th>New Active Cases</th>\n",
              "      <th>Total Cases</th>\n",
              "      <th>Total Deaths</th>\n",
              "      <th>Total Recovered</th>\n",
              "      <th>Total Active Cases</th>\n",
              "      <th>City or Regency</th>\n",
              "      <th>Total Regencies</th>\n",
              "      <th>Total Cities</th>\n",
              "      <th>Total Districts</th>\n",
              "      <th>Total Urban Villages</th>\n",
              "      <th>Total Rural Villages</th>\n",
              "      <th>Area (km2)</th>\n",
              "      <th>Population</th>\n",
              "      <th>Population Density</th>\n",
              "      <th>Longitude</th>\n",
              "      <th>Latitude</th>\n",
              "      <th>New Cases per Million</th>\n",
              "      <th>Total Cases per Million</th>\n",
              "      <th>New Deaths per Million</th>\n",
              "      <th>Total Deaths per Million</th>\n",
              "      <th>Growth Factor of New Cases</th>\n",
              "      <th>Growth Factor of New Deaths</th>\n",
              "      <th>Name</th>\n",
              "      <th>Item</th>\n",
              "      <th>Kind</th>\n",
              "      <th>Hidden</th>\n",
              "    </tr>\n",
              "  </thead>\n",
              "  <tbody>\n",
              "    <tr>\n",
              "      <th>count</th>\n",
              "      <td>16283.000000</td>\n",
              "      <td>16283.000000</td>\n",
              "      <td>16283.000000</td>\n",
              "      <td>16283.000000</td>\n",
              "      <td>1.628300e+04</td>\n",
              "      <td>16283.000000</td>\n",
              "      <td>1.628300e+04</td>\n",
              "      <td>16283.000000</td>\n",
              "      <td>0.0</td>\n",
              "      <td>16283.000000</td>\n",
              "      <td>15814.000000</td>\n",
              "      <td>16283.000000</td>\n",
              "      <td>15812.000000</td>\n",
              "      <td>15787.000000</td>\n",
              "      <td>1.628300e+04</td>\n",
              "      <td>1.628300e+04</td>\n",
              "      <td>16283.000000</td>\n",
              "      <td>16283.000000</td>\n",
              "      <td>16283.000000</td>\n",
              "      <td>16283.000000</td>\n",
              "      <td>16283.000000</td>\n",
              "      <td>16283.000000</td>\n",
              "      <td>16283.000000</td>\n",
              "      <td>15298.000000</td>\n",
              "      <td>14344.000000</td>\n",
              "      <td>0.0</td>\n",
              "      <td>0.0</td>\n",
              "      <td>0.0</td>\n",
              "      <td>0.0</td>\n",
              "    </tr>\n",
              "    <tr>\n",
              "      <th>mean</th>\n",
              "      <td>301.271879</td>\n",
              "      <td>7.919364</td>\n",
              "      <td>248.015783</td>\n",
              "      <td>45.336732</td>\n",
              "      <td>4.274674e+04</td>\n",
              "      <td>1243.917644</td>\n",
              "      <td>3.689427e+04</td>\n",
              "      <td>4608.549714</td>\n",
              "      <td>NaN</td>\n",
              "      <td>24.792913</td>\n",
              "      <td>6.049576</td>\n",
              "      <td>432.595283</td>\n",
              "      <td>524.458133</td>\n",
              "      <td>4631.859821</td>\n",
              "      <td>1.140775e+05</td>\n",
              "      <td>1.605704e+07</td>\n",
              "      <td>768.308731</td>\n",
              "      <td>113.427502</td>\n",
              "      <td>-2.850093</td>\n",
              "      <td>20.673622</td>\n",
              "      <td>2977.160052</td>\n",
              "      <td>0.463346</td>\n",
              "      <td>72.462398</td>\n",
              "      <td>1.437652</td>\n",
              "      <td>1.084872</td>\n",
              "      <td>NaN</td>\n",
              "      <td>NaN</td>\n",
              "      <td>NaN</td>\n",
              "      <td>NaN</td>\n",
              "    </tr>\n",
              "    <tr>\n",
              "      <th>std</th>\n",
              "      <td>1330.028199</td>\n",
              "      <td>32.171434</td>\n",
              "      <td>997.784905</td>\n",
              "      <td>550.203700</td>\n",
              "      <td>1.784936e+05</td>\n",
              "      <td>4944.634529</td>\n",
              "      <td>1.580017e+05</td>\n",
              "      <td>17670.075450</td>\n",
              "      <td>NaN</td>\n",
              "      <td>69.658831</td>\n",
              "      <td>16.701237</td>\n",
              "      <td>1215.579638</td>\n",
              "      <td>1448.924063</td>\n",
              "      <td>12826.417106</td>\n",
              "      <td>3.247192e+05</td>\n",
              "      <td>4.546363e+07</td>\n",
              "      <td>2784.573161</td>\n",
              "      <td>9.860245</td>\n",
              "      <td>3.618674</td>\n",
              "      <td>45.319811</td>\n",
              "      <td>4987.373956</td>\n",
              "      <td>1.096785</td>\n",
              "      <td>99.203343</td>\n",
              "      <td>3.388187</td>\n",
              "      <td>1.949005</td>\n",
              "      <td>NaN</td>\n",
              "      <td>NaN</td>\n",
              "      <td>NaN</td>\n",
              "      <td>NaN</td>\n",
              "    </tr>\n",
              "    <tr>\n",
              "      <th>min</th>\n",
              "      <td>0.000000</td>\n",
              "      <td>0.000000</td>\n",
              "      <td>0.000000</td>\n",
              "      <td>-8381.000000</td>\n",
              "      <td>1.000000e+00</td>\n",
              "      <td>0.000000</td>\n",
              "      <td>0.000000e+00</td>\n",
              "      <td>-2395.000000</td>\n",
              "      <td>NaN</td>\n",
              "      <td>1.000000</td>\n",
              "      <td>1.000000</td>\n",
              "      <td>44.000000</td>\n",
              "      <td>35.000000</td>\n",
              "      <td>275.000000</td>\n",
              "      <td>6.640000e+02</td>\n",
              "      <td>6.484070e+05</td>\n",
              "      <td>8.590000</td>\n",
              "      <td>96.910522</td>\n",
              "      <td>-8.682205</td>\n",
              "      <td>0.000000</td>\n",
              "      <td>0.010000</td>\n",
              "      <td>0.000000</td>\n",
              "      <td>0.000000</td>\n",
              "      <td>0.000000</td>\n",
              "      <td>0.000000</td>\n",
              "      <td>NaN</td>\n",
              "      <td>NaN</td>\n",
              "      <td>NaN</td>\n",
              "      <td>NaN</td>\n",
              "    </tr>\n",
              "    <tr>\n",
              "      <th>25%</th>\n",
              "      <td>6.000000</td>\n",
              "      <td>0.000000</td>\n",
              "      <td>2.000000</td>\n",
              "      <td>-7.000000</td>\n",
              "      <td>7.265000e+02</td>\n",
              "      <td>23.000000</td>\n",
              "      <td>3.860000e+02</td>\n",
              "      <td>162.500000</td>\n",
              "      <td>NaN</td>\n",
              "      <td>8.000000</td>\n",
              "      <td>1.000000</td>\n",
              "      <td>116.000000</td>\n",
              "      <td>110.000000</td>\n",
              "      <td>995.000000</td>\n",
              "      <td>1.857200e+04</td>\n",
              "      <td>2.570289e+06</td>\n",
              "      <td>47.790000</td>\n",
              "      <td>106.109004</td>\n",
              "      <td>-6.204699</td>\n",
              "      <td>1.645000</td>\n",
              "      <td>166.695000</td>\n",
              "      <td>0.000000</td>\n",
              "      <td>4.980000</td>\n",
              "      <td>0.640000</td>\n",
              "      <td>0.670000</td>\n",
              "      <td>NaN</td>\n",
              "      <td>NaN</td>\n",
              "      <td>NaN</td>\n",
              "      <td>NaN</td>\n",
              "    </tr>\n",
              "    <tr>\n",
              "      <th>50%</th>\n",
              "      <td>39.000000</td>\n",
              "      <td>1.000000</td>\n",
              "      <td>24.000000</td>\n",
              "      <td>2.000000</td>\n",
              "      <td>5.941000e+03</td>\n",
              "      <td>149.000000</td>\n",
              "      <td>4.484000e+03</td>\n",
              "      <td>851.000000</td>\n",
              "      <td>NaN</td>\n",
              "      <td>12.000000</td>\n",
              "      <td>2.000000</td>\n",
              "      <td>171.000000</td>\n",
              "      <td>175.000000</td>\n",
              "      <td>1591.000000</td>\n",
              "      <td>4.671700e+04</td>\n",
              "      <td>4.340348e+06</td>\n",
              "      <td>103.840000</td>\n",
              "      <td>112.732941</td>\n",
              "      <td>-2.993595</td>\n",
              "      <td>7.670000</td>\n",
              "      <td>1398.640000</td>\n",
              "      <td>0.110000</td>\n",
              "      <td>41.380000</td>\n",
              "      <td>1.000000</td>\n",
              "      <td>1.000000</td>\n",
              "      <td>NaN</td>\n",
              "      <td>NaN</td>\n",
              "      <td>NaN</td>\n",
              "      <td>NaN</td>\n",
              "    </tr>\n",
              "    <tr>\n",
              "      <th>75%</th>\n",
              "      <td>127.000000</td>\n",
              "      <td>4.000000</td>\n",
              "      <td>106.000000</td>\n",
              "      <td>32.000000</td>\n",
              "      <td>1.777450e+04</td>\n",
              "      <td>556.000000</td>\n",
              "      <td>1.430450e+04</td>\n",
              "      <td>2271.000000</td>\n",
              "      <td>NaN</td>\n",
              "      <td>18.000000</td>\n",
              "      <td>4.000000</td>\n",
              "      <td>289.000000</td>\n",
              "      <td>332.000000</td>\n",
              "      <td>2853.000000</td>\n",
              "      <td>7.546800e+04</td>\n",
              "      <td>9.095591e+06</td>\n",
              "      <td>262.700000</td>\n",
              "      <td>120.162056</td>\n",
              "      <td>-0.086475</td>\n",
              "      <td>21.870000</td>\n",
              "      <td>3817.535000</td>\n",
              "      <td>0.550000</td>\n",
              "      <td>93.520000</td>\n",
              "      <td>1.330000</td>\n",
              "      <td>1.000000</td>\n",
              "      <td>NaN</td>\n",
              "      <td>NaN</td>\n",
              "      <td>NaN</td>\n",
              "      <td>NaN</td>\n",
              "    </tr>\n",
              "    <tr>\n",
              "      <th>max</th>\n",
              "      <td>38391.000000</td>\n",
              "      <td>1040.000000</td>\n",
              "      <td>28975.000000</td>\n",
              "      <td>18504.000000</td>\n",
              "      <td>2.455912e+06</td>\n",
              "      <td>64631.000000</td>\n",
              "      <td>2.023548e+06</td>\n",
              "      <td>367733.000000</td>\n",
              "      <td>NaN</td>\n",
              "      <td>416.000000</td>\n",
              "      <td>98.000000</td>\n",
              "      <td>7230.000000</td>\n",
              "      <td>8488.000000</td>\n",
              "      <td>74953.000000</td>\n",
              "      <td>1.916907e+06</td>\n",
              "      <td>2.651855e+08</td>\n",
              "      <td>16334.310000</td>\n",
              "      <td>138.696030</td>\n",
              "      <td>4.225615</td>\n",
              "      <td>1208.910000</td>\n",
              "      <td>58673.660000</td>\n",
              "      <td>63.800000</td>\n",
              "      <td>854.680000</td>\n",
              "      <td>175.000000</td>\n",
              "      <td>134.500000</td>\n",
              "      <td>NaN</td>\n",
              "      <td>NaN</td>\n",
              "      <td>NaN</td>\n",
              "      <td>NaN</td>\n",
              "    </tr>\n",
              "  </tbody>\n",
              "</table>\n",
              "</div>"
            ],
            "text/plain": [
              "          New Cases    New Deaths  New Recovered  ...  Item  Kind  Hidden\n",
              "count  16283.000000  16283.000000   16283.000000  ...   0.0   0.0     0.0\n",
              "mean     301.271879      7.919364     248.015783  ...   NaN   NaN     NaN\n",
              "std     1330.028199     32.171434     997.784905  ...   NaN   NaN     NaN\n",
              "min        0.000000      0.000000       0.000000  ...   NaN   NaN     NaN\n",
              "25%        6.000000      0.000000       2.000000  ...   NaN   NaN     NaN\n",
              "50%       39.000000      1.000000      24.000000  ...   NaN   NaN     NaN\n",
              "75%      127.000000      4.000000     106.000000  ...   NaN   NaN     NaN\n",
              "max    38391.000000   1040.000000   28975.000000  ...   NaN   NaN     NaN\n",
              "\n",
              "[8 rows x 29 columns]"
            ]
          },
          "metadata": {
            "tags": []
          },
          "execution_count": 16
        }
      ]
    },
    {
      "cell_type": "markdown",
      "metadata": {
        "id": "61kRd8l70Io6"
      },
      "source": [
        "### *Mengecek Missing Data*"
      ]
    },
    {
      "cell_type": "code",
      "metadata": {
        "colab": {
          "base_uri": "https://localhost:8080/"
        },
        "id": "caFTWQol0ElJ",
        "outputId": "7f4563ca-e76c-489d-8421-476b368a096a"
      },
      "source": [
        "data.isnull().sum()"
      ],
      "execution_count": 17,
      "outputs": [
        {
          "output_type": "execute_result",
          "data": {
            "text/plain": [
              "Date                               0\n",
              "Location ISO Code                  0\n",
              "Location                           0\n",
              "New Cases                          0\n",
              "New Deaths                         0\n",
              "New Recovered                      0\n",
              "New Active Cases                   0\n",
              "Total Cases                        0\n",
              "Total Deaths                       0\n",
              "Total Recovered                    0\n",
              "Total Active Cases                 0\n",
              "Location Level                     0\n",
              "City or Regency                16283\n",
              "Province                         495\n",
              "Country                            0\n",
              "Continent                          0\n",
              "Island                           495\n",
              "Time Zone                        495\n",
              "Special Status                 13890\n",
              "Total Regencies                    0\n",
              "Total Cities                     469\n",
              "Total Districts                    0\n",
              "Total Urban Villages             471\n",
              "Total Rural Villages             496\n",
              "Area (km2)                         0\n",
              "Population                         0\n",
              "Population Density                 0\n",
              "Longitude                          0\n",
              "Latitude                           0\n",
              "New Cases per Million              0\n",
              "Total Cases per Million            0\n",
              "New Deaths per Million             0\n",
              "Total Deaths per Million           0\n",
              "Case Fatality Rate                 0\n",
              "Case Recovered Rate                0\n",
              "Growth Factor of New Cases       985\n",
              "Growth Factor of New Deaths     1939\n",
              "Name                           16283\n",
              "Item                           16283\n",
              "Kind                           16283\n",
              "Hidden                         16283\n",
              "dtype: int64"
            ]
          },
          "metadata": {
            "tags": []
          },
          "execution_count": 17
        }
      ]
    },
    {
      "cell_type": "code",
      "metadata": {
        "colab": {
          "base_uri": "https://localhost:8080/",
          "height": 437
        },
        "id": "t06rhLQ2Tqgx",
        "outputId": "0de3abd1-1836-49c8-fbe9-8993f5dbc941"
      },
      "source": [
        "sns.heatmap(data.isnull(),cbar=False,yticklabels=False,cmap = 'viridis')"
      ],
      "execution_count": 18,
      "outputs": [
        {
          "output_type": "execute_result",
          "data": {
            "text/plain": [
              "<matplotlib.axes._subplots.AxesSubplot at 0x7fa1ec61e810>"
            ]
          },
          "metadata": {
            "tags": []
          },
          "execution_count": 18
        },
        {
          "output_type": "display_data",
          "data": {
            "image/png": "[encoded data removed]",
            "text/plain": [
              "<Figure size 432x288 with 1 Axes>"
            ]
          },
          "metadata": {
            "tags": []
          }
        }
      ]
    },
    {
      "cell_type": "markdown",
      "metadata": {
        "id": "G04vysgrSbVv"
      },
      "source": [
        "### *Menghapus kolom data yang tidak diperlukan*"
      ]
    },
    {
      "cell_type": "code",
      "metadata": {
        "id": "sZx6hTFLTZtN"
      },
      "source": [
        "data.drop('Location',inplace=True,axis=1)\n",
        "data.drop('Location ISO Code',inplace=True,axis=1)\n",
        "data.drop('Location Level',inplace=True,axis=1)\n",
        "data.drop('City or Regency',inplace=True,axis=1)\n",
        "data.drop('Country',inplace=True,axis=1)\n",
        "data.drop('Continent',inplace=True,axis=1)\n",
        "data.drop('Island',inplace=True,axis=1)\n",
        "data.drop('Time Zone',inplace=True,axis=1)\n",
        "data.drop('Special Status',inplace=True,axis=1)\n",
        "data.drop('Total Regencies',inplace=True,axis=1)\n",
        "data.drop('Total Cities',inplace=True,axis=1)\n",
        "data.drop('Total Districts',inplace=True,axis=1)\n",
        "data.drop('Total Urban Villages',inplace=True,axis=1)\n",
        "data.drop('Total Rural Villages',inplace=True,axis=1)\n",
        "data.drop('Area (km2)',inplace=True,axis=1)\n",
        "data.drop('Population',inplace=True,axis=1)\n",
        "data.drop('Population Density',inplace=True,axis=1)\n",
        "data.drop('Longitude',inplace=True,axis=1)\n",
        "data.drop('Latitude',inplace=True,axis=1)\n",
        "data.drop('New Cases per Million',inplace=True,axis=1)\n",
        "data.drop('Total Cases per Million',inplace=True,axis=1)\n",
        "data.drop('New Deaths per Million',inplace=True,axis=1)\n",
        "data.drop('Total Deaths per Million',inplace=True,axis=1)\n",
        "data.drop('Case Fatality Rate',inplace=True,axis=1)\n",
        "data.drop('Case Recovered Rate',inplace=True,axis=1)\n",
        "data.drop('Growth Factor of New Cases',inplace=True,axis=1)\n",
        "data.drop('Growth Factor of New Deaths',inplace=True,axis=1)\n",
        "data.drop('Name',inplace=True,axis=1)\n",
        "data.drop('Item',inplace=True,axis=1)\n",
        "data.drop('Kind',inplace=True,axis=1)\n",
        "data.drop('Hidden',inplace=True,axis=1)"
      ],
      "execution_count": 19,
      "outputs": []
    },
    {
      "cell_type": "markdown",
      "metadata": {
        "id": "puxX7H0Q3okp"
      },
      "source": [
        "### *Mengisi NAN*\n",
        "Dengan menggunakan fillna : ```ffill``` yaitu kita menggunakan nilai pada kolom sebelumnya sebagai nilai kolom setelahnya, ```bfill``` yaitu kita menggunakan nilai setelahnya sebagai nilai kolomm sebelumnya"
      ]
    },
    {
      "cell_type": "code",
      "metadata": {
        "colab": {
          "base_uri": "https://localhost:8080/",
          "height": 606
        },
        "id": "PYp-OGsI0Q09",
        "outputId": "1722be62-554d-4921-f847-ce98ce1f211a"
      },
      "source": [
        "#data.fillna(df.mean(),axis='columns')\n",
        "data=data.fillna(method='bfill')\n",
        "data=data.fillna(method='ffill')\n",
        "data"
      ],
      "execution_count": 20,
      "outputs": [
        {
          "output_type": "execute_result",
          "data": {
            "text/html": [
              "<div>\n",
              "<style scoped>\n",
              "    .dataframe tbody tr th:only-of-type {\n",
              "        vertical-align: middle;\n",
              "    }\n",
              "\n",
              "    .dataframe tbody tr th {\n",
              "        vertical-align: top;\n",
              "    }\n",
              "\n",
              "    .dataframe thead th {\n",
              "        text-align: right;\n",
              "    }\n",
              "</style>\n",
              "<table border=\"1\" class=\"dataframe\">\n",
              "  <thead>\n",
              "    <tr style=\"text-align: right;\">\n",
              "      <th></th>\n",
              "      <th>Date</th>\n",
              "      <th>New Cases</th>\n",
              "      <th>New Deaths</th>\n",
              "      <th>New Recovered</th>\n",
              "      <th>New Active Cases</th>\n",
              "      <th>Total Cases</th>\n",
              "      <th>Total Deaths</th>\n",
              "      <th>Total Recovered</th>\n",
              "      <th>Total Active Cases</th>\n",
              "      <th>Province</th>\n",
              "    </tr>\n",
              "  </thead>\n",
              "  <tbody>\n",
              "    <tr>\n",
              "      <th>0</th>\n",
              "      <td>2020-01-08</td>\n",
              "      <td>9</td>\n",
              "      <td>3</td>\n",
              "      <td>1</td>\n",
              "      <td>5</td>\n",
              "      <td>9</td>\n",
              "      <td>5</td>\n",
              "      <td>10</td>\n",
              "      <td>-6</td>\n",
              "      <td>Jawa Timur</td>\n",
              "    </tr>\n",
              "    <tr>\n",
              "      <th>1</th>\n",
              "      <td>2020-01-09</td>\n",
              "      <td>0</td>\n",
              "      <td>1</td>\n",
              "      <td>23</td>\n",
              "      <td>-24</td>\n",
              "      <td>9</td>\n",
              "      <td>6</td>\n",
              "      <td>33</td>\n",
              "      <td>-30</td>\n",
              "      <td>Jawa Timur</td>\n",
              "    </tr>\n",
              "    <tr>\n",
              "      <th>2</th>\n",
              "      <td>2020-01-10</td>\n",
              "      <td>0</td>\n",
              "      <td>1</td>\n",
              "      <td>14</td>\n",
              "      <td>-15</td>\n",
              "      <td>9</td>\n",
              "      <td>7</td>\n",
              "      <td>47</td>\n",
              "      <td>-45</td>\n",
              "      <td>Jawa Timur</td>\n",
              "    </tr>\n",
              "    <tr>\n",
              "      <th>3</th>\n",
              "      <td>2020-01-11</td>\n",
              "      <td>0</td>\n",
              "      <td>3</td>\n",
              "      <td>8</td>\n",
              "      <td>-11</td>\n",
              "      <td>9</td>\n",
              "      <td>10</td>\n",
              "      <td>55</td>\n",
              "      <td>-56</td>\n",
              "      <td>Jawa Timur</td>\n",
              "    </tr>\n",
              "    <tr>\n",
              "      <th>4</th>\n",
              "      <td>2020-01-12</td>\n",
              "      <td>0</td>\n",
              "      <td>3</td>\n",
              "      <td>1</td>\n",
              "      <td>-4</td>\n",
              "      <td>9</td>\n",
              "      <td>13</td>\n",
              "      <td>56</td>\n",
              "      <td>-60</td>\n",
              "      <td>Jawa Timur</td>\n",
              "    </tr>\n",
              "    <tr>\n",
              "      <th>...</th>\n",
              "      <td>...</td>\n",
              "      <td>...</td>\n",
              "      <td>...</td>\n",
              "      <td>...</td>\n",
              "      <td>...</td>\n",
              "      <td>...</td>\n",
              "      <td>...</td>\n",
              "      <td>...</td>\n",
              "      <td>...</td>\n",
              "      <td>...</td>\n",
              "    </tr>\n",
              "    <tr>\n",
              "      <th>16278</th>\n",
              "      <td>2021-07-09</td>\n",
              "      <td>124</td>\n",
              "      <td>1</td>\n",
              "      <td>3</td>\n",
              "      <td>120</td>\n",
              "      <td>12447</td>\n",
              "      <td>252</td>\n",
              "      <td>10412</td>\n",
              "      <td>1783</td>\n",
              "      <td>Sulawesi Tenggara</td>\n",
              "    </tr>\n",
              "    <tr>\n",
              "      <th>16279</th>\n",
              "      <td>2021-07-09</td>\n",
              "      <td>278</td>\n",
              "      <td>9</td>\n",
              "      <td>9</td>\n",
              "      <td>260</td>\n",
              "      <td>17424</td>\n",
              "      <td>572</td>\n",
              "      <td>15525</td>\n",
              "      <td>1327</td>\n",
              "      <td>Sulawesi Utara</td>\n",
              "    </tr>\n",
              "    <tr>\n",
              "      <th>16280</th>\n",
              "      <td>2021-07-09</td>\n",
              "      <td>718</td>\n",
              "      <td>10</td>\n",
              "      <td>275</td>\n",
              "      <td>433</td>\n",
              "      <td>55675</td>\n",
              "      <td>1259</td>\n",
              "      <td>48840</td>\n",
              "      <td>5576</td>\n",
              "      <td>Sumatera Barat</td>\n",
              "    </tr>\n",
              "    <tr>\n",
              "      <th>16281</th>\n",
              "      <td>2021-07-09</td>\n",
              "      <td>341</td>\n",
              "      <td>6</td>\n",
              "      <td>221</td>\n",
              "      <td>114</td>\n",
              "      <td>31147</td>\n",
              "      <td>1569</td>\n",
              "      <td>27088</td>\n",
              "      <td>2490</td>\n",
              "      <td>Sumatera Selatan</td>\n",
              "    </tr>\n",
              "    <tr>\n",
              "      <th>16282</th>\n",
              "      <td>2021-07-09</td>\n",
              "      <td>336</td>\n",
              "      <td>5</td>\n",
              "      <td>241</td>\n",
              "      <td>90</td>\n",
              "      <td>38040</td>\n",
              "      <td>1232</td>\n",
              "      <td>33773</td>\n",
              "      <td>3035</td>\n",
              "      <td>Sumatera Utara</td>\n",
              "    </tr>\n",
              "  </tbody>\n",
              "</table>\n",
              "<p>16283 rows × 10 columns</p>\n",
              "</div>"
            ],
            "text/plain": [
              "            Date  New Cases  ...  Total Active Cases           Province\n",
              "0     2020-01-08          9  ...                  -6         Jawa Timur\n",
              "1     2020-01-09          0  ...                 -30         Jawa Timur\n",
              "2     2020-01-10          0  ...                 -45         Jawa Timur\n",
              "3     2020-01-11          0  ...                 -56         Jawa Timur\n",
              "4     2020-01-12          0  ...                 -60         Jawa Timur\n",
              "...          ...        ...  ...                 ...                ...\n",
              "16278 2021-07-09        124  ...                1783  Sulawesi Tenggara\n",
              "16279 2021-07-09        278  ...                1327     Sulawesi Utara\n",
              "16280 2021-07-09        718  ...                5576     Sumatera Barat\n",
              "16281 2021-07-09        341  ...                2490   Sumatera Selatan\n",
              "16282 2021-07-09        336  ...                3035     Sumatera Utara\n",
              "\n",
              "[16283 rows x 10 columns]"
            ]
          },
          "metadata": {
            "tags": []
          },
          "execution_count": 20
        }
      ]
    },
    {
      "cell_type": "code",
      "metadata": {
        "colab": {
          "base_uri": "https://localhost:8080/"
        },
        "id": "iub-2lkR3nKt",
        "outputId": "8ab7edfb-6ba5-4cff-98cd-b687b5046b34"
      },
      "source": [
        "data.isnull().sum()"
      ],
      "execution_count": 21,
      "outputs": [
        {
          "output_type": "execute_result",
          "data": {
            "text/plain": [
              "Date                  0\n",
              "New Cases             0\n",
              "New Deaths            0\n",
              "New Recovered         0\n",
              "New Active Cases      0\n",
              "Total Cases           0\n",
              "Total Deaths          0\n",
              "Total Recovered       0\n",
              "Total Active Cases    0\n",
              "Province              0\n",
              "dtype: int64"
            ]
          },
          "metadata": {
            "tags": []
          },
          "execution_count": 21
        }
      ]
    },
    {
      "cell_type": "code",
      "metadata": {
        "colab": {
          "base_uri": "https://localhost:8080/",
          "height": 375
        },
        "id": "Qq63TO4WTx0m",
        "outputId": "a556a079-7671-4c25-e3a0-f6e74224d6b5"
      },
      "source": [
        "sns.heatmap(data.isnull(),cbar=False,yticklabels=False,cmap = 'viridis')"
      ],
      "execution_count": 22,
      "outputs": [
        {
          "output_type": "execute_result",
          "data": {
            "text/plain": [
              "<matplotlib.axes._subplots.AxesSubplot at 0x7fa1ec794e90>"
            ]
          },
          "metadata": {
            "tags": []
          },
          "execution_count": 22
        },
        {
          "output_type": "display_data",
          "data": {
            "image/png": "[encoded data removed]",
            "text/plain": [
              "<Figure size 432x288 with 1 Axes>"
            ]
          },
          "metadata": {
            "tags": []
          }
        }
      ]
    },
    {
      "cell_type": "markdown",
      "metadata": {
        "id": "z4ezPGNYTRQu"
      },
      "source": [
        "dapat dilihhat bahwa sudah tidak ada data yang hilang"
      ]
    },
    {
      "cell_type": "markdown",
      "metadata": {
        "id": "3TJL6zeUVeYp"
      },
      "source": [
        "## *Mengecek Outlier*"
      ]
    },
    {
      "cell_type": "code",
      "metadata": {
        "colab": {
          "base_uri": "https://localhost:8080/",
          "height": 293
        },
        "id": "9fRiHUIJSZZ4",
        "outputId": "2b4cfbde-0ed1-4b37-8abf-bbeab0ad8ec5"
      },
      "source": [
        "df1=data.select_dtypes(include=['float64', 'int64'])#Memilih kolom numerik\n",
        "\n",
        "sns.boxplot(x=\"variable\", y=\"value\", color='green',orient='v', data=pd.melt(df1))\n",
        "plt.tight_layout()"
      ],
      "execution_count": 23,
      "outputs": [
        {
          "output_type": "display_data",
          "data": {
            "image/png": "[encoded data removed]",
            "text/plain": [
              "<Figure size 432x288 with 1 Axes>"
            ]
          },
          "metadata": {
            "tags": []
          }
        }
      ]
    },
    {
      "cell_type": "markdown",
      "metadata": {
        "id": "KLpRN6gce6p1"
      },
      "source": [
        "Terlihat ada 8 data numerik"
      ]
    },
    {
      "cell_type": "markdown",
      "metadata": {
        "id": "YdN3qMi1YG79"
      },
      "source": [
        "## *Melakukan Pengkodean data String*"
      ]
    },
    {
      "cell_type": "code",
      "metadata": {
        "colab": {
          "base_uri": "https://localhost:8080/"
        },
        "id": "pqDON8r-YMAU",
        "outputId": "85c5b6ee-8f39-4eaa-d096-fd21d9da181e"
      },
      "source": [
        "data['Province'].value_counts()"
      ],
      "execution_count": 24,
      "outputs": [
        {
          "output_type": "execute_result",
          "data": {
            "text/plain": [
              "Jambi                         954\n",
              "Jawa Timur                    549\n",
              "Jawa Barat                    513\n",
              "DKI Jakarta                   496\n",
              "Riau                          495\n",
              "Banten                        491\n",
              "Jawa Tengah                   489\n",
              "Sulawesi Tenggara             487\n",
              "Bali                          486\n",
              "Kalimantan Timur              483\n",
              "Daerah Istimewa Yogyakarta    481\n",
              "Sumatera Utara                480\n",
              "Sulawesi Selatan              478\n",
              "Kepulauan Riau                478\n",
              "Maluku                        475\n",
              "Papua                         475\n",
              "Sumatera Selatan              474\n",
              "Maluku Utara                  474\n",
              "Aceh                          471\n",
              "Sumatera Barat                471\n",
              "Kalimantan Tengah             471\n",
              "Sulawesi Utara                471\n",
              "Sulawesi Tengah               471\n",
              "Lampung                       471\n",
              "Papua Barat                   470\n",
              "Kalimantan Utara              469\n",
              "Sulawesi Barat                469\n",
              "Kalimantan Barat              468\n",
              "Kepulauan Bangka Belitung     467\n",
              "Kalimantan Selatan            467\n",
              "Nusa Tenggara Barat           466\n",
              "Bengkulu                      466\n",
              "Nusa Tenggara Timur           457\n",
              "Name: Province, dtype: int64"
            ]
          },
          "metadata": {
            "tags": []
          },
          "execution_count": 24
        }
      ]
    },
    {
      "cell_type": "code",
      "metadata": {
        "id": "Mtj5xg5kcwEA"
      },
      "source": [
        "data[\"Province\"] = data[\"Province\"].astype('category')"
      ],
      "execution_count": 25,
      "outputs": []
    },
    {
      "cell_type": "code",
      "metadata": {
        "colab": {
          "base_uri": "https://localhost:8080/"
        },
        "id": "zkek50tQYXYE",
        "outputId": "e8da5b43-efbf-4d3a-e7d7-2d7ac26a216c"
      },
      "source": [
        "data['Date'].value_counts()"
      ],
      "execution_count": 26,
      "outputs": [
        {
          "output_type": "execute_result",
          "data": {
            "text/plain": [
              "2020-09-01    34\n",
              "2021-01-10    34\n",
              "2020-10-07    34\n",
              "2020-11-14    34\n",
              "2020-06-09    34\n",
              "              ..\n",
              "2020-02-04     1\n",
              "2020-01-13     1\n",
              "2020-02-26     1\n",
              "2020-02-13     1\n",
              "2020-01-08     1\n",
              "Name: Date, Length: 549, dtype: int64"
            ]
          },
          "metadata": {
            "tags": []
          },
          "execution_count": 26
        }
      ]
    },
    {
      "cell_type": "code",
      "metadata": {
        "id": "6cnn_mEBc4Bi"
      },
      "source": [
        "data[\"Date\"] = data[\"Date\"].astype('category')"
      ],
      "execution_count": 27,
      "outputs": []
    },
    {
      "cell_type": "code",
      "metadata": {
        "colab": {
          "base_uri": "https://localhost:8080/",
          "height": 221
        },
        "id": "d3wQew8ZaAH1",
        "outputId": "cb5aa8fb-5166-4414-ef61-8c84708d89ce"
      },
      "source": [
        "#Proses Pengkodean\n",
        "data[\"Province\"] = data[\"Province\"].cat.codes\n",
        "data[\"Date\"] = data[\"Date\"].cat.codes\n",
        "data.head()"
      ],
      "execution_count": 28,
      "outputs": [
        {
          "output_type": "execute_result",
          "data": {
            "text/html": [
              "<div>\n",
              "<style scoped>\n",
              "    .dataframe tbody tr th:only-of-type {\n",
              "        vertical-align: middle;\n",
              "    }\n",
              "\n",
              "    .dataframe tbody tr th {\n",
              "        vertical-align: top;\n",
              "    }\n",
              "\n",
              "    .dataframe thead th {\n",
              "        text-align: right;\n",
              "    }\n",
              "</style>\n",
              "<table border=\"1\" class=\"dataframe\">\n",
              "  <thead>\n",
              "    <tr style=\"text-align: right;\">\n",
              "      <th></th>\n",
              "      <th>Date</th>\n",
              "      <th>New Cases</th>\n",
              "      <th>New Deaths</th>\n",
              "      <th>New Recovered</th>\n",
              "      <th>New Active Cases</th>\n",
              "      <th>Total Cases</th>\n",
              "      <th>Total Deaths</th>\n",
              "      <th>Total Recovered</th>\n",
              "      <th>Total Active Cases</th>\n",
              "      <th>Province</th>\n",
              "    </tr>\n",
              "  </thead>\n",
              "  <tbody>\n",
              "    <tr>\n",
              "      <th>0</th>\n",
              "      <td>0</td>\n",
              "      <td>9</td>\n",
              "      <td>3</td>\n",
              "      <td>1</td>\n",
              "      <td>5</td>\n",
              "      <td>9</td>\n",
              "      <td>5</td>\n",
              "      <td>10</td>\n",
              "      <td>-6</td>\n",
              "      <td>9</td>\n",
              "    </tr>\n",
              "    <tr>\n",
              "      <th>1</th>\n",
              "      <td>1</td>\n",
              "      <td>0</td>\n",
              "      <td>1</td>\n",
              "      <td>23</td>\n",
              "      <td>-24</td>\n",
              "      <td>9</td>\n",
              "      <td>6</td>\n",
              "      <td>33</td>\n",
              "      <td>-30</td>\n",
              "      <td>9</td>\n",
              "    </tr>\n",
              "    <tr>\n",
              "      <th>2</th>\n",
              "      <td>2</td>\n",
              "      <td>0</td>\n",
              "      <td>1</td>\n",
              "      <td>14</td>\n",
              "      <td>-15</td>\n",
              "      <td>9</td>\n",
              "      <td>7</td>\n",
              "      <td>47</td>\n",
              "      <td>-45</td>\n",
              "      <td>9</td>\n",
              "    </tr>\n",
              "    <tr>\n",
              "      <th>3</th>\n",
              "      <td>3</td>\n",
              "      <td>0</td>\n",
              "      <td>3</td>\n",
              "      <td>8</td>\n",
              "      <td>-11</td>\n",
              "      <td>9</td>\n",
              "      <td>10</td>\n",
              "      <td>55</td>\n",
              "      <td>-56</td>\n",
              "      <td>9</td>\n",
              "    </tr>\n",
              "    <tr>\n",
              "      <th>4</th>\n",
              "      <td>4</td>\n",
              "      <td>0</td>\n",
              "      <td>3</td>\n",
              "      <td>1</td>\n",
              "      <td>-4</td>\n",
              "      <td>9</td>\n",
              "      <td>13</td>\n",
              "      <td>56</td>\n",
              "      <td>-60</td>\n",
              "      <td>9</td>\n",
              "    </tr>\n",
              "  </tbody>\n",
              "</table>\n",
              "</div>"
            ],
            "text/plain": [
              "   Date  New Cases  New Deaths  ...  Total Recovered  Total Active Cases  Province\n",
              "0     0          9           3  ...               10                  -6         9\n",
              "1     1          0           1  ...               33                 -30         9\n",
              "2     2          0           1  ...               47                 -45         9\n",
              "3     3          0           3  ...               55                 -56         9\n",
              "4     4          0           3  ...               56                 -60         9\n",
              "\n",
              "[5 rows x 10 columns]"
            ]
          },
          "metadata": {
            "tags": []
          },
          "execution_count": 28
        }
      ]
    },
    {
      "cell_type": "code",
      "metadata": {
        "colab": {
          "base_uri": "https://localhost:8080/"
        },
        "id": "U_Z7BhcXVkVw",
        "outputId": "7c6816db-d4e2-415a-d430-ce61e84051a9"
      },
      "source": [
        "#Menghitung Skor IQR\n",
        "sorted(data)\n",
        "\n",
        "Q1=data.quantile(0.25)\n",
        "Q3=data.quantile(0.75)\n",
        "IQR=Q3-Q1\n",
        "print(IQR)"
      ],
      "execution_count": 29,
      "outputs": [
        {
          "output_type": "stream",
          "text": [
            "Date                    240.0\n",
            "New Cases               121.0\n",
            "New Deaths                4.0\n",
            "New Recovered           104.0\n",
            "New Active Cases         39.0\n",
            "Total Cases           17048.0\n",
            "Total Deaths            533.0\n",
            "Total Recovered       13918.5\n",
            "Total Active Cases     2108.5\n",
            "Province                 17.0\n",
            "dtype: float64\n"
          ],
          "name": "stdout"
        }
      ]
    },
    {
      "cell_type": "code",
      "metadata": {
        "colab": {
          "base_uri": "https://localhost:8080/",
          "height": 436
        },
        "id": "ZMPkF0q9X3pw",
        "outputId": "884a99c3-3d2b-4f1d-c0d7-545e0299d1bf"
      },
      "source": [
        "#Menghapus Outlier\n",
        "data_clear = data[~((data < (Q1 - 1.5 * IQR)) |(data > (Q3 + 1.5 * IQR))).any(axis=1)]\n",
        "data_clear"
      ],
      "execution_count": 30,
      "outputs": [
        {
          "output_type": "execute_result",
          "data": {
            "text/html": [
              "<div>\n",
              "<style scoped>\n",
              "    .dataframe tbody tr th:only-of-type {\n",
              "        vertical-align: middle;\n",
              "    }\n",
              "\n",
              "    .dataframe tbody tr th {\n",
              "        vertical-align: top;\n",
              "    }\n",
              "\n",
              "    .dataframe thead th {\n",
              "        text-align: right;\n",
              "    }\n",
              "</style>\n",
              "<table border=\"1\" class=\"dataframe\">\n",
              "  <thead>\n",
              "    <tr style=\"text-align: right;\">\n",
              "      <th></th>\n",
              "      <th>Date</th>\n",
              "      <th>New Cases</th>\n",
              "      <th>New Deaths</th>\n",
              "      <th>New Recovered</th>\n",
              "      <th>New Active Cases</th>\n",
              "      <th>Total Cases</th>\n",
              "      <th>Total Deaths</th>\n",
              "      <th>Total Recovered</th>\n",
              "      <th>Total Active Cases</th>\n",
              "      <th>Province</th>\n",
              "    </tr>\n",
              "  </thead>\n",
              "  <tbody>\n",
              "    <tr>\n",
              "      <th>0</th>\n",
              "      <td>0</td>\n",
              "      <td>9</td>\n",
              "      <td>3</td>\n",
              "      <td>1</td>\n",
              "      <td>5</td>\n",
              "      <td>9</td>\n",
              "      <td>5</td>\n",
              "      <td>10</td>\n",
              "      <td>-6</td>\n",
              "      <td>9</td>\n",
              "    </tr>\n",
              "    <tr>\n",
              "      <th>1</th>\n",
              "      <td>1</td>\n",
              "      <td>0</td>\n",
              "      <td>1</td>\n",
              "      <td>23</td>\n",
              "      <td>-24</td>\n",
              "      <td>9</td>\n",
              "      <td>6</td>\n",
              "      <td>33</td>\n",
              "      <td>-30</td>\n",
              "      <td>9</td>\n",
              "    </tr>\n",
              "    <tr>\n",
              "      <th>2</th>\n",
              "      <td>2</td>\n",
              "      <td>0</td>\n",
              "      <td>1</td>\n",
              "      <td>14</td>\n",
              "      <td>-15</td>\n",
              "      <td>9</td>\n",
              "      <td>7</td>\n",
              "      <td>47</td>\n",
              "      <td>-45</td>\n",
              "      <td>9</td>\n",
              "    </tr>\n",
              "    <tr>\n",
              "      <th>3</th>\n",
              "      <td>3</td>\n",
              "      <td>0</td>\n",
              "      <td>3</td>\n",
              "      <td>8</td>\n",
              "      <td>-11</td>\n",
              "      <td>9</td>\n",
              "      <td>10</td>\n",
              "      <td>55</td>\n",
              "      <td>-56</td>\n",
              "      <td>9</td>\n",
              "    </tr>\n",
              "    <tr>\n",
              "      <th>4</th>\n",
              "      <td>4</td>\n",
              "      <td>0</td>\n",
              "      <td>3</td>\n",
              "      <td>1</td>\n",
              "      <td>-4</td>\n",
              "      <td>9</td>\n",
              "      <td>13</td>\n",
              "      <td>56</td>\n",
              "      <td>-60</td>\n",
              "      <td>9</td>\n",
              "    </tr>\n",
              "    <tr>\n",
              "      <th>...</th>\n",
              "      <td>...</td>\n",
              "      <td>...</td>\n",
              "      <td>...</td>\n",
              "      <td>...</td>\n",
              "      <td>...</td>\n",
              "      <td>...</td>\n",
              "      <td>...</td>\n",
              "      <td>...</td>\n",
              "      <td>...</td>\n",
              "      <td>...</td>\n",
              "    </tr>\n",
              "    <tr>\n",
              "      <th>16248</th>\n",
              "      <td>547</td>\n",
              "      <td>275</td>\n",
              "      <td>6</td>\n",
              "      <td>199</td>\n",
              "      <td>70</td>\n",
              "      <td>37704</td>\n",
              "      <td>1227</td>\n",
              "      <td>33532</td>\n",
              "      <td>2945</td>\n",
              "      <td>32</td>\n",
              "    </tr>\n",
              "    <tr>\n",
              "      <th>16252</th>\n",
              "      <td>548</td>\n",
              "      <td>101</td>\n",
              "      <td>0</td>\n",
              "      <td>67</td>\n",
              "      <td>34</td>\n",
              "      <td>11671</td>\n",
              "      <td>194</td>\n",
              "      <td>9530</td>\n",
              "      <td>1947</td>\n",
              "      <td>3</td>\n",
              "    </tr>\n",
              "    <tr>\n",
              "      <th>16256</th>\n",
              "      <td>548</td>\n",
              "      <td>186</td>\n",
              "      <td>2</td>\n",
              "      <td>118</td>\n",
              "      <td>66</td>\n",
              "      <td>13935</td>\n",
              "      <td>284</td>\n",
              "      <td>11892</td>\n",
              "      <td>1759</td>\n",
              "      <td>6</td>\n",
              "    </tr>\n",
              "    <tr>\n",
              "      <th>16270</th>\n",
              "      <td>548</td>\n",
              "      <td>8</td>\n",
              "      <td>0</td>\n",
              "      <td>3</td>\n",
              "      <td>5</td>\n",
              "      <td>13466</td>\n",
              "      <td>498</td>\n",
              "      <td>11458</td>\n",
              "      <td>1510</td>\n",
              "      <td>20</td>\n",
              "    </tr>\n",
              "    <tr>\n",
              "      <th>16275</th>\n",
              "      <td>548</td>\n",
              "      <td>34</td>\n",
              "      <td>0</td>\n",
              "      <td>23</td>\n",
              "      <td>11</td>\n",
              "      <td>6251</td>\n",
              "      <td>127</td>\n",
              "      <td>5595</td>\n",
              "      <td>529</td>\n",
              "      <td>25</td>\n",
              "    </tr>\n",
              "  </tbody>\n",
              "</table>\n",
              "<p>11638 rows × 10 columns</p>\n",
              "</div>"
            ],
            "text/plain": [
              "       Date  New Cases  ...  Total Active Cases  Province\n",
              "0         0          9  ...                  -6         9\n",
              "1         1          0  ...                 -30         9\n",
              "2         2          0  ...                 -45         9\n",
              "3         3          0  ...                 -56         9\n",
              "4         4          0  ...                 -60         9\n",
              "...     ...        ...  ...                 ...       ...\n",
              "16248   547        275  ...                2945        32\n",
              "16252   548        101  ...                1947         3\n",
              "16256   548        186  ...                1759         6\n",
              "16270   548          8  ...                1510        20\n",
              "16275   548         34  ...                 529        25\n",
              "\n",
              "[11638 rows x 10 columns]"
            ]
          },
          "metadata": {
            "tags": []
          },
          "execution_count": 30
        }
      ]
    },
    {
      "cell_type": "code",
      "metadata": {
        "colab": {
          "base_uri": "https://localhost:8080/",
          "height": 293
        },
        "id": "vNXdeeFHe17u",
        "outputId": "1733aa51-6ce5-4c17-8744-7dc599743a8e"
      },
      "source": [
        "#Setelah memperkecil outlier\n",
        "df1=data_clear.select_dtypes(include=['float64', 'int64','category'])\n",
        "\n",
        "sns.boxplot(x=\"variable\", y=\"value\", color='green',orient='v', data=pd.melt(df1))\n",
        "plt.tight_layout()"
      ],
      "execution_count": 31,
      "outputs": [
        {
          "output_type": "display_data",
          "data": {
            "image/png": "[encoded data removed]",
            "text/plain": [
              "<Figure size 432x288 with 1 Axes>"
            ]
          },
          "metadata": {
            "tags": []
          }
        }
      ]
    },
    {
      "cell_type": "markdown",
      "metadata": {
        "id": "UPE-vFLgg6BF"
      },
      "source": [
        "## *Normalisasi Data*"
      ]
    },
    {
      "cell_type": "code",
      "metadata": {
        "colab": {
          "base_uri": "https://localhost:8080/"
        },
        "id": "TD1H_N6nlOT3",
        "outputId": "e2413471-6700-4fab-85eb-ec2a1539ffb6"
      },
      "source": [
        "data_clear.dtypes"
      ],
      "execution_count": 32,
      "outputs": [
        {
          "output_type": "execute_result",
          "data": {
            "text/plain": [
              "Date                  int16\n",
              "New Cases             int64\n",
              "New Deaths            int64\n",
              "New Recovered         int64\n",
              "New Active Cases      int64\n",
              "Total Cases           int64\n",
              "Total Deaths          int64\n",
              "Total Recovered       int64\n",
              "Total Active Cases    int64\n",
              "Province               int8\n",
              "dtype: object"
            ]
          },
          "metadata": {
            "tags": []
          },
          "execution_count": 32
        }
      ]
    },
    {
      "cell_type": "code",
      "metadata": {
        "colab": {
          "base_uri": "https://localhost:8080/",
          "height": 436
        },
        "id": "vn8FTU6-e7-s",
        "outputId": "5f2ee78c-ca11-4511-ea60-cab2e1a6af0c"
      },
      "source": [
        "#Normalisasi data dengan MinMaxScaler\n",
        "scaler = MinMaxScaler()\n",
        "data_norm = pd.DataFrame(scaler.fit_transform(data_clear), columns=data_clear.columns)\n",
        "\n",
        "data_norm"
      ],
      "execution_count": 33,
      "outputs": [
        {
          "output_type": "execute_result",
          "data": {
            "text/html": [
              "<div>\n",
              "<style scoped>\n",
              "    .dataframe tbody tr th:only-of-type {\n",
              "        vertical-align: middle;\n",
              "    }\n",
              "\n",
              "    .dataframe tbody tr th {\n",
              "        vertical-align: top;\n",
              "    }\n",
              "\n",
              "    .dataframe thead th {\n",
              "        text-align: right;\n",
              "    }\n",
              "</style>\n",
              "<table border=\"1\" class=\"dataframe\">\n",
              "  <thead>\n",
              "    <tr style=\"text-align: right;\">\n",
              "      <th></th>\n",
              "      <th>Date</th>\n",
              "      <th>New Cases</th>\n",
              "      <th>New Deaths</th>\n",
              "      <th>New Recovered</th>\n",
              "      <th>New Active Cases</th>\n",
              "      <th>Total Cases</th>\n",
              "      <th>Total Deaths</th>\n",
              "      <th>Total Recovered</th>\n",
              "      <th>Total Active Cases</th>\n",
              "      <th>Province</th>\n",
              "    </tr>\n",
              "  </thead>\n",
              "  <tbody>\n",
              "    <tr>\n",
              "      <th>0</th>\n",
              "      <td>0.000000</td>\n",
              "      <td>0.029316</td>\n",
              "      <td>0.3</td>\n",
              "      <td>0.003817</td>\n",
              "      <td>0.451613</td>\n",
              "      <td>0.000202</td>\n",
              "      <td>0.003715</td>\n",
              "      <td>0.000284</td>\n",
              "      <td>0.277044</td>\n",
              "      <td>0.28125</td>\n",
              "    </tr>\n",
              "    <tr>\n",
              "      <th>1</th>\n",
              "      <td>0.001825</td>\n",
              "      <td>0.000000</td>\n",
              "      <td>0.1</td>\n",
              "      <td>0.087786</td>\n",
              "      <td>0.264516</td>\n",
              "      <td>0.000202</td>\n",
              "      <td>0.004458</td>\n",
              "      <td>0.000939</td>\n",
              "      <td>0.273843</td>\n",
              "      <td>0.28125</td>\n",
              "    </tr>\n",
              "    <tr>\n",
              "      <th>2</th>\n",
              "      <td>0.003650</td>\n",
              "      <td>0.000000</td>\n",
              "      <td>0.1</td>\n",
              "      <td>0.053435</td>\n",
              "      <td>0.322581</td>\n",
              "      <td>0.000202</td>\n",
              "      <td>0.005201</td>\n",
              "      <td>0.001337</td>\n",
              "      <td>0.271842</td>\n",
              "      <td>0.28125</td>\n",
              "    </tr>\n",
              "    <tr>\n",
              "      <th>3</th>\n",
              "      <td>0.005474</td>\n",
              "      <td>0.000000</td>\n",
              "      <td>0.3</td>\n",
              "      <td>0.030534</td>\n",
              "      <td>0.348387</td>\n",
              "      <td>0.000202</td>\n",
              "      <td>0.007429</td>\n",
              "      <td>0.001564</td>\n",
              "      <td>0.270375</td>\n",
              "      <td>0.28125</td>\n",
              "    </tr>\n",
              "    <tr>\n",
              "      <th>4</th>\n",
              "      <td>0.007299</td>\n",
              "      <td>0.000000</td>\n",
              "      <td>0.3</td>\n",
              "      <td>0.003817</td>\n",
              "      <td>0.393548</td>\n",
              "      <td>0.000202</td>\n",
              "      <td>0.009658</td>\n",
              "      <td>0.001593</td>\n",
              "      <td>0.269841</td>\n",
              "      <td>0.28125</td>\n",
              "    </tr>\n",
              "    <tr>\n",
              "      <th>...</th>\n",
              "      <td>...</td>\n",
              "      <td>...</td>\n",
              "      <td>...</td>\n",
              "      <td>...</td>\n",
              "      <td>...</td>\n",
              "      <td>...</td>\n",
              "      <td>...</td>\n",
              "      <td>...</td>\n",
              "      <td>...</td>\n",
              "      <td>...</td>\n",
              "    </tr>\n",
              "    <tr>\n",
              "      <th>11633</th>\n",
              "      <td>0.998175</td>\n",
              "      <td>0.895765</td>\n",
              "      <td>0.6</td>\n",
              "      <td>0.759542</td>\n",
              "      <td>0.870968</td>\n",
              "      <td>0.954144</td>\n",
              "      <td>0.911590</td>\n",
              "      <td>0.953779</td>\n",
              "      <td>0.670668</td>\n",
              "      <td>1.00000</td>\n",
              "    </tr>\n",
              "    <tr>\n",
              "      <th>11634</th>\n",
              "      <td>1.000000</td>\n",
              "      <td>0.328990</td>\n",
              "      <td>0.0</td>\n",
              "      <td>0.255725</td>\n",
              "      <td>0.638710</td>\n",
              "      <td>0.295331</td>\n",
              "      <td>0.144131</td>\n",
              "      <td>0.271070</td>\n",
              "      <td>0.537548</td>\n",
              "      <td>0.09375</td>\n",
              "    </tr>\n",
              "    <tr>\n",
              "      <th>11635</th>\n",
              "      <td>1.000000</td>\n",
              "      <td>0.605863</td>\n",
              "      <td>0.2</td>\n",
              "      <td>0.450382</td>\n",
              "      <td>0.845161</td>\n",
              "      <td>0.352626</td>\n",
              "      <td>0.210996</td>\n",
              "      <td>0.338254</td>\n",
              "      <td>0.512472</td>\n",
              "      <td>0.18750</td>\n",
              "    </tr>\n",
              "    <tr>\n",
              "      <th>11636</th>\n",
              "      <td>1.000000</td>\n",
              "      <td>0.026059</td>\n",
              "      <td>0.0</td>\n",
              "      <td>0.011450</td>\n",
              "      <td>0.451613</td>\n",
              "      <td>0.340757</td>\n",
              "      <td>0.369985</td>\n",
              "      <td>0.325909</td>\n",
              "      <td>0.479258</td>\n",
              "      <td>0.62500</td>\n",
              "    </tr>\n",
              "    <tr>\n",
              "      <th>11637</th>\n",
              "      <td>1.000000</td>\n",
              "      <td>0.110749</td>\n",
              "      <td>0.0</td>\n",
              "      <td>0.087786</td>\n",
              "      <td>0.490323</td>\n",
              "      <td>0.158168</td>\n",
              "      <td>0.094354</td>\n",
              "      <td>0.159143</td>\n",
              "      <td>0.348406</td>\n",
              "      <td>0.78125</td>\n",
              "    </tr>\n",
              "  </tbody>\n",
              "</table>\n",
              "<p>11638 rows × 10 columns</p>\n",
              "</div>"
            ],
            "text/plain": [
              "           Date  New Cases  ...  Total Active Cases  Province\n",
              "0      0.000000   0.029316  ...            0.277044   0.28125\n",
              "1      0.001825   0.000000  ...            0.273843   0.28125\n",
              "2      0.003650   0.000000  ...            0.271842   0.28125\n",
              "3      0.005474   0.000000  ...            0.270375   0.28125\n",
              "4      0.007299   0.000000  ...            0.269841   0.28125\n",
              "...         ...        ...  ...                 ...       ...\n",
              "11633  0.998175   0.895765  ...            0.670668   1.00000\n",
              "11634  1.000000   0.328990  ...            0.537548   0.09375\n",
              "11635  1.000000   0.605863  ...            0.512472   0.18750\n",
              "11636  1.000000   0.026059  ...            0.479258   0.62500\n",
              "11637  1.000000   0.110749  ...            0.348406   0.78125\n",
              "\n",
              "[11638 rows x 10 columns]"
            ]
          },
          "metadata": {
            "tags": []
          },
          "execution_count": 33
        }
      ]
    },
    {
      "cell_type": "code",
      "metadata": {
        "colab": {
          "base_uri": "https://localhost:8080/"
        },
        "id": "mT_jWTdzgd7X",
        "outputId": "a2a3dd5f-c47f-4b5c-955c-b6182b66b309"
      },
      "source": [
        "y=data_norm['Total Cases']\n",
        "X=data_norm.drop(columns=['Total Cases'])\n",
        "#Mengubah data menjadi array\n",
        "y=np.array(y)\n",
        "X=np.array(X)\n",
        "\n",
        "print(y)\n",
        "print(X)"
      ],
      "execution_count": 34,
      "outputs": [
        {
          "output_type": "stream",
          "text": [
            "[2.02454764e-04 2.02454764e-04 2.02454764e-04 ... 3.52625585e-01\n",
            " 3.40756675e-01 1.58167784e-01]\n",
            "[[0.00000000e+00 2.93159609e-02 3.00000000e-01 ... 2.84438376e-04\n",
            "  2.77044151e-01 2.81250000e-01]\n",
            " [1.82481752e-03 0.00000000e+00 1.00000000e-01 ... 9.38646642e-04\n",
            "  2.73842870e-01 2.81250000e-01]\n",
            " [3.64963504e-03 0.00000000e+00 1.00000000e-01 ... 1.33686037e-03\n",
            "  2.71842070e-01 2.81250000e-01]\n",
            " ...\n",
            " [1.00000000e+00 6.05863192e-01 2.00000000e-01 ... 3.38254117e-01\n",
            "  5.12471655e-01 1.87500000e-01]\n",
            " [1.00000000e+00 2.60586319e-02 0.00000000e+00 ... 3.25909492e-01\n",
            "  4.79258370e-01 6.25000000e-01]\n",
            " [1.00000000e+00 1.10749186e-01 0.00000000e+00 ... 1.59143272e-01\n",
            "  3.48406029e-01 7.81250000e-01]]\n"
          ],
          "name": "stdout"
        }
      ]
    },
    {
      "cell_type": "markdown",
      "metadata": {
        "id": "Z0SbCjKAouO_"
      },
      "source": [
        "# **Pemodelan KNN**\n",
        "\n",
        "### Ide Dasar\n",
        "Mengklasifikasikan sebuah data ke dalam sebuah kelas didasarkan pada tetangga terdekatnya\n",
        "\n",
        "### Algoritma KNN\n",
        "Klasifikasi dengan algoritma KNN dilakukan dengan langkah-langkah berikut:\n",
        "1. Menghitung jarak antara data uji dan masing-masing data latih\n",
        "2. Mengurutkan jarak dari terdekat hingga terjauh\n",
        "3. Mengambil sejumlah k teratas dari vektor jarak(Tetangga)\n",
        "4. Mengambil kelas yang paling sering muncul pada baris yang dipilih\n",
        "5. Memilih kelas dari data prediksi\n",
        "\n",
        "### Kelebihan\n",
        "Fase pelatihan klasifikasi tetangga terdekat K jauh lebih cepat dibandingkan dengan algoritma klasifikasi lainnya. Tidak perlu melatih model untuk generalisasi, itulah sebabnya KNN dikenal sebagai algoritma pembelajaran sederhana dan berbasis instans. KNN dapat berguna dalam kasus data nonlinier. Ini bisa digunakan dengan masalah regresi. Nilai output untuk objek dihitung dengan rata-rata nilai k tetangga terdekat.\n",
        "\n",
        "### Kekurangan\n",
        "Fase pengujian klasifikasi K-terdekat tetangga lebih lambat dan lebih mahal dalam hal waktu dan memori. Ini membutuhkan memori yang besar untuk menyimpan seluruh set data pelatihan untuk prediksi. KNN memerlukan penskalaan data karena KNN menggunakan jarak Euclidean antara dua titik data untuk menemukan tetangga terdekat. Jarak euclidean sensitif terhadap magnitudo. Fitur dengan magnitudo tinggi akan lebih berbobot daripada fitur dengan magnitudo rendah. KNN juga tidak cocok untuk data berdimensi besar.\n",
        "\n",
        "### Meningkatkan KNN\n",
        "Untuk hasil yang lebih baik, sangat disarankan untuk menormalkan data pada skala yang sama. Umumnya, rentang normalisasi dianggap antara 0 dan 1. KNN tidak cocok untuk data berdimensi besar. Dalam kasus seperti itu, dimensi perlu dikurangi untuk meningkatkan kinerja. Selain itu, menangani nilai yang hilang akan membantu kami meningkatkan hasil."
      ]
    },
    {
      "cell_type": "markdown",
      "metadata": {
        "id": "UbHCMNjjrgU9"
      },
      "source": [
        "Data untuk pelatihan dan pengujian Untuk memilih sekumpulan data pelatihan yang akan diinput dalam algoritma Machine Learning, untuk memastikan bahwa pelatihan algoritma klasifikasi dapat digeneralisasikan dengan baik ke data baru. Untuk penelitian ini menggunakan ukuran sampel 10% ( bertujuan untuk mengurangi efek overfitting)."
      ]
    },
    {
      "cell_type": "markdown",
      "metadata": {
        "id": "zGTp8jGRotu5"
      },
      "source": [
        "## Memprediksi Kasus Kematian baru covid 19 dengan Model KNN"
      ]
    },
    {
      "cell_type": "code",
      "metadata": {
        "id": "2ZqE6jTEfKD7"
      },
      "source": [
        "from sklearn.model_selection import train_test_split\n",
        "y4 = data['New Deaths']\n",
        "x4 = data.drop(columns=['New Deaths'])\n",
        "x4_train, x4_test, y4_train, y4_test = train_test_split(x4, y4, test_size=0.1, random_state=9)"
      ],
      "execution_count": 50,
      "outputs": []
    },
    {
      "cell_type": "code",
      "metadata": {
        "colab": {
          "base_uri": "https://localhost:8080/",
          "height": 436
        },
        "id": "m_SZQi7QfKAR",
        "outputId": "3a91d799-e4dd-4202-e448-7f920aec9773"
      },
      "source": [
        "from sklearn.neighbors import KNeighborsClassifier\n",
        "# Mendefinisikan model\n",
        "prediksi = KNeighborsClassifier(n_neighbors = 24)\n",
        "\n",
        "# Menguji model\n",
        "prediksi.fit(x4_train, y4_train)\n",
        "\n",
        "# Memprediksi\n",
        "y4_predict = prediksi.predict(x4_test)\n",
        "\n",
        "x4_test"
      ],
      "execution_count": 51,
      "outputs": [
        {
          "output_type": "execute_result",
          "data": {
            "text/html": [
              "<div>\n",
              "<style scoped>\n",
              "    .dataframe tbody tr th:only-of-type {\n",
              "        vertical-align: middle;\n",
              "    }\n",
              "\n",
              "    .dataframe tbody tr th {\n",
              "        vertical-align: top;\n",
              "    }\n",
              "\n",
              "    .dataframe thead th {\n",
              "        text-align: right;\n",
              "    }\n",
              "</style>\n",
              "<table border=\"1\" class=\"dataframe\">\n",
              "  <thead>\n",
              "    <tr style=\"text-align: right;\">\n",
              "      <th></th>\n",
              "      <th>Date</th>\n",
              "      <th>New Cases</th>\n",
              "      <th>New Recovered</th>\n",
              "      <th>New Active Cases</th>\n",
              "      <th>Total Cases</th>\n",
              "      <th>Total Deaths</th>\n",
              "      <th>Total Recovered</th>\n",
              "      <th>Total Active Cases</th>\n",
              "      <th>Province</th>\n",
              "    </tr>\n",
              "  </thead>\n",
              "  <tbody>\n",
              "    <tr>\n",
              "      <th>1890</th>\n",
              "      <td>125</td>\n",
              "      <td>16</td>\n",
              "      <td>0</td>\n",
              "      <td>16</td>\n",
              "      <td>321</td>\n",
              "      <td>6</td>\n",
              "      <td>49</td>\n",
              "      <td>266</td>\n",
              "      <td>22</td>\n",
              "    </tr>\n",
              "    <tr>\n",
              "      <th>12369</th>\n",
              "      <td>433</td>\n",
              "      <td>0</td>\n",
              "      <td>9</td>\n",
              "      <td>-9</td>\n",
              "      <td>15216</td>\n",
              "      <td>498</td>\n",
              "      <td>12229</td>\n",
              "      <td>2489</td>\n",
              "      <td>29</td>\n",
              "    </tr>\n",
              "    <tr>\n",
              "      <th>1152</th>\n",
              "      <td>103</td>\n",
              "      <td>2</td>\n",
              "      <td>1</td>\n",
              "      <td>0</td>\n",
              "      <td>83</td>\n",
              "      <td>11</td>\n",
              "      <td>14</td>\n",
              "      <td>58</td>\n",
              "      <td>32</td>\n",
              "    </tr>\n",
              "    <tr>\n",
              "      <th>9699</th>\n",
              "      <td>355</td>\n",
              "      <td>21</td>\n",
              "      <td>40</td>\n",
              "      <td>-19</td>\n",
              "      <td>15102</td>\n",
              "      <td>575</td>\n",
              "      <td>13547</td>\n",
              "      <td>980</td>\n",
              "      <td>11</td>\n",
              "    </tr>\n",
              "    <tr>\n",
              "      <th>8772</th>\n",
              "      <td>328</td>\n",
              "      <td>19</td>\n",
              "      <td>18</td>\n",
              "      <td>0</td>\n",
              "      <td>1842</td>\n",
              "      <td>78</td>\n",
              "      <td>1449</td>\n",
              "      <td>315</td>\n",
              "      <td>3</td>\n",
              "    </tr>\n",
              "    <tr>\n",
              "      <th>...</th>\n",
              "      <td>...</td>\n",
              "      <td>...</td>\n",
              "      <td>...</td>\n",
              "      <td>...</td>\n",
              "      <td>...</td>\n",
              "      <td>...</td>\n",
              "      <td>...</td>\n",
              "      <td>...</td>\n",
              "      <td>...</td>\n",
              "    </tr>\n",
              "    <tr>\n",
              "      <th>14078</th>\n",
              "      <td>484</td>\n",
              "      <td>229</td>\n",
              "      <td>319</td>\n",
              "      <td>-95</td>\n",
              "      <td>40601</td>\n",
              "      <td>992</td>\n",
              "      <td>36340</td>\n",
              "      <td>3269</td>\n",
              "      <td>5</td>\n",
              "    </tr>\n",
              "    <tr>\n",
              "      <th>8289</th>\n",
              "      <td>313</td>\n",
              "      <td>100</td>\n",
              "      <td>37</td>\n",
              "      <td>61</td>\n",
              "      <td>6061</td>\n",
              "      <td>227</td>\n",
              "      <td>4959</td>\n",
              "      <td>875</td>\n",
              "      <td>29</td>\n",
              "    </tr>\n",
              "    <tr>\n",
              "      <th>2424</th>\n",
              "      <td>141</td>\n",
              "      <td>6</td>\n",
              "      <td>0</td>\n",
              "      <td>6</td>\n",
              "      <td>334</td>\n",
              "      <td>17</td>\n",
              "      <td>151</td>\n",
              "      <td>166</td>\n",
              "      <td>12</td>\n",
              "    </tr>\n",
              "    <tr>\n",
              "      <th>16189</th>\n",
              "      <td>546</td>\n",
              "      <td>8591</td>\n",
              "      <td>3719</td>\n",
              "      <td>4804</td>\n",
              "      <td>425208</td>\n",
              "      <td>5712</td>\n",
              "      <td>340461</td>\n",
              "      <td>79035</td>\n",
              "      <td>7</td>\n",
              "    </tr>\n",
              "    <tr>\n",
              "      <th>7571</th>\n",
              "      <td>292</td>\n",
              "      <td>1</td>\n",
              "      <td>0</td>\n",
              "      <td>1</td>\n",
              "      <td>988</td>\n",
              "      <td>12</td>\n",
              "      <td>784</td>\n",
              "      <td>192</td>\n",
              "      <td>25</td>\n",
              "    </tr>\n",
              "  </tbody>\n",
              "</table>\n",
              "<p>1629 rows × 9 columns</p>\n",
              "</div>"
            ],
            "text/plain": [
              "       Date  New Cases  ...  Total Active Cases  Province\n",
              "1890    125         16  ...                 266        22\n",
              "12369   433          0  ...                2489        29\n",
              "1152    103          2  ...                  58        32\n",
              "9699    355         21  ...                 980        11\n",
              "8772    328         19  ...                 315         3\n",
              "...     ...        ...  ...                 ...       ...\n",
              "14078   484        229  ...                3269         5\n",
              "8289    313        100  ...                 875        29\n",
              "2424    141          6  ...                 166        12\n",
              "16189   546       8591  ...               79035         7\n",
              "7571    292          1  ...                 192        25\n",
              "\n",
              "[1629 rows x 9 columns]"
            ]
          },
          "metadata": {
            "tags": []
          },
          "execution_count": 51
        }
      ]
    },
    {
      "cell_type": "markdown",
      "metadata": {
        "id": "CVPCWMknjI-j"
      },
      "source": [
        "## Melihat tingkat akurasi prediksi"
      ]
    },
    {
      "cell_type": "code",
      "metadata": {
        "id": "GP5Rm4EIof79"
      },
      "source": [
        "y = data['New Deaths']\n",
        "x_data= data.drop(columns=['New Deaths'])"
      ],
      "execution_count": 41,
      "outputs": []
    },
    {
      "cell_type": "code",
      "metadata": {
        "id": "v9EFFuWXo6Wr"
      },
      "source": [
        "x = (x_data - np.min(x_data)) / (np.max(x_data) - np.min(x_data)).values"
      ],
      "execution_count": 42,
      "outputs": []
    },
    {
      "cell_type": "code",
      "metadata": {
        "id": "eCrDpKDjpFSL"
      },
      "source": [
        "# Membagi data menjadi data latih dan data uji\n",
        "x_train, x_test, y_train, y_test = train_test_split(x,y,test_size = 0.1,random_state=9)"
      ],
      "execution_count": 43,
      "outputs": []
    },
    {
      "cell_type": "code",
      "metadata": {
        "id": "DF_MU_CMpJP1"
      },
      "source": [
        "x_train = x_train.T\n",
        "y_train = y_train.T\n",
        "x_test = x_test.T\n",
        "y_test = y_test.T"
      ],
      "execution_count": 44,
      "outputs": []
    },
    {
      "cell_type": "code",
      "metadata": {
        "colab": {
          "base_uri": "https://localhost:8080/"
        },
        "id": "1tjApSpdpLz_",
        "outputId": "ef5d9cb2-e4f3-48dd-d65b-581d4bd88f49"
      },
      "source": [
        "knn = KNeighborsClassifier(n_neighbors = 7)  # menentukan nilai k \n",
        "knn.fit(x_train.T, y_train.T)\n",
        "prediction = knn.predict(x_test.T)\n",
        "\n",
        "print(\"{} NN Score: {:.2f}%\".format(7, knn.score(x_test.T, y_test.T)*100))"
      ],
      "execution_count": 45,
      "outputs": [
        {
          "output_type": "stream",
          "text": [
            "7 NN Score: 46.90%\n"
          ],
          "name": "stdout"
        }
      ]
    },
    {
      "cell_type": "code",
      "metadata": {
        "colab": {
          "base_uri": "https://localhost:8080/",
          "height": 302
        },
        "id": "qQpDWzaGpRAM",
        "outputId": "1d02de63-9481-4ef2-d81f-4f3648ac52b5"
      },
      "source": [
        "accuracies = {}\n",
        "scoreList = []\n",
        "for i in range(1,30):\n",
        "    knn2 = KNeighborsClassifier(n_neighbors = i)  # menentukan nilai k\n",
        "    knn2.fit(x_train.T, y_train.T)\n",
        "    scoreList.append(knn2.score(x_test.T, y_test.T))\n",
        "    \n",
        "plt.plot(range(1,30), scoreList)\n",
        "plt.xticks(np.arange(1,30,1))\n",
        "plt.xlabel(\"K value\")\n",
        "plt.ylabel(\"Score\")\n",
        "plt.show()\n",
        "\n",
        "acc = max(scoreList)*100\n",
        "accuracies['KNN'] = acc\n",
        "print(\"Skor maksimum KNN adalah {:.2f}%\".format(acc))"
      ],
      "execution_count": 46,
      "outputs": [
        {
          "output_type": "display_data",
          "data": {
            "image/png": "[encoded data removed]",
            "text/plain": [
              "<Figure size 432x288 with 1 Axes>"
            ]
          },
          "metadata": {
            "tags": []
          }
        },
        {
          "output_type": "stream",
          "text": [
            "Maximum KNN Score is 48.37%\n"
          ],
          "name": "stdout"
        }
      ]
    },
    {
      "cell_type": "markdown",
      "metadata": {
        "id": "TZVnD1i-suD0"
      },
      "source": [
        "dapat dilihat bahwa untuk k=24 adalah yang mempunyai akurasi terbaik yaitu 48,37%"
      ]
    },
    {
      "cell_type": "markdown",
      "metadata": {
        "id": "wEwEhfeVq9gs"
      },
      "source": [
        "## *Confusion Matrix*"
      ]
    },
    {
      "cell_type": "code",
      "metadata": {
        "id": "o3JvfbPzqi4m",
        "colab": {
          "base_uri": "https://localhost:8080/"
        },
        "outputId": "df7804c9-d083-44f9-aa4b-e538467ae5f4"
      },
      "source": [
        "confusion_matrix(y_test,prediction)"
      ],
      "execution_count": 47,
      "outputs": [
        {
          "output_type": "execute_result",
          "data": {
            "text/plain": [
              "array([[665,  53,  17, ...,   0,   0,   0],\n",
              "       [157,  41,  22, ...,   0,   0,   0],\n",
              "       [ 63,  25,  22, ...,   0,   0,   0],\n",
              "       ...,\n",
              "       [  0,   0,   0, ...,   0,   0,   0],\n",
              "       [  0,   0,   0, ...,   0,   0,   0],\n",
              "       [  0,   0,   0, ...,   0,   0,   0]])"
            ]
          },
          "metadata": {
            "tags": []
          },
          "execution_count": 47
        }
      ]
    },
    {
      "cell_type": "markdown",
      "metadata": {
        "id": "WeLfFrLOobqa"
      },
      "source": [
        "## Memprediksi Kasus baru covid 19 dengan Model KNN"
      ]
    },
    {
      "cell_type": "code",
      "metadata": {
        "id": "Vq5VlLlHxG1t"
      },
      "source": [
        "from sklearn.model_selection import train_test_split\n",
        "y3 = data['New Cases']\n",
        "x3 = data.drop(columns=['New Cases'])\n",
        "x3_train, x3_test, y3_train, y3_test = train_test_split(x3, y3, test_size=0.1, random_state=9)"
      ],
      "execution_count": 48,
      "outputs": []
    },
    {
      "cell_type": "code",
      "metadata": {
        "colab": {
          "base_uri": "https://localhost:8080/",
          "height": 436
        },
        "id": "tpADOXs6woxD",
        "outputId": "8f9621df-4174-4c99-f2ef-afb1d3c36db2"
      },
      "source": [
        "from sklearn.neighbors import KNeighborsClassifier\n",
        "# Mendefinisikan model\n",
        "prediksi = KNeighborsClassifier(n_neighbors = 3)\n",
        "\n",
        "# Menguji model\n",
        "prediksi.fit(x3_train, y3_train)\n",
        "\n",
        "# Memprediksi\n",
        "y3_predict = prediksi.predict(x3_test)\n",
        "\n",
        "x3_test"
      ],
      "execution_count": 49,
      "outputs": [
        {
          "output_type": "execute_result",
          "data": {
            "text/html": [
              "<div>\n",
              "<style scoped>\n",
              "    .dataframe tbody tr th:only-of-type {\n",
              "        vertical-align: middle;\n",
              "    }\n",
              "\n",
              "    .dataframe tbody tr th {\n",
              "        vertical-align: top;\n",
              "    }\n",
              "\n",
              "    .dataframe thead th {\n",
              "        text-align: right;\n",
              "    }\n",
              "</style>\n",
              "<table border=\"1\" class=\"dataframe\">\n",
              "  <thead>\n",
              "    <tr style=\"text-align: right;\">\n",
              "      <th></th>\n",
              "      <th>Date</th>\n",
              "      <th>New Deaths</th>\n",
              "      <th>New Recovered</th>\n",
              "      <th>New Active Cases</th>\n",
              "      <th>Total Cases</th>\n",
              "      <th>Total Deaths</th>\n",
              "      <th>Total Recovered</th>\n",
              "      <th>Total Active Cases</th>\n",
              "      <th>Province</th>\n",
              "    </tr>\n",
              "  </thead>\n",
              "  <tbody>\n",
              "    <tr>\n",
              "      <th>1890</th>\n",
              "      <td>125</td>\n",
              "      <td>0</td>\n",
              "      <td>0</td>\n",
              "      <td>16</td>\n",
              "      <td>321</td>\n",
              "      <td>6</td>\n",
              "      <td>49</td>\n",
              "      <td>266</td>\n",
              "      <td>22</td>\n",
              "    </tr>\n",
              "    <tr>\n",
              "      <th>12369</th>\n",
              "      <td>433</td>\n",
              "      <td>0</td>\n",
              "      <td>9</td>\n",
              "      <td>-9</td>\n",
              "      <td>15216</td>\n",
              "      <td>498</td>\n",
              "      <td>12229</td>\n",
              "      <td>2489</td>\n",
              "      <td>29</td>\n",
              "    </tr>\n",
              "    <tr>\n",
              "      <th>1152</th>\n",
              "      <td>103</td>\n",
              "      <td>1</td>\n",
              "      <td>1</td>\n",
              "      <td>0</td>\n",
              "      <td>83</td>\n",
              "      <td>11</td>\n",
              "      <td>14</td>\n",
              "      <td>58</td>\n",
              "      <td>32</td>\n",
              "    </tr>\n",
              "    <tr>\n",
              "      <th>9699</th>\n",
              "      <td>355</td>\n",
              "      <td>0</td>\n",
              "      <td>40</td>\n",
              "      <td>-19</td>\n",
              "      <td>15102</td>\n",
              "      <td>575</td>\n",
              "      <td>13547</td>\n",
              "      <td>980</td>\n",
              "      <td>11</td>\n",
              "    </tr>\n",
              "    <tr>\n",
              "      <th>8772</th>\n",
              "      <td>328</td>\n",
              "      <td>1</td>\n",
              "      <td>18</td>\n",
              "      <td>0</td>\n",
              "      <td>1842</td>\n",
              "      <td>78</td>\n",
              "      <td>1449</td>\n",
              "      <td>315</td>\n",
              "      <td>3</td>\n",
              "    </tr>\n",
              "    <tr>\n",
              "      <th>...</th>\n",
              "      <td>...</td>\n",
              "      <td>...</td>\n",
              "      <td>...</td>\n",
              "      <td>...</td>\n",
              "      <td>...</td>\n",
              "      <td>...</td>\n",
              "      <td>...</td>\n",
              "      <td>...</td>\n",
              "      <td>...</td>\n",
              "    </tr>\n",
              "    <tr>\n",
              "      <th>14078</th>\n",
              "      <td>484</td>\n",
              "      <td>5</td>\n",
              "      <td>319</td>\n",
              "      <td>-95</td>\n",
              "      <td>40601</td>\n",
              "      <td>992</td>\n",
              "      <td>36340</td>\n",
              "      <td>3269</td>\n",
              "      <td>5</td>\n",
              "    </tr>\n",
              "    <tr>\n",
              "      <th>8289</th>\n",
              "      <td>313</td>\n",
              "      <td>2</td>\n",
              "      <td>37</td>\n",
              "      <td>61</td>\n",
              "      <td>6061</td>\n",
              "      <td>227</td>\n",
              "      <td>4959</td>\n",
              "      <td>875</td>\n",
              "      <td>29</td>\n",
              "    </tr>\n",
              "    <tr>\n",
              "      <th>2424</th>\n",
              "      <td>141</td>\n",
              "      <td>0</td>\n",
              "      <td>0</td>\n",
              "      <td>6</td>\n",
              "      <td>334</td>\n",
              "      <td>17</td>\n",
              "      <td>151</td>\n",
              "      <td>166</td>\n",
              "      <td>12</td>\n",
              "    </tr>\n",
              "    <tr>\n",
              "      <th>16189</th>\n",
              "      <td>546</td>\n",
              "      <td>68</td>\n",
              "      <td>3719</td>\n",
              "      <td>4804</td>\n",
              "      <td>425208</td>\n",
              "      <td>5712</td>\n",
              "      <td>340461</td>\n",
              "      <td>79035</td>\n",
              "      <td>7</td>\n",
              "    </tr>\n",
              "    <tr>\n",
              "      <th>7571</th>\n",
              "      <td>292</td>\n",
              "      <td>0</td>\n",
              "      <td>0</td>\n",
              "      <td>1</td>\n",
              "      <td>988</td>\n",
              "      <td>12</td>\n",
              "      <td>784</td>\n",
              "      <td>192</td>\n",
              "      <td>25</td>\n",
              "    </tr>\n",
              "  </tbody>\n",
              "</table>\n",
              "<p>1629 rows × 9 columns</p>\n",
              "</div>"
            ],
            "text/plain": [
              "       Date  New Deaths  ...  Total Active Cases  Province\n",
              "1890    125           0  ...                 266        22\n",
              "12369   433           0  ...                2489        29\n",
              "1152    103           1  ...                  58        32\n",
              "9699    355           0  ...                 980        11\n",
              "8772    328           1  ...                 315         3\n",
              "...     ...         ...  ...                 ...       ...\n",
              "14078   484           5  ...                3269         5\n",
              "8289    313           2  ...                 875        29\n",
              "2424    141           0  ...                 166        12\n",
              "16189   546          68  ...               79035         7\n",
              "7571    292           0  ...                 192        25\n",
              "\n",
              "[1629 rows x 9 columns]"
            ]
          },
          "metadata": {
            "tags": []
          },
          "execution_count": 49
        }
      ]
    },
    {
      "cell_type": "markdown",
      "metadata": {
        "id": "GfRthELzjWb0"
      },
      "source": [
        "## Melihat tingkat akurasi prediksi"
      ]
    },
    {
      "cell_type": "code",
      "metadata": {
        "id": "V3B1qjA-jbhR"
      },
      "source": [
        "y1 = data['New Cases']\n",
        "x1_data= data.drop(columns=['New Cases'])"
      ],
      "execution_count": 57,
      "outputs": []
    },
    {
      "cell_type": "code",
      "metadata": {
        "id": "GVUo-7wnji3h"
      },
      "source": [
        "x1 = (x1_data - np.min(x1_data)) / (np.max(x1_data) - np.min(x1_data)).values"
      ],
      "execution_count": 58,
      "outputs": []
    },
    {
      "cell_type": "code",
      "metadata": {
        "id": "uDNalWaljnek"
      },
      "source": [
        "# Membagi data menjadi data latih dan data uji\n",
        "x1_train, x1_test, y1_train, y1_test = train_test_split(x1,y1,test_size = 0.1,random_state=9)"
      ],
      "execution_count": 59,
      "outputs": []
    },
    {
      "cell_type": "code",
      "metadata": {
        "id": "fhoL41B7ku7p"
      },
      "source": [
        "x1_train = x1_train.T\n",
        "y1_train = y1_train.T\n",
        "x1_test = x1_test.T\n",
        "y1_test = y1_test.T"
      ],
      "execution_count": 61,
      "outputs": []
    },
    {
      "cell_type": "code",
      "metadata": {
        "colab": {
          "base_uri": "https://localhost:8080/"
        },
        "id": "8a-kH3Uijsmi",
        "outputId": "ba708a64-64b0-470e-aee1-c5a89b44d5ab"
      },
      "source": [
        "knn = KNeighborsClassifier(n_neighbors = 7)  # menentukan nilai k\n",
        "knn.fit(x1_train.T, y1_train.T)\n",
        "prediction = knn.predict(x1_test.T)\n",
        "\n",
        "print(\"{} NN Score: {:.2f}%\".format(7, knn.score(x1_test.T, y1_test.T)*100))"
      ],
      "execution_count": 62,
      "outputs": [
        {
          "output_type": "stream",
          "text": [
            "7 NN Score: 11.23%\n"
          ],
          "name": "stdout"
        }
      ]
    },
    {
      "cell_type": "code",
      "metadata": {
        "colab": {
          "base_uri": "https://localhost:8080/",
          "height": 302
        },
        "id": "KBcQB7AhkEfQ",
        "outputId": "d6bfae87-f50e-4133-9068-471f23adae85"
      },
      "source": [
        "accuracies = {}\n",
        "scoreList = []\n",
        "for i in range(1,30):\n",
        "    knn3 = KNeighborsClassifier(n_neighbors = i)  # menentukan nilai k\n",
        "    knn3.fit(x1_train.T, y1_train.T)\n",
        "    scoreList.append(knn3.score(x1_test.T, y1_test.T))\n",
        "    \n",
        "plt.plot(range(1,30), scoreList)\n",
        "plt.xticks(np.arange(1,30,1))\n",
        "plt.xlabel(\"K value\")\n",
        "plt.ylabel(\"Score\")\n",
        "plt.show()\n",
        "\n",
        "acc = max(scoreList)*100\n",
        "accuracies['KNN'] = acc\n",
        "print(\"Skor maksimum KNN adalah {:.2f}%\".format(acc))"
      ],
      "execution_count": 64,
      "outputs": [
        {
          "output_type": "display_data",
          "data": {
            "image/png": "[encoded data removed]",
            "text/plain": [
              "<Figure size 432x288 with 1 Axes>"
            ]
          },
          "metadata": {
            "tags": []
          }
        },
        {
          "output_type": "stream",
          "text": [
            "Maximum KNN Score is 11.97%\n"
          ],
          "name": "stdout"
        }
      ]
    },
    {
      "cell_type": "markdown",
      "metadata": {
        "id": "mUEAc8q1l8xZ"
      },
      "source": [
        "dapat dilihat bahwa untuk k=22 adalah yang mempunyai akurasi terbaik yaitu 11,97%"
      ]
    },
    {
      "cell_type": "markdown",
      "metadata": {
        "id": "mqZ6KXormFFa"
      },
      "source": [
        "## Confusion Matrix"
      ]
    },
    {
      "cell_type": "code",
      "metadata": {
        "colab": {
          "base_uri": "https://localhost:8080/"
        },
        "id": "L813XMZakglr",
        "outputId": "7f0321e6-a019-4f1f-bb07-3021c3caf09c"
      },
      "source": [
        "confusion_matrix(y1_test,prediction)"
      ],
      "execution_count": 65,
      "outputs": [
        {
          "output_type": "execute_result",
          "data": {
            "text/plain": [
              "array([[158,   9,   2, ...,   0,   0,   0],\n",
              "       [ 49,   8,   6, ...,   0,   0,   0],\n",
              "       [ 22,   7,   1, ...,   0,   0,   0],\n",
              "       ...,\n",
              "       [  0,   0,   0, ...,   0,   0,   0],\n",
              "       [  0,   0,   0, ...,   0,   0,   0],\n",
              "       [  0,   0,   0, ...,   1,   0,   0]])"
            ]
          },
          "metadata": {
            "tags": []
          },
          "execution_count": 65
        }
      ]
    },
    {
      "cell_type": "markdown",
      "metadata": {
        "id": "Zawy7NxLo1ZU"
      },
      "source": [
        "## Hasil Prediksi"
      ]
    },
    {
      "cell_type": "code",
      "metadata": {
        "colab": {
          "base_uri": "https://localhost:8080/",
          "height": 419
        },
        "id": "A30uoxcCxR89",
        "outputId": "a27056cc-a437-48d9-c0ab-806664064c7c"
      },
      "source": [
        "#Membuat Dataframe hasil prediksi\n",
        "submission = pd.DataFrame({'New Cases':y3_predict,'New Deaths':y4_predict})\n",
        "                      \n",
        "#Menampilkan data\n",
        "submission.head(100)"
      ],
      "execution_count": 66,
      "outputs": [
        {
          "output_type": "execute_result",
          "data": {
            "text/html": [
              "<div>\n",
              "<style scoped>\n",
              "    .dataframe tbody tr th:only-of-type {\n",
              "        vertical-align: middle;\n",
              "    }\n",
              "\n",
              "    .dataframe tbody tr th {\n",
              "        vertical-align: top;\n",
              "    }\n",
              "\n",
              "    .dataframe thead th {\n",
              "        text-align: right;\n",
              "    }\n",
              "</style>\n",
              "<table border=\"1\" class=\"dataframe\">\n",
              "  <thead>\n",
              "    <tr style=\"text-align: right;\">\n",
              "      <th></th>\n",
              "      <th>New Cases</th>\n",
              "      <th>New Deaths</th>\n",
              "    </tr>\n",
              "  </thead>\n",
              "  <tbody>\n",
              "    <tr>\n",
              "      <th>0</th>\n",
              "      <td>3</td>\n",
              "      <td>0</td>\n",
              "    </tr>\n",
              "    <tr>\n",
              "      <th>1</th>\n",
              "      <td>4</td>\n",
              "      <td>0</td>\n",
              "    </tr>\n",
              "    <tr>\n",
              "      <th>2</th>\n",
              "      <td>0</td>\n",
              "      <td>0</td>\n",
              "    </tr>\n",
              "    <tr>\n",
              "      <th>3</th>\n",
              "      <td>45</td>\n",
              "      <td>2</td>\n",
              "    </tr>\n",
              "    <tr>\n",
              "      <th>4</th>\n",
              "      <td>2</td>\n",
              "      <td>0</td>\n",
              "    </tr>\n",
              "    <tr>\n",
              "      <th>...</th>\n",
              "      <td>...</td>\n",
              "      <td>...</td>\n",
              "    </tr>\n",
              "    <tr>\n",
              "      <th>95</th>\n",
              "      <td>6</td>\n",
              "      <td>0</td>\n",
              "    </tr>\n",
              "    <tr>\n",
              "      <th>96</th>\n",
              "      <td>343</td>\n",
              "      <td>7</td>\n",
              "    </tr>\n",
              "    <tr>\n",
              "      <th>97</th>\n",
              "      <td>0</td>\n",
              "      <td>0</td>\n",
              "    </tr>\n",
              "    <tr>\n",
              "      <th>98</th>\n",
              "      <td>49</td>\n",
              "      <td>0</td>\n",
              "    </tr>\n",
              "    <tr>\n",
              "      <th>99</th>\n",
              "      <td>2091</td>\n",
              "      <td>20</td>\n",
              "    </tr>\n",
              "  </tbody>\n",
              "</table>\n",
              "<p>100 rows × 2 columns</p>\n",
              "</div>"
            ],
            "text/plain": [
              "    New Cases  New Deaths\n",
              "0           3           0\n",
              "1           4           0\n",
              "2           0           0\n",
              "3          45           2\n",
              "4           2           0\n",
              "..        ...         ...\n",
              "95          6           0\n",
              "96        343           7\n",
              "97          0           0\n",
              "98         49           0\n",
              "99       2091          20\n",
              "\n",
              "[100 rows x 2 columns]"
            ]
          },
          "metadata": {
            "tags": []
          },
          "execution_count": 66
        }
      ]
    }
  ]
}